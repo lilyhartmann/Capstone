{
  "cells": [
    {
      "cell_type": "markdown",
      "metadata": {
        "id": "POQBWaw1KygQ"
      },
      "source": [
        "# Imports\n"
      ]
    },
    {
      "cell_type": "code",
      "execution_count": 1,
      "metadata": {
        "id": "zvTGda6MKynF"
      },
      "outputs": [],
      "source": [
        "# for dataframes\n",
        "import pandas as pd\n",
        "import numpy as np\n",
        "from datetime import datetime, date, timedelta\n",
        "from scipy import stats\n",
        "\n",
        "# for web scraping\n",
        "import requests\n",
        "from bs4 import BeautifulSoup\n",
        "import json\n",
        "from pathlib import Path\n",
        "\n",
        "# for plotting\n",
        "import seaborn as sns\n",
        "import matplotlib.pyplot as plt\n",
        "\n",
        "# for data balance\n",
        "from imblearn.over_sampling import SMOTE"
      ]
    },
    {
      "cell_type": "code",
      "execution_count": 2,
      "metadata": {
        "id": "jhE1oyTO8BI3"
      },
      "outputs": [],
      "source": [
        "# for preprocessing\n",
        "from sklearn.preprocessing import StandardScaler\n",
        "from sklearn.model_selection import train_test_split\n",
        "from sklearn.preprocessing import label_binarize, OneHotEncoder\n",
        "from sklearn.multiclass import OneVsRestClassifier\n",
        "from sklearn.preprocessing import LabelEncoder\n",
        "\n",
        "# models\n",
        "from sklearn.tree import DecisionTreeClassifier\n",
        "from sklearn.ensemble import RandomForestClassifier\n",
        "from sklearn.neighbors import KNeighborsClassifier\n",
        "from xgboost import XGBClassifier\n",
        "\n",
        "# scoring\n",
        "from sklearn.metrics import accuracy_score, precision_score, recall_score, auc, f1_score\n",
        "from sklearn.metrics import precision_recall_curve, roc_curve\n",
        "from sklearn.metrics import PrecisionRecallDisplay\n",
        "from sklearn.metrics import make_scorer\n",
        "from sklearn.metrics import average_precision_score, auc\n",
        "\n",
        "# for hyperparameter\n",
        "from sklearn.model_selection import GridSearchCV\n",
        "from sklearn.model_selection import RandomizedSearchCV"
      ]
    },
    {
      "cell_type": "markdown",
      "metadata": {
        "id": "XlbuiqJ6K4LQ"
      },
      "source": [
        "# Initial Data Prep"
      ]
    },
    {
      "cell_type": "markdown",
      "metadata": {
        "id": "tmKp6VmUK7sg"
      },
      "source": [
        "**Read in initial data**"
      ]
    },
    {
      "cell_type": "code",
      "execution_count": null,
      "metadata": {
        "id": "J-3sbiLoK4P7"
      },
      "outputs": [],
      "source": [
        "# data = pd.read_csv(\"wildfire_data.csv\", low_memory = False)\n",
        "# data"
      ]
    },
    {
      "cell_type": "code",
      "execution_count": null,
      "metadata": {
        "id": "7LU-6MexLAiv"
      },
      "outputs": [],
      "source": [
        "# data.columns"
      ]
    },
    {
      "cell_type": "markdown",
      "metadata": {
        "id": "4GybWTuuLC3B"
      },
      "source": [
        "Create small subset to send."
      ]
    },
    {
      "cell_type": "code",
      "execution_count": null,
      "metadata": {
        "id": "MhIFqLuWLAlN"
      },
      "outputs": [],
      "source": [
        "# to_send = data.iloc[:500, :].reset_index()\n",
        "\n",
        "# # save to csv file\n",
        "# path = \"/Users/lmhartmann/Desktop/Weather/to_send.csv\"\n",
        "# data.to_csv(path)"
      ]
    },
    {
      "cell_type": "markdown",
      "metadata": {
        "id": "A7EZx0YtLFy1"
      },
      "source": [
        "Keep selected columns."
      ]
    },
    {
      "cell_type": "code",
      "execution_count": null,
      "metadata": {
        "id": "rLG4MXeLLAnm"
      },
      "outputs": [],
      "source": [
        "# to_keep = [\"LONGITUDE\", \"LATITUDE\", \"OBJECTID\",\n",
        "#            \"OWNER_DESCR\",\n",
        "#            \"FIRE_YEAR\", \"DISCOVERY_DATE\",\n",
        "#            \"DISCOVERY_DOY\", \"DISCOVERY_TIME\",\n",
        "#            \"NWCG_CAUSE_CLASSIFICATION\", \"CONT_DATE\",\n",
        "#            \"CONT_DOY\", \"CONT_TIME\",\n",
        "#            \"STATE\", \"COUNTY\", \"FIPS_CODE\", \"FIPS_NAME\", \"FIRE_SIZE\",\n",
        "#            \"FIRE_SIZE_CLASS\"]"
      ]
    },
    {
      "cell_type": "code",
      "execution_count": null,
      "metadata": {
        "id": "f63e14SoLApi"
      },
      "outputs": [],
      "source": [
        "# raw_data = data.copy()\n",
        "# data = data[to_keep].copy()\n",
        "# data"
      ]
    },
    {
      "cell_type": "markdown",
      "metadata": {
        "id": "LGq0ULuqLJSh"
      },
      "source": [
        "Select only Natural fires and USFS fires."
      ]
    },
    {
      "cell_type": "code",
      "execution_count": null,
      "metadata": {
        "id": "hmsSFlGRLAry"
      },
      "outputs": [],
      "source": [
        "# data = data.loc[(data[\"NWCG_CAUSE_CLASSIFICATION\"] == \"Natural\")]\n",
        "# data = data.loc[data[\"OWNER_DESCR\"] == \"USFS\"]"
      ]
    },
    {
      "cell_type": "markdown",
      "metadata": {
        "id": "mGp_avCmLN-g"
      },
      "source": [
        "Check datatypes and unique values."
      ]
    },
    {
      "cell_type": "code",
      "execution_count": null,
      "metadata": {
        "id": "PboWqWs8LPvF"
      },
      "outputs": [],
      "source": [
        "# data.dtypes"
      ]
    },
    {
      "cell_type": "code",
      "execution_count": null,
      "metadata": {
        "id": "50coFyI-LRoY"
      },
      "outputs": [],
      "source": [
        "# print(data[\"NWCG_CAUSE_CLASSIFICATION\"].unique())\n",
        "# print(len(data[\"STATE\"].unique()))\n",
        "# print(data[\"OWNER_DESCR\"].unique())"
      ]
    },
    {
      "cell_type": "markdown",
      "metadata": {
        "id": "d4EC8GkTLW3B"
      },
      "source": [
        "Reset index."
      ]
    },
    {
      "cell_type": "code",
      "execution_count": null,
      "metadata": {
        "id": "Xs3HMzfeLUGO"
      },
      "outputs": [],
      "source": [
        "# data = data.reset_index()\n",
        "# data"
      ]
    },
    {
      "cell_type": "markdown",
      "metadata": {
        "id": "T-m4Tc2mLYE1"
      },
      "source": [
        "Select further sumsbet of columns."
      ]
    },
    {
      "cell_type": "code",
      "execution_count": null,
      "metadata": {
        "id": "9K4E3gkpLcNz"
      },
      "outputs": [],
      "source": [
        "# # drop 'index', 'owner_descr', 'nwcg_cause_classification'\n",
        "# data = data.drop([\"index\", \"OWNER_DESCR\", \"NWCG_CAUSE_CLASSIFICATION\"], axis = 1)\n",
        "# data"
      ]
    },
    {
      "cell_type": "markdown",
      "metadata": {
        "id": "FvWQHwRcLdM8"
      },
      "source": [
        "Initial null check."
      ]
    },
    {
      "cell_type": "code",
      "execution_count": null,
      "metadata": {
        "id": "MwmRcjgbLewS"
      },
      "outputs": [],
      "source": [
        "# data.isnull().sum()"
      ]
    },
    {
      "cell_type": "code",
      "execution_count": null,
      "metadata": {
        "id": "3KmXf0qOLfqt"
      },
      "outputs": [],
      "source": [
        "# print(\"Percent Null: Discovery Time: \", 34/len(data)*100)\n",
        "# print(\"Percent Null: Cont Date: \", 3987/len(data)*100)\n",
        "# print(\"Percent Null: Cont Doy: \", 3987/len(data)*100)\n",
        "# print(\"Percent Null: Cont Time: \", 4412/len(data)*100)\n",
        "# print(\"Percent Null: County: \", 58658/len(data)*100)\n",
        "# print(\"Percent Null: Fips Code: \", 58658/len(data)*100)\n",
        "# print(\"Percent Null: Fips Name: \", 58658/len(data)*100)"
      ]
    },
    {
      "cell_type": "markdown",
      "metadata": {
        "id": "oJ2DY0GbLilf"
      },
      "source": [
        "Select portion of data and collect weather data and save."
      ]
    },
    {
      "cell_type": "code",
      "execution_count": null,
      "metadata": {
        "id": "dUx_dGejLgx7"
      },
      "outputs": [],
      "source": [
        "# df1 = data.iloc[:5000, :]\n",
        "# df2 = data.iloc[5001:10000, :].reset_index().drop([\"index\"], axis = 1)"
      ]
    },
    {
      "cell_type": "code",
      "execution_count": null,
      "metadata": {
        "id": "UweE-xHCLnCs"
      },
      "outputs": [],
      "source": [
        "# # get weather data\n",
        "\n",
        "# # initalize new dataframe\n",
        "# weather_df = pd.DataFrame(columns = [\"DISCOVERY_DATE\", \"TIME\", \"TEMPERATURE\",\n",
        "#                                      \"RELATIVE_HUMIDITY\", \"PRECIPITATION\", \"SURFACE_PRESSURE\",\n",
        "#                                      \"CLOUD_COVER\", \"WIND_SPEED_10M\", \"WIND_SPEED_100M\",\n",
        "#                                      \"WIND_GUSTS_10M\"])\n",
        "\n",
        "# # base website\n",
        "# url = \"https://archive-api.open-meteo.com/v1/archive?\"\n",
        "\n",
        "# # for loop through dataframe\n",
        "# for row in range(len(df1)):\n",
        "\n",
        "#     discov = datetime.strptime(str.rstrip(df1[\"DISCOVERY_DATE\"][row][0:19]), \"%Y/%m/%d %H:%M:%S\")\n",
        "#     prior = discov - timedelta(weeks = 2)\n",
        "#     # convert into strings\n",
        "#     discov_str = \"&end_date=\" + discov.strftime(\"%Y-%m-%d\")\n",
        "#     prior_str = \"&start_date=\" + prior.strftime(\"%Y-%m-%d\")\n",
        "\n",
        "#     long = \"&longitude=\" + str(df1[\"LONGITUDE\"][row])\n",
        "#     lat = \"latitude=\" + str(df1[\"LATITUDE\"][row])\n",
        "\n",
        "#     over_req = \"&hourly=temperature_2m,relative_humidity_2m,precipitation,surface_pressure,cloud_cover,wind_speed_10m,wind_speed_100m,wind_gusts_10m\"\n",
        "\n",
        "#     final_url = url + lat + long + prior_str + discov_str + over_req\n",
        "\n",
        "#     response = requests.get(final_url)\n",
        "#     soup = BeautifulSoup(response.content, \"html.parser\")\n",
        "\n",
        "#     site_json = json.loads(soup.text)\n",
        "\n",
        "#     # go through every day in the two weeks and pull following information\n",
        "#     time = site_json[\"hourly\"][\"time\"]\n",
        "#     temperature = site_json[\"hourly\"][\"temperature_2m\"]\n",
        "#     rel_hum = site_json[\"hourly\"][\"relative_humidity_2m\"]\n",
        "#     precip = site_json[\"hourly\"][\"precipitation\"]\n",
        "#     sur_pres = site_json[\"hourly\"][\"surface_pressure\"]\n",
        "#     cloud_cover = site_json[\"hourly\"][\"cloud_cover\"]\n",
        "#     wind_speed_10m = site_json[\"hourly\"][\"wind_speed_10m\"]\n",
        "#     wind_speed_100m = site_json[\"hourly\"][\"wind_speed_100m\"]\n",
        "#     wind_gusts_10m = site_json[\"hourly\"][\"wind_gusts_10m\"]\n",
        "\n",
        "#     for i in range(len(site_json[\"hourly\"][\"time\"])):\n",
        "#         row_to_add = [df1[\"DISCOVERY_DATE\"][row], time[i], temperature[i],\n",
        "#                       rel_hum[i], precip[i], sur_pres[i], cloud_cover[i],\n",
        "#                       wind_speed_10m[i], wind_speed_100m[i], wind_gusts_10m[i]]\n",
        "\n",
        "#         weather_df.loc[len(weather_df)] = row_to_add\n",
        "\n",
        "#     if (row % 50 == 0):\n",
        "#         print(\"Row: \", row)\n",
        "\n",
        "#     # save to csv file\n",
        "#     path = \"/Users/lmhartmann/Desktop/Weather/df1.csv\"\n",
        "#     weather_df.to_csv(path)"
      ]
    },
    {
      "cell_type": "markdown",
      "metadata": {
        "id": "5bbGxRe0LoN1"
      },
      "source": [
        "# Load in Weather Data and Created Merged Data"
      ]
    },
    {
      "cell_type": "code",
      "execution_count": null,
      "metadata": {
        "id": "3f1-Js6kLuAU"
      },
      "outputs": [],
      "source": [
        "# path = \"/Users/lmhartmann/Desktop/Weather/df1.csv\"\n",
        "# weather = pd.read_csv(path, low_memory = False)\n",
        "# weather"
      ]
    },
    {
      "cell_type": "markdown",
      "metadata": {
        "id": "ACwikxw8Lw4I"
      },
      "source": [
        "Add the 'fire_number' (id_value) to weather dataframe."
      ]
    },
    {
      "cell_type": "code",
      "execution_count": null,
      "metadata": {
        "id": "C0O786FFLuGo"
      },
      "outputs": [],
      "source": [
        "# # each fire now has 360 rows\n",
        "# # create new column and name 0 through 4999 identifying for each fire\n",
        "\n",
        "# weather[\"fire_number\"] = np.nan\n",
        "\n",
        "# i = 0\n",
        "# for row in range(len(weather)):\n",
        "\n",
        "#     weather[\"fire_number\"][row] = i\n",
        "\n",
        "#     if ((row + 1) % 360) == 0:\n",
        "#         i += 1\n",
        "\n",
        "# weather"
      ]
    },
    {
      "cell_type": "code",
      "execution_count": null,
      "metadata": {
        "id": "bqwVdumvLuJ6"
      },
      "outputs": [],
      "source": [
        "# # make weather to int\n",
        "# weather[\"fire_number\"] = weather[\"fire_number\"].astype(int)\n",
        "\n",
        "# # create \"fire_number\" equal to index\n",
        "# df1['fire_number'] = df1.index\n",
        "# df1"
      ]
    },
    {
      "cell_type": "markdown",
      "metadata": {
        "id": "9jrpH9qDL6as"
      },
      "source": [
        "Merge weather info with fire info."
      ]
    },
    {
      "cell_type": "code",
      "execution_count": null,
      "metadata": {
        "id": "a1Gk4GvyL8R6"
      },
      "outputs": [],
      "source": [
        "# # merge df1 and weather on \"fire_number\"\n",
        "# data = weather.merge(df1, on='fire_number')\n",
        "\n",
        "# data"
      ]
    },
    {
      "cell_type": "markdown",
      "metadata": {
        "id": "-dcT8tiWL_Op"
      },
      "source": [
        "### Save to create dataset we will work with"
      ]
    },
    {
      "cell_type": "markdown",
      "metadata": {
        "id": "xE70TCFEMC7E"
      },
      "source": [
        "Check for nulls."
      ]
    },
    {
      "cell_type": "code",
      "execution_count": null,
      "metadata": {
        "id": "Xz3rbbyBMENI"
      },
      "outputs": [],
      "source": [
        "# data.isnull().sum()"
      ]
    },
    {
      "cell_type": "code",
      "execution_count": null,
      "metadata": {
        "id": "XmyJdJKlMFn4"
      },
      "outputs": [],
      "source": [
        "# print(\"Percent Null: Cont Date: \", 1800/len(data)*100)\n",
        "# print(\"Percent Null: Cont Doy: \", 1800/len(data)*100)\n",
        "# print(\"Percent Null: Cont Time: \", 2160/len(data)*100)\n",
        "# print(\"Percent Null: County: \", 156240/len(data)*100)\n",
        "# print(\"Percent Null: Fips Code: \", 156240/len(data)*100)\n",
        "# print(\"Percent Null: Fips Name: \", 156240/len(data)*100)"
      ]
    },
    {
      "cell_type": "markdown",
      "metadata": {
        "id": "suYtqPW1MGkI"
      },
      "source": [
        "Further narrow columns."
      ]
    },
    {
      "cell_type": "code",
      "execution_count": null,
      "metadata": {
        "id": "ZRemIO-2MH7v"
      },
      "outputs": [],
      "source": [
        "# # decide to keep\n",
        "# to_keep = [\"LONGITUDE\", \"LATITUDE\",\n",
        "#            \"DISCOVERY_DATE_x\", \"TIME\", \"TEMPERATURE\",\n",
        "#            \"RELATIVE_HUMIDITY\", \"PRECIPITATION\", \"SURFACE_PRESSURE\",\n",
        "#            \"CLOUD_COVER\", \"WIND_SPEED_10M\", \"WIND_SPEED_100M\",\n",
        "#            \"WIND_GUSTS_10M\", \"STATE\",\n",
        "#            \"FIRE_SIZE\", \"FIRE_SIZE_CLASS\"]\n",
        "\n",
        "# data = data[to_keep].copy()\n",
        "# data"
      ]
    },
    {
      "cell_type": "markdown",
      "metadata": {
        "id": "R5e_jjLJMJMT"
      },
      "source": [
        "Export."
      ]
    },
    {
      "cell_type": "code",
      "execution_count": null,
      "metadata": {
        "id": "e2P9NDSeMJ83"
      },
      "outputs": [],
      "source": [
        "# # export\n",
        "# path = \"/Users/lmhartmann/Desktop/Capstone/data_merged.csv\"\n",
        "# data.to_csv(path)"
      ]
    },
    {
      "cell_type": "markdown",
      "metadata": {},
      "source": [
        "# Add More Columns"
      ]
    },
    {
      "cell_type": "markdown",
      "metadata": {},
      "source": [
        "## Altitude"
      ]
    },
    {
      "cell_type": "code",
      "execution_count": null,
      "metadata": {},
      "outputs": [],
      "source": [
        "# # get altitude data\n",
        "\n",
        "# api_key = my_key\n",
        "\n",
        "# # base website\n",
        "# url = \"https://maps.googleapis.com/maps/api/elevation/json?locations=\"\n",
        "\n",
        "# for row in range(len(data)):\n",
        "#     lat = str(df1[\"LATITUDE\"][row])\n",
        "#     lng = str(df1[\"LONGITUDE\"][row])\n",
        "\n",
        "#     final_url = url + lat + \"%2C\" + lng + \"&key=\" + api_key\n",
        "\n",
        "#     response = requests.get(final_url)\n",
        "#     soup = BeautifulSoup(response.content, \"html.parser\")\n",
        "\n",
        "#     site_json = json.loads(soup.text)\n",
        "\n",
        "#     elevation = site_json[\"results\"][0][\"elevation\"]\n",
        "\n",
        "#     altitude_df.loc[len(altitude_df)] = [elevation]\n",
        "\n",
        "#     if (row % 100 == 0):\n",
        "#         print(row)"
      ]
    },
    {
      "cell_type": "code",
      "execution_count": null,
      "metadata": {},
      "outputs": [],
      "source": [
        "# path = \"/Users/lmhartmann/Desktop/Capstone/altitude.csv\"\n",
        "# altitude_df.to_csv(path)"
      ]
    },
    {
      "cell_type": "code",
      "execution_count": null,
      "metadata": {},
      "outputs": [],
      "source": [
        "# load in\n",
        "\n",
        "path = \"/Users/lmhartmann/Desktop/Capstone/altitude.csv\"\n",
        "altitude = pd.read_csv(path).drop([\"Unnamed: 0\"], axis = 1)\n",
        "\n",
        "# check\n",
        "altitude"
      ]
    },
    {
      "cell_type": "markdown",
      "metadata": {},
      "source": [
        "## Dew Point and Heat Index"
      ]
    },
    {
      "cell_type": "code",
      "execution_count": null,
      "metadata": {},
      "outputs": [],
      "source": [
        "# # dew point\n",
        "# def dew_point(temp, rh):\n",
        "\n",
        "#     dp = temp - ((100 - rh)/5)\n",
        "\n",
        "#     return dp\n",
        "\n",
        "# # heat index\n",
        "# def heat_index(temp, rh):\n",
        "\n",
        "#     hi = 0.5*(temp + 61 + ((temp - 68)*1.2) + (rh*0.094))\n",
        "\n",
        "#     if hi < 80:\n",
        "#         hi = temp\n",
        "\n",
        "#     return hi\n",
        "\n",
        "# # wind chill\n",
        "# def wind_chill(temp, ws):\n",
        "\n",
        "#     # convert wind speed from kmh to mph\n",
        "#     ws = ws/1.609\n",
        "\n",
        "#     if (temp > 50) & (ws > 3):\n",
        "#         wc = 35.74 + 0.6215*temp - 35.75*(ws**0.16) + 0.4275*(ws**0.16)\n",
        "\n",
        "#     else:\n",
        "#         wc = np.nan\n",
        "\n",
        "#     return wc"
      ]
    },
    {
      "cell_type": "code",
      "execution_count": null,
      "metadata": {},
      "outputs": [],
      "source": [
        "# data[\"DEW_POINT\"] = np.nan\n",
        "# data[\"HEAT_INDEX\"] = np.nan\n",
        "# data[\"WIND_CHILL_10M\"] = np.nan\n",
        "# data[\"WIND_CHILL_100M\"] = np.nan\n",
        "\n",
        "# for row in range(len(data)):\n",
        "#     # calculate dew point\n",
        "#     data.loc[row, \"DEW_POINT\"] = dew_point(data[\"TEMPERATURE\"][row],\n",
        "#                                            data[\"RELATIVE_HUMIDITY\"][row])\n",
        "\n",
        "#     # calculate heat index\n",
        "#     data.loc[row, \"HEAT_INDEX\"]  = heat_index(data[\"TEMPERATURE\"][row],\n",
        "#                                               data[\"RELATIVE_HUMIDITY\"][row])\n",
        "\n",
        "#     # calaculate wind chill at 10m\n",
        "#     data.loc[row, \"WIND_CHILL_10M\"]= wind_chill(data[\"TEMPERATURE\"][row],\n",
        "#                                                 data[\"WIND_SPEED_10M\"][row])\n",
        "\n",
        "#     # calculate wind chill at 100m \n",
        "#     data.loc[row, \"WIND_CHILL_100M\"]  = wind_chill(data[\"TEMPERATURE\"][row],\n",
        "#                                                    data[\"WIND_SPEED_100M\"][row])"
      ]
    },
    {
      "cell_type": "code",
      "execution_count": null,
      "metadata": {},
      "outputs": [],
      "source": [
        "# count nulls\n",
        "data.isnull().sum()"
      ]
    },
    {
      "cell_type": "code",
      "execution_count": null,
      "metadata": {},
      "outputs": [],
      "source": [
        "# # drop wind chill columns\n",
        "# data.drop([\"WIND_CHILL_10M\", \"WIND_CHILL_100M\"], axis = 1, inplace = True)"
      ]
    },
    {
      "cell_type": "code",
      "execution_count": null,
      "metadata": {},
      "outputs": [],
      "source": [
        "# write out\n",
        "# path = \"/Users/lmhartmann/Desktop/Capstone/data_more_weather.csv\"\n",
        "# data.to_csv(path)"
      ]
    },
    {
      "cell_type": "code",
      "execution_count": null,
      "metadata": {},
      "outputs": [],
      "source": [
        "# load in\n",
        "\n",
        "path = \"/Users/lmhartmann/Desktop/Capstone/data_more_weather.csv\"\n",
        "data_more_weather = pd.read_csv(path)"
      ]
    },
    {
      "cell_type": "markdown",
      "metadata": {},
      "source": [
        "## Merge Altitude with More Weather Data"
      ]
    },
    {
      "cell_type": "code",
      "execution_count": null,
      "metadata": {},
      "outputs": [],
      "source": [
        "# each fire now has 360 rows\n",
        "# create new column and name 0 through 4999 identifying for each fire\n",
        "\n",
        "data_more_weather[\"fire_number\"] = np.nan\n",
        "\n",
        "i = 0\n",
        "for row in range(len(data_more_weather)):\n",
        "\n",
        "    data_more_weather.loc[row, \"fire_number\"] = i\n",
        "\n",
        "    if ((row + 1) % 360) == 0:\n",
        "        i += 1\n",
        "\n",
        "data_more_weather"
      ]
    },
    {
      "cell_type": "code",
      "execution_count": null,
      "metadata": {},
      "outputs": [],
      "source": [
        "# make fire_number to int\n",
        "data_more_weather[\"fire_number\"] = data_more_weather[\"fire_number\"].astype(int)\n",
        "\n",
        "# create \"fire_number\" equal to index\n",
        "altitude['fire_number'] = altitude.index\n",
        "altitude"
      ]
    },
    {
      "cell_type": "code",
      "execution_count": null,
      "metadata": {},
      "outputs": [],
      "source": [
        "# merge altitude and data_more_weather on \"fire_number\"\n",
        "data = data_more_weather.merge(altitude, on='fire_number')\n",
        "\n",
        "data"
      ]
    },
    {
      "cell_type": "code",
      "execution_count": null,
      "metadata": {},
      "outputs": [],
      "source": [
        "data.columns"
      ]
    },
    {
      "cell_type": "code",
      "execution_count": null,
      "metadata": {},
      "outputs": [],
      "source": [
        "# keep only selected columns\n",
        "data = data.drop([\"Unnamed: 0\"], axis = 1)\n",
        "\n",
        "# write out\n",
        "path = \"/Users/lmhartmann/Desktop/Capstone/data_final.csv\"\n",
        "data.to_csv(path)"
      ]
    },
    {
      "cell_type": "markdown",
      "metadata": {
        "id": "x2ev7UeeMbAA"
      },
      "source": [
        "# Data Exploration"
      ]
    },
    {
      "cell_type": "markdown",
      "metadata": {
        "id": "LXqwkf9LMeO5"
      },
      "source": [
        "Load in data."
      ]
    },
    {
      "cell_type": "code",
      "execution_count": null,
      "metadata": {
        "colab": {
          "base_uri": "https://localhost:8080/",
          "height": 617
        },
        "id": "7K5XgZAfMc7K",
        "outputId": "0ad04790-a26c-4592-9a60-e3eda2e0fe25"
      },
      "outputs": [],
      "source": [
        "# path = \"/content/drive/MyDrive/Colab_Notebooks/data_merged.csv\"\n",
        "path = \"/Users/lmhartmann/Desktop/Capstone/data_final.csv\"\n",
        "data = pd.read_csv(path).drop([\"Unnamed: 0\", \"fire_number\"], axis = 1)\n",
        "data"
      ]
    },
    {
      "cell_type": "markdown",
      "metadata": {
        "id": "S6OkGJOVMiSX"
      },
      "source": [
        "Fire Size Histogram"
      ]
    },
    {
      "cell_type": "code",
      "execution_count": null,
      "metadata": {
        "colab": {
          "base_uri": "https://localhost:8080/",
          "height": 483
        },
        "id": "1bIY-q9JMjnv",
        "outputId": "7d3bfc8d-ad09-4c97-848c-73799f511d81"
      },
      "outputs": [],
      "source": [
        "sns.histplot(data = data, x = \"FIRE_SIZE_CLASS\")"
      ]
    },
    {
      "cell_type": "markdown",
      "metadata": {
        "id": "_jsX9Jp0MksH"
      },
      "source": [
        "## Outliers"
      ]
    },
    {
      "cell_type": "code",
      "execution_count": null,
      "metadata": {
        "colab": {
          "base_uri": "https://localhost:8080/"
        },
        "id": "PqTjEDMmMkz7",
        "outputId": "6f737a7d-31eb-4d85-b5ff-6cb49abf9463"
      },
      "outputs": [],
      "source": [
        "data.isnull().sum()"
      ]
    },
    {
      "cell_type": "code",
      "execution_count": null,
      "metadata": {
        "id": "s3RTYVx1MvY7"
      },
      "outputs": [],
      "source": [
        "def outliers_IQR(col):\n",
        "    q1 = col.quantile(0.25)\n",
        "\n",
        "    q3 = col.quantile(0.75)\n",
        "\n",
        "    IQR = q3 - q1\n",
        "\n",
        "    outliers = col[((col < (q1 - 1.5 * IQR)) | (col > (q3 + 1.5 * IQR)))]\n",
        "\n",
        "    return outliers"
      ]
    },
    {
      "cell_type": "code",
      "execution_count": null,
      "metadata": {
        "id": "t86odtfCSHnO"
      },
      "outputs": [],
      "source": [
        "def outliers_sd(col):\n",
        "    three_sd = 3 * col.std()\n",
        "\n",
        "    median = col.median()\n",
        "\n",
        "    outliers = col[(col > (median + three_sd)) | (col < (median - three_sd))]\n",
        "\n",
        "    return outliers"
      ]
    },
    {
      "cell_type": "code",
      "execution_count": null,
      "metadata": {
        "colab": {
          "base_uri": "https://localhost:8080/"
        },
        "id": "yBYSQeqdMyqc",
        "outputId": "c89bf178-3797-4743-e66a-0c07b68fd315"
      },
      "outputs": [],
      "source": [
        "no_outliers = [\"LONGITUDE\", \"LATITUDE\", \"DISCOVERY_DATE_x\", \"TIME\",\n",
        "               \"STATE\", \"FIRE_SIZE\", \"FIRE_SIZE_CLASS\"]\n",
        "\n",
        "for col in data.columns:\n",
        "  if col in no_outliers:\n",
        "    pass\n",
        "  else:\n",
        "    outs_IQR = outliers_IQR(data[col])\n",
        "    print(\"\\nPercent \" + col + \" Outliers by IQR: \",\n",
        "          len(outs_IQR)/len(data)*100)\n",
        "\n",
        "    outs_sd = outliers_sd(data[col])\n",
        "    print(\"Percent \" + col + \" Outliers by Standard Deviation: \",\n",
        "          len(outs_sd)/len(data)*100)"
      ]
    },
    {
      "cell_type": "code",
      "execution_count": null,
      "metadata": {
        "id": "h7TJkO76Cqd_"
      },
      "outputs": [],
      "source": [
        "# create a version with all outliers removed\n",
        "# use standard deviation because it is a better representation of the data\n",
        "# will use z-score\n",
        "\n",
        "no_outliers = [\"LONGITUDE\", \"LATITUDE\", \"DISCOVERY_DATE_x\", \"TIME\",\n",
        "               \"STATE\", \"FIRE_SIZE\", \"FIRE_SIZE_CLASS\", \"SEASON_winter\",\n",
        "               \"SEASON_fall\", \"SEASON_spring\", \"SEASON_summer\"]\n",
        "data_no_outliers = data.copy()\n",
        "\n",
        "counter = 0\n",
        "\n",
        "for col in data.columns:\n",
        "  if col in no_outliers:\n",
        "    pass\n",
        "  else:\n",
        "    outs_sd = outliers_sd(data[col])\n",
        "\n",
        "    print(col)\n",
        "\n",
        "    for ind in outs_sd.index:\n",
        "\n",
        "      if (counter % 1000 == 0):\n",
        "        print(counter)\n",
        "      \n",
        "      counter += 1\n",
        "\n",
        "      if ind in data_no_outliers.index:\n",
        "        data_no_outliers.drop(ind, inplace = True)\n",
        "\n",
        "\n",
        "# print out\n",
        "print(\"Size Before Outlier Removal: \", len(data))\n",
        "print(\"Size After Outlier Removal: \", len(data_no_outliers))\n"
      ]
    },
    {
      "cell_type": "code",
      "execution_count": null,
      "metadata": {
        "id": "9wEmjQJiJoe6"
      },
      "outputs": [],
      "source": [
        "# save no_outliers\n",
        "path = \"/Users/lmhartmann/Desktop/Capstone/data_final_no_outliers.csv\"\n",
        "data_no_outliers.to_csv(path)"
      ]
    },
    {
      "cell_type": "code",
      "execution_count": null,
      "metadata": {
        "colab": {
          "base_uri": "https://localhost:8080/",
          "height": 617
        },
        "id": "erjxj23KJ5pN",
        "outputId": "c5a567d5-a4fb-4715-8b7c-9c67b671dd81"
      },
      "outputs": [],
      "source": [
        "# read in no_outliers\n",
        "# path = \"/content/drive/MyDrive/Colab_Notebooks/data_no_outliers.csv\"\n",
        "path = \"/Users/lmhartmann/Desktop/Capstone/data_final_no_outliers.csv\"\n",
        "data_no_outliers = pd.read_csv(path).drop([\"Unnamed: 0\"], axis = 1)\n",
        "data_no_outliers"
      ]
    },
    {
      "cell_type": "code",
      "execution_count": null,
      "metadata": {},
      "outputs": [],
      "source": [
        "# double check no outliers\n",
        "no_outliers = [\"LONGITUDE\", \"LATITUDE\", \"DISCOVERY_DATE_x\", \"TIME\",\n",
        "               \"STATE\", \"FIRE_SIZE\", \"FIRE_SIZE_CLASS\", \"SEASON_winter\",\n",
        "               \"SEASON_spring\", \"SEASON_summer\", \"SEASON_fall\"]\n",
        "\n",
        "for col in data_no_outliers.columns:\n",
        "  if col in no_outliers:\n",
        "    pass\n",
        "  else:\n",
        "    outs_IQR = outliers_IQR(data_no_outliers[col])\n",
        "    print(\"\\nPercent \" + col + \" Outliers by IQR: \",\n",
        "          len(outs_IQR)/len(data_no_outliers)*100)\n",
        "\n",
        "    outs_sd = outliers_sd(data_no_outliers[col])\n",
        "    print(\"Percent \" + col + \" Outliers by Standard Deviation: \",\n",
        "          len(outs_sd)/len(data_no_outliers)*100)"
      ]
    },
    {
      "cell_type": "markdown",
      "metadata": {
        "id": "seDLWFYGNOae"
      },
      "source": [
        "## Visualizations"
      ]
    },
    {
      "cell_type": "markdown",
      "metadata": {
        "id": "A2ORvU8RNYY3"
      },
      "source": [
        "### Histograms"
      ]
    },
    {
      "cell_type": "code",
      "execution_count": null,
      "metadata": {
        "colab": {
          "base_uri": "https://localhost:8080/"
        },
        "id": "68ExWCPiNNgo",
        "outputId": "d0c32cda-162f-42ba-a26e-11d6fb2dd43b"
      },
      "outputs": [],
      "source": [
        "fig, axes = plt.subplots(ncols = 2, nrows = 4, figsize = (10, 14))\n",
        "\n",
        "sns.histplot(data = data, x = \"TEMPERATURE\", ax = axes[0, 0])\n",
        "sns.histplot(data = data, x = \"RELATIVE_HUMIDITY\", ax = axes[1, 0])\n",
        "sns.histplot(data = data, x = \"PRECIPITATION\", ax = axes[0, 1])\n",
        "sns.histplot(data = data, x = \"SURFACE_PRESSURE\", ax = axes[1, 1])\n",
        "sns.histplot(data = data, x = \"CLOUD_COVER\", ax = axes[2, 0])\n",
        "sns.histplot(data = data, x = \"WIND_SPEED_10M\", ax = axes[2, 1])\n",
        "sns.histplot(data = data, x = \"WIND_SPEED_100M\", ax = axes[3, 0])\n",
        "sns.histplot(data = data, x = \"WIND_GUSTS_10M\", ax = axes[3, 1])"
      ]
    },
    {
      "cell_type": "markdown",
      "metadata": {
        "id": "jODYVLNvNgO9"
      },
      "source": [
        "#### Seperate DataFrames\n",
        "Create several dataframes by fire size class to visualize each class seperately."
      ]
    },
    {
      "cell_type": "code",
      "execution_count": null,
      "metadata": {
        "id": "yMn10QZaN4rw"
      },
      "outputs": [],
      "source": [
        "size_A = data.loc[data[\"FIRE_SIZE_CLASS\"] == \"A\"].reset_index().drop([\"index\"], axis = 1)\n",
        "size_B = data.loc[data[\"FIRE_SIZE_CLASS\"] == \"B\"].reset_index().drop([\"index\"], axis = 1)\n",
        "size_C = data.loc[data[\"FIRE_SIZE_CLASS\"] == \"C\"].reset_index().drop([\"index\"], axis = 1)\n",
        "size_D = data.loc[data[\"FIRE_SIZE_CLASS\"] == \"D\"].reset_index().drop([\"index\"], axis = 1)\n",
        "size_E = data.loc[data[\"FIRE_SIZE_CLASS\"] == \"E\"].reset_index().drop([\"index\"], axis = 1)\n",
        "size_F = data.loc[data[\"FIRE_SIZE_CLASS\"] == \"F\"].reset_index().drop([\"index\"], axis = 1)\n",
        "size_G = data.loc[data[\"FIRE_SIZE_CLASS\"] == \"G\"].reset_index().drop([\"index\"], axis = 1)\n",
        "\n",
        "fire_classes = [\"A\", \"B\", \"C\", \"D\", \"E\", \"F\", \"G\"]"
      ]
    },
    {
      "cell_type": "markdown",
      "metadata": {
        "id": "O9lqKgRCNmLw"
      },
      "source": [
        "#### Temperature by Fire Size"
      ]
    },
    {
      "cell_type": "code",
      "execution_count": null,
      "metadata": {
        "colab": {
          "base_uri": "https://localhost:8080/"
        },
        "id": "xkfuqsE5Ne3U",
        "outputId": "149d4faa-3bee-4dce-ca30-dae51cf5f38a"
      },
      "outputs": [],
      "source": [
        "fig, axes = plt.subplots(ncols = 2, nrows = 4, figsize = (10, 10))\n",
        "\n",
        "sns.histplot(data = size_A, x = \"TEMPERATURE\", ax = axes[0, 0])\n",
        "sns.histplot(data = size_B, x = \"TEMPERATURE\", ax = axes[0,1])\n",
        "sns.histplot(data = size_C, x = \"TEMPERATURE\", ax = axes[1,0])\n",
        "sns.histplot(data = size_D, x = \"TEMPERATURE\", ax = axes[1,1])\n",
        "sns.histplot(data = size_E, x = \"TEMPERATURE\", ax = axes[2,0])\n",
        "sns.histplot(data = size_F, x = \"TEMPERATURE\", ax = axes[2,1])\n",
        "sns.histplot(data = size_G, x = \"TEMPERATURE\", ax = axes[3,0])\n",
        "\n",
        "\n",
        "axes[0,0].title.set_text(\"Size A\")\n",
        "axes[0,0].get_xaxis().set_visible(False)\n",
        "\n",
        "axes[0,1].title.set_text(\"Size B\")\n",
        "axes[0,1].get_xaxis().set_visible(False)\n",
        "\n",
        "axes[1,0].title.set_text(\"Size C\")\n",
        "axes[1,0].get_xaxis().set_visible(False)\n",
        "\n",
        "axes[1,1].title.set_text(\"Size D\")\n",
        "axes[1,1].get_xaxis().set_visible(False)\n",
        "\n",
        "axes[2,0].title.set_text(\"Size E\")\n",
        "axes[2,0].get_xaxis().set_visible(False)\n",
        "\n",
        "axes[2,1].title.set_text(\"Size F\")\n",
        "axes[2,1].get_xaxis().set_visible(False)\n",
        "\n",
        "axes[3,0].title.set_text(\"Size G\")\n",
        "axes[3,0].get_xaxis().set_visible(False)\n",
        "\n",
        "\n",
        "fig.delaxes(axes[3, 1])\n",
        "plt.suptitle(\"Temperature by Fire Size Class\")"
      ]
    },
    {
      "cell_type": "markdown",
      "metadata": {
        "id": "AT8dc6rjNpsW"
      },
      "source": [
        "#### Relative Humidity by Fire Size"
      ]
    },
    {
      "cell_type": "code",
      "execution_count": null,
      "metadata": {
        "colab": {
          "base_uri": "https://localhost:8080/"
        },
        "id": "G4hi2IHGNwp7",
        "outputId": "45458b65-143f-45ed-d2e2-5defb4155ef6"
      },
      "outputs": [],
      "source": [
        "fig, axes = plt.subplots(ncols = 2, nrows = 4, figsize = (10, 10))\n",
        "\n",
        "\n",
        "sns.histplot(data = size_A, x = \"RELATIVE_HUMIDITY\", ax = axes[0, 0])\n",
        "sns.histplot(data = size_B, x = \"RELATIVE_HUMIDITY\", ax = axes[0,1])\n",
        "sns.histplot(data = size_C, x = \"RELATIVE_HUMIDITY\", ax = axes[1,0])\n",
        "sns.histplot(data = size_D, x = \"RELATIVE_HUMIDITY\", ax = axes[1,1])\n",
        "sns.histplot(data = size_E, x = \"RELATIVE_HUMIDITY\", ax = axes[2,0])\n",
        "sns.histplot(data = size_F, x = \"RELATIVE_HUMIDITY\", ax = axes[2,1])\n",
        "sns.histplot(data = size_G, x = \"RELATIVE_HUMIDITY\", ax = axes[3,0])\n",
        "\n",
        "\n",
        "axes[0,0].title.set_text(\"Size A\")\n",
        "axes[0,0].get_xaxis().set_visible(False)\n",
        "\n",
        "axes[0,1].title.set_text(\"Size B\")\n",
        "axes[0,1].get_xaxis().set_visible(False)\n",
        "\n",
        "axes[1,0].title.set_text(\"Size C\")\n",
        "axes[1,0].get_xaxis().set_visible(False)\n",
        "\n",
        "axes[1,1].title.set_text(\"Size D\")\n",
        "axes[1,1].get_xaxis().set_visible(False)\n",
        "\n",
        "axes[2,0].title.set_text(\"Size E\")\n",
        "axes[2,0].get_xaxis().set_visible(False)\n",
        "\n",
        "axes[2,1].title.set_text(\"Size F\")\n",
        "axes[2,1].get_xaxis().set_visible(False)\n",
        "\n",
        "axes[3,0].title.set_text(\"Size G\")\n",
        "axes[3,0].get_xaxis().set_visible(False)\n",
        "\n",
        "\n",
        "fig.delaxes(axes[3, 1])\n",
        "plt.suptitle(\"Relative Humidity by Fire Size Class\")"
      ]
    },
    {
      "cell_type": "markdown",
      "metadata": {
        "id": "ZNgDLhEdNwvY"
      },
      "source": [
        "#### Precipitation by Fire Size"
      ]
    },
    {
      "cell_type": "code",
      "execution_count": null,
      "metadata": {
        "colab": {
          "base_uri": "https://localhost:8080/"
        },
        "id": "M8O46PKQNw1A",
        "outputId": "d46b94b3-c215-4549-f678-7427a99f0052"
      },
      "outputs": [],
      "source": [
        "fig, axes = plt.subplots(ncols = 2, nrows = 4, figsize = (10, 10))\n",
        "\n",
        "\n",
        "sns.histplot(data = size_A, x = \"PRECIPITATION\", ax = axes[0, 0])\n",
        "sns.histplot(data = size_B, x = \"PRECIPITATION\", ax = axes[0,1])\n",
        "sns.histplot(data = size_C, x = \"PRECIPITATION\", ax = axes[1,0])\n",
        "sns.histplot(data = size_D, x = \"PRECIPITATION\", ax = axes[1,1])\n",
        "sns.histplot(data = size_E, x = \"PRECIPITATION\", ax = axes[2,0])\n",
        "sns.histplot(data = size_F, x = \"PRECIPITATION\", ax = axes[2,1])\n",
        "sns.histplot(data = size_G, x = \"PRECIPITATION\", ax = axes[3,0])\n",
        "\n",
        "\n",
        "axes[0,0].title.set_text(\"Size A\")\n",
        "axes[0,0].get_xaxis().set_visible(False)\n",
        "\n",
        "axes[0,1].title.set_text(\"Size B\")\n",
        "axes[0,1].get_xaxis().set_visible(False)\n",
        "\n",
        "axes[1,0].title.set_text(\"Size C\")\n",
        "axes[1,0].get_xaxis().set_visible(False)\n",
        "\n",
        "axes[1,1].title.set_text(\"Size D\")\n",
        "axes[1,1].get_xaxis().set_visible(False)\n",
        "\n",
        "axes[2,0].title.set_text(\"Size E\")\n",
        "axes[2,0].get_xaxis().set_visible(False)\n",
        "\n",
        "axes[2,1].title.set_text(\"Size F\")\n",
        "axes[2,1].get_xaxis().set_visible(False)\n",
        "\n",
        "axes[3,0].title.set_text(\"Size G\")\n",
        "axes[3,0].get_xaxis().set_visible(False)\n",
        "\n",
        "\n",
        "fig.delaxes(axes[3, 1])\n",
        "plt.suptitle(\"Precipitation by Fire Size Class\")"
      ]
    },
    {
      "cell_type": "markdown",
      "metadata": {
        "id": "hWjKEq7HNw5r"
      },
      "source": [
        "#### Surface Pressure by Fire Size"
      ]
    },
    {
      "cell_type": "code",
      "execution_count": null,
      "metadata": {
        "colab": {
          "base_uri": "https://localhost:8080/"
        },
        "id": "5sve04TfNw-L",
        "outputId": "f9800ef8-e768-4ca6-b1f9-09aaf95ffb93"
      },
      "outputs": [],
      "source": [
        "fig, axes = plt.subplots(ncols = 2, nrows = 4, figsize = (10, 10))\n",
        "\n",
        "\n",
        "sns.histplot(data = size_A, x = \"SURFACE_PRESSURE\", ax = axes[0, 0])\n",
        "sns.histplot(data = size_B, x = \"SURFACE_PRESSURE\", ax = axes[0,1])\n",
        "sns.histplot(data = size_C, x = \"SURFACE_PRESSURE\", ax = axes[1,0])\n",
        "sns.histplot(data = size_D, x = \"SURFACE_PRESSURE\", ax = axes[1,1])\n",
        "sns.histplot(data = size_E, x = \"SURFACE_PRESSURE\", ax = axes[2,0])\n",
        "sns.histplot(data = size_F, x = \"SURFACE_PRESSURE\", ax = axes[2,1])\n",
        "sns.histplot(data = size_G, x = \"SURFACE_PRESSURE\", ax = axes[3,0])\n",
        "\n",
        "\n",
        "axes[0,0].title.set_text(\"Size A\")\n",
        "axes[0,0].get_xaxis().set_visible(False)\n",
        "\n",
        "axes[0,1].title.set_text(\"Size B\")\n",
        "axes[0,1].get_xaxis().set_visible(False)\n",
        "\n",
        "axes[1,0].title.set_text(\"Size C\")\n",
        "axes[1,0].get_xaxis().set_visible(False)\n",
        "\n",
        "axes[1,1].title.set_text(\"Size D\")\n",
        "axes[1,1].get_xaxis().set_visible(False)\n",
        "\n",
        "axes[2,0].title.set_text(\"Size E\")\n",
        "axes[2,0].get_xaxis().set_visible(False)\n",
        "\n",
        "axes[2,1].title.set_text(\"Size F\")\n",
        "axes[2,1].get_xaxis().set_visible(False)\n",
        "\n",
        "axes[3,0].title.set_text(\"Size G\")\n",
        "axes[3,0].get_xaxis().set_visible(False)\n",
        "\n",
        "\n",
        "fig.delaxes(axes[3, 1])\n",
        "plt.suptitle(\"Surface Pressure by Fire Size Class\")"
      ]
    },
    {
      "cell_type": "markdown",
      "metadata": {
        "id": "vH6XfUIxNxCA"
      },
      "source": [
        "#### Cloud Cover by Fire Size"
      ]
    },
    {
      "cell_type": "code",
      "execution_count": null,
      "metadata": {
        "colab": {
          "base_uri": "https://localhost:8080/"
        },
        "id": "xuL2BRjnOwbU",
        "outputId": "5cdc4194-66a5-40e0-e432-4a4bc26df587"
      },
      "outputs": [],
      "source": [
        "fig, axes = plt.subplots(ncols = 2, nrows = 4, figsize = (10, 10))\n",
        "\n",
        "\n",
        "sns.histplot(data = size_A, x = \"CLOUD_COVER\", ax = axes[0, 0])\n",
        "sns.histplot(data = size_B, x = \"CLOUD_COVER\", ax = axes[0,1])\n",
        "sns.histplot(data = size_C, x = \"CLOUD_COVER\", ax = axes[1,0])\n",
        "sns.histplot(data = size_D, x = \"CLOUD_COVER\", ax = axes[1,1])\n",
        "sns.histplot(data = size_E, x = \"CLOUD_COVER\", ax = axes[2,0])\n",
        "sns.histplot(data = size_F, x = \"CLOUD_COVER\", ax = axes[2,1])\n",
        "sns.histplot(data = size_G, x = \"CLOUD_COVER\", ax = axes[3,0])\n",
        "\n",
        "\n",
        "axes[0,0].title.set_text(\"Size A\")\n",
        "axes[0,0].get_xaxis().set_visible(False)\n",
        "\n",
        "axes[0,1].title.set_text(\"Size B\")\n",
        "axes[0,1].get_xaxis().set_visible(False)\n",
        "\n",
        "axes[1,0].title.set_text(\"Size C\")\n",
        "axes[1,0].get_xaxis().set_visible(False)\n",
        "\n",
        "axes[1,1].title.set_text(\"Size D\")\n",
        "axes[1,1].get_xaxis().set_visible(False)\n",
        "\n",
        "axes[2,0].title.set_text(\"Size E\")\n",
        "axes[2,0].get_xaxis().set_visible(False)\n",
        "\n",
        "axes[2,1].title.set_text(\"Size F\")\n",
        "axes[2,1].get_xaxis().set_visible(False)\n",
        "\n",
        "axes[3,0].title.set_text(\"Size G\")\n",
        "axes[3,0].get_xaxis().set_visible(False)\n",
        "\n",
        "\n",
        "fig.delaxes(axes[3, 1])\n",
        "plt.suptitle(\"Cloud Cover by Fire Size Class\")"
      ]
    },
    {
      "cell_type": "markdown",
      "metadata": {
        "id": "-23pwxj-Owif"
      },
      "source": [
        "#### Wind Speed 10m Above by Fire Size"
      ]
    },
    {
      "cell_type": "code",
      "execution_count": null,
      "metadata": {
        "colab": {
          "base_uri": "https://localhost:8080/"
        },
        "id": "UdlGSNOjOwmv",
        "outputId": "537b772f-9257-41f1-da26-471088ab11af"
      },
      "outputs": [],
      "source": [
        "fig, axes = plt.subplots(ncols = 2, nrows = 4, figsize = (10, 10))\n",
        "\n",
        "\n",
        "sns.histplot(data = size_A, x = \"WIND_SPEED_10M\", ax = axes[0, 0])\n",
        "sns.histplot(data = size_B, x = \"WIND_SPEED_10M\", ax = axes[0,1])\n",
        "sns.histplot(data = size_C, x = \"WIND_SPEED_10M\", ax = axes[1,0])\n",
        "sns.histplot(data = size_D, x = \"WIND_SPEED_10M\", ax = axes[1,1])\n",
        "sns.histplot(data = size_E, x = \"WIND_SPEED_10M\", ax = axes[2,0])\n",
        "sns.histplot(data = size_F, x = \"WIND_SPEED_10M\", ax = axes[2,1])\n",
        "sns.histplot(data = size_G, x = \"WIND_SPEED_10M\", ax = axes[3,0])\n",
        "\n",
        "\n",
        "axes[0,0].title.set_text(\"Size A\")\n",
        "axes[0,0].get_xaxis().set_visible(False)\n",
        "\n",
        "axes[0,1].title.set_text(\"Size B\")\n",
        "axes[0,1].get_xaxis().set_visible(False)\n",
        "\n",
        "axes[1,0].title.set_text(\"Size C\")\n",
        "axes[1,0].get_xaxis().set_visible(False)\n",
        "\n",
        "axes[1,1].title.set_text(\"Size D\")\n",
        "axes[1,1].get_xaxis().set_visible(False)\n",
        "\n",
        "axes[2,0].title.set_text(\"Size E\")\n",
        "axes[2,0].get_xaxis().set_visible(False)\n",
        "\n",
        "axes[2,1].title.set_text(\"Size F\")\n",
        "axes[2,1].get_xaxis().set_visible(False)\n",
        "\n",
        "axes[3,0].title.set_text(\"Size G\")\n",
        "axes[3,0].get_xaxis().set_visible(False)\n",
        "\n",
        "\n",
        "fig.delaxes(axes[3, 1])\n",
        "plt.suptitle(\"Wind Speed 10m Above by Fire Size Class\")"
      ]
    },
    {
      "cell_type": "markdown",
      "metadata": {
        "id": "1D1GV9qNOwr8"
      },
      "source": [
        "#### Wind Speed 100m Above by Fire Size"
      ]
    },
    {
      "cell_type": "code",
      "execution_count": null,
      "metadata": {
        "colab": {
          "base_uri": "https://localhost:8080/"
        },
        "id": "2FzpXazaOwvn",
        "outputId": "4ce5c190-3c6b-4bcb-c991-98d825e9c0ee"
      },
      "outputs": [],
      "source": [
        "fig, axes = plt.subplots(ncols = 2, nrows = 4, figsize = (10, 10))\n",
        "\n",
        "\n",
        "sns.histplot(data = size_A, x = \"WIND_SPEED_100M\", ax = axes[0, 0])\n",
        "sns.histplot(data = size_B, x = \"WIND_SPEED_100M\", ax = axes[0,1])\n",
        "sns.histplot(data = size_C, x = \"WIND_SPEED_100M\", ax = axes[1,0])\n",
        "sns.histplot(data = size_D, x = \"WIND_SPEED_100M\", ax = axes[1,1])\n",
        "sns.histplot(data = size_E, x = \"WIND_SPEED_100M\", ax = axes[2,0])\n",
        "sns.histplot(data = size_F, x = \"WIND_SPEED_100M\", ax = axes[2,1])\n",
        "sns.histplot(data = size_G, x = \"WIND_SPEED_100M\", ax = axes[3,0])\n",
        "\n",
        "\n",
        "axes[0,0].title.set_text(\"Size A\")\n",
        "axes[0,0].get_xaxis().set_visible(False)\n",
        "\n",
        "axes[0,1].title.set_text(\"Size B\")\n",
        "axes[0,1].get_xaxis().set_visible(False)\n",
        "\n",
        "axes[1,0].title.set_text(\"Size C\")\n",
        "axes[1,0].get_xaxis().set_visible(False)\n",
        "\n",
        "axes[1,1].title.set_text(\"Size D\")\n",
        "axes[1,1].get_xaxis().set_visible(False)\n",
        "\n",
        "axes[2,0].title.set_text(\"Size E\")\n",
        "axes[2,0].get_xaxis().set_visible(False)\n",
        "\n",
        "axes[2,1].title.set_text(\"Size F\")\n",
        "axes[2,1].get_xaxis().set_visible(False)\n",
        "\n",
        "axes[3,0].title.set_text(\"Size G\")\n",
        "axes[3,0].get_xaxis().set_visible(False)\n",
        "\n",
        "\n",
        "fig.delaxes(axes[3, 1])\n",
        "plt.suptitle(\"Wind Speed 100m Above by Fire Size Class\")"
      ]
    },
    {
      "cell_type": "markdown",
      "metadata": {
        "id": "1y0IlEixOw0i"
      },
      "source": [
        "#### Wind Gusts 10m Above by Fire Size"
      ]
    },
    {
      "cell_type": "code",
      "execution_count": null,
      "metadata": {
        "colab": {
          "base_uri": "https://localhost:8080/"
        },
        "id": "WJ9uhDakOw4s",
        "outputId": "d6b689e3-01d0-4e48-9c1c-ee8ce1382b38"
      },
      "outputs": [],
      "source": [
        "fig, axes = plt.subplots(ncols = 2, nrows = 4, figsize = (10, 10))\n",
        "\n",
        "\n",
        "sns.histplot(data = size_A, x = \"WIND_GUSTS_10M\", ax = axes[0, 0])\n",
        "sns.histplot(data = size_B, x = \"WIND_GUSTS_10M\", ax = axes[0,1])\n",
        "sns.histplot(data = size_C, x = \"WIND_GUSTS_10M\", ax = axes[1,0])\n",
        "sns.histplot(data = size_D, x = \"WIND_GUSTS_10M\", ax = axes[1,1])\n",
        "sns.histplot(data = size_E, x = \"WIND_GUSTS_10M\", ax = axes[2,0])\n",
        "sns.histplot(data = size_F, x = \"WIND_GUSTS_10M\", ax = axes[2,1])\n",
        "sns.histplot(data = size_G, x = \"WIND_GUSTS_10M\", ax = axes[3,0])\n",
        "\n",
        "\n",
        "axes[0,0].title.set_text(\"Size A\")\n",
        "axes[0,0].get_xaxis().set_visible(False)\n",
        "\n",
        "axes[0,1].title.set_text(\"Size B\")\n",
        "axes[0,1].get_xaxis().set_visible(False)\n",
        "\n",
        "axes[1,0].title.set_text(\"Size C\")\n",
        "axes[1,0].get_xaxis().set_visible(False)\n",
        "\n",
        "axes[1,1].title.set_text(\"Size D\")\n",
        "axes[1,1].get_xaxis().set_visible(False)\n",
        "\n",
        "axes[2,0].title.set_text(\"Size E\")\n",
        "axes[2,0].get_xaxis().set_visible(False)\n",
        "\n",
        "axes[2,1].title.set_text(\"Size F\")\n",
        "axes[2,1].get_xaxis().set_visible(False)\n",
        "\n",
        "axes[3,0].title.set_text(\"Size G\")\n",
        "axes[3,0].get_xaxis().set_visible(False)\n",
        "\n",
        "\n",
        "fig.delaxes(axes[3, 1])\n",
        "plt.suptitle(\"Wind Gusts 10m Above by Fire Size Class\")"
      ]
    },
    {
      "cell_type": "markdown",
      "metadata": {
        "id": "yKLXGIj6O7IA"
      },
      "source": [
        "### Geo Graphing"
      ]
    },
    {
      "cell_type": "markdown",
      "metadata": {
        "id": "g998Bi4iPibC"
      },
      "source": [
        "Load in Geo Data."
      ]
    },
    {
      "cell_type": "code",
      "execution_count": null,
      "metadata": {
        "colab": {
          "base_uri": "https://localhost:8080/"
        },
        "id": "P2HOb1kBO6o8",
        "outputId": "8a9f04bf-bd4c-4fc6-a64f-0f1e308eebb4"
      },
      "outputs": [],
      "source": [
        "import geopandas as gpd\n",
        "from shapely.geometry import Polygon\n",
        "\n",
        "# wget.download(\"https://www2.census.gov/geo/tiger/GENZ2018/shp/cb_2018_us_state_500k.zip\")\n",
        "\n",
        "path = \"/Users/lmhartmann/Desktop/Capstone/cb_2018_us_state_500k\"\n",
        "gdf = gpd.read_file(path)\n",
        "gdf = gdf.merge(data,left_on='STUSPS',right_on='STATE')\n",
        "gdf.head()"
      ]
    },
    {
      "cell_type": "markdown",
      "metadata": {
        "id": "teCezwURPl9a"
      },
      "source": [
        "#### Temperature by State"
      ]
    },
    {
      "cell_type": "code",
      "execution_count": null,
      "metadata": {
        "id": "DWHfcGXdPo3n"
      },
      "outputs": [],
      "source": [
        "fig, ax = plt.subplots(figsize = (12, 8))\n",
        "\n",
        "gdf.boundary.plot(edgecolor = \"black\",\n",
        "                  linewidth = 0.7,\n",
        "                  ax = ax)\n",
        "\n",
        "gdf.plot(column = \"TEMPERATURE\",\n",
        "         legend = True,\n",
        "         scheme = 'quantiles',\n",
        "         ax = ax)\n",
        "\n",
        "ax.set_title(\"Temperature by State\")\n",
        "ax.set_axis_off()"
      ]
    },
    {
      "cell_type": "markdown",
      "metadata": {
        "id": "1gGaPyUOP0Cy"
      },
      "source": [
        "#### Relative Humidity by State"
      ]
    },
    {
      "cell_type": "code",
      "execution_count": null,
      "metadata": {
        "id": "uM6ZgsX0P0JZ"
      },
      "outputs": [],
      "source": [
        "fig, ax = plt.subplots(figsize = (12, 8))\n",
        "\n",
        "gdf.boundary.plot(edgecolor = \"black\",\n",
        "                  linewidth = 0.7,\n",
        "                  ax = ax)\n",
        "\n",
        "gdf.plot(column = \"RELATIVE_HUMIDITY\",\n",
        "         legend = True,\n",
        "         scheme = 'quantiles',\n",
        "         ax = ax)\n",
        "\n",
        "ax.set_title(\"Relative Humidity by State\")\n",
        "ax.set_axis_off()"
      ]
    },
    {
      "cell_type": "markdown",
      "metadata": {
        "id": "xHJeXwefP0Nd"
      },
      "source": [
        "#### Precipitation by State"
      ]
    },
    {
      "cell_type": "code",
      "execution_count": null,
      "metadata": {
        "id": "BTlUaIXgP0Q7"
      },
      "outputs": [],
      "source": [
        "fig, ax = plt.subplots(figsize = (12, 8))\n",
        "\n",
        "gdf.boundary.plot(edgecolor = \"black\",\n",
        "                  linewidth = 0.7,\n",
        "                  ax = ax)\n",
        "\n",
        "gdf.plot(column = \"PRECIPITATION\",\n",
        "         legend = True,\n",
        "         scheme = 'quantiles',\n",
        "         ax = ax)\n",
        "\n",
        "ax.set_title(\"Precipitation by State\")\n",
        "ax.set_axis_off()"
      ]
    },
    {
      "cell_type": "markdown",
      "metadata": {
        "id": "VGZQ5iMSP0VI"
      },
      "source": [
        "#### Surface Pressure by State"
      ]
    },
    {
      "cell_type": "code",
      "execution_count": null,
      "metadata": {
        "id": "Gun1XjKqP0ZJ"
      },
      "outputs": [],
      "source": [
        "fig, ax = plt.subplots(figsize = (12, 8))\n",
        "\n",
        "gdf.boundary.plot(edgecolor = \"black\",\n",
        "                  linewidth = 0.7,\n",
        "                  ax = ax)\n",
        "\n",
        "gdf.plot(column = \"SURFACE_PRESSURE\",\n",
        "         legend = True,\n",
        "         scheme = 'quantiles',\n",
        "         ax = ax)\n",
        "\n",
        "ax.set_title(\"Surface Pressure by State\")\n",
        "ax.set_axis_off()"
      ]
    },
    {
      "cell_type": "markdown",
      "metadata": {
        "id": "xdPIa8SpP0cj"
      },
      "source": [
        "#### Cloud Cover by State"
      ]
    },
    {
      "cell_type": "code",
      "execution_count": null,
      "metadata": {
        "id": "CZLz002FP-jm"
      },
      "outputs": [],
      "source": [
        "fig, ax = plt.subplots(figsize = (12, 8))\n",
        "\n",
        "gdf.boundary.plot(edgecolor = \"black\",\n",
        "                  linewidth = 0.7,\n",
        "                  ax = ax)\n",
        "\n",
        "gdf.plot(column = \"CLOUD_COVER\",\n",
        "         legend = True,\n",
        "         scheme = 'quantiles',\n",
        "         ax = ax)\n",
        "\n",
        "ax.set_title(\"Cloud Cover by State\")\n",
        "ax.set_axis_off()"
      ]
    },
    {
      "cell_type": "markdown",
      "metadata": {
        "id": "pM_yCLXmP-qe"
      },
      "source": [
        "#### Wind Speed 10m Above by State"
      ]
    },
    {
      "cell_type": "code",
      "execution_count": null,
      "metadata": {
        "id": "EiO9lqo7P-t3"
      },
      "outputs": [],
      "source": [
        "fig, ax = plt.subplots(figsize = (12, 8))\n",
        "\n",
        "gdf.boundary.plot(edgecolor = \"black\",\n",
        "                  linewidth = 0.7,\n",
        "                  ax = ax)\n",
        "\n",
        "gdf.plot(column = \"WIND_SPEED_10M\",\n",
        "         legend = True,\n",
        "         scheme = 'quantiles',\n",
        "         ax = ax)\n",
        "\n",
        "ax.set_title(\"Wind Speed 10m Above by State\")\n",
        "ax.set_axis_off()"
      ]
    },
    {
      "cell_type": "markdown",
      "metadata": {
        "id": "uok8vnXCP-xT"
      },
      "source": [
        "#### Wind Speed 100m Above by State"
      ]
    },
    {
      "cell_type": "code",
      "execution_count": null,
      "metadata": {
        "id": "PfQSwRfyP-0W"
      },
      "outputs": [],
      "source": [
        "fig, ax = plt.subplots(figsize = (12, 8))\n",
        "\n",
        "gdf.boundary.plot(edgecolor = \"black\",\n",
        "                  linewidth = 0.7,\n",
        "                  ax = ax)\n",
        "\n",
        "gdf.plot(column = \"WIND_SPEED_100M\",\n",
        "         legend = True,\n",
        "         scheme = 'quantiles',\n",
        "         ax = ax)\n",
        "\n",
        "ax.set_title(\"Wind Speed 100m Above by State\")\n",
        "ax.set_axis_off()"
      ]
    },
    {
      "cell_type": "markdown",
      "metadata": {
        "id": "-rDMNZt-P-3U"
      },
      "source": [
        "#### Wind Gusts 10m Above by State"
      ]
    },
    {
      "cell_type": "code",
      "execution_count": null,
      "metadata": {
        "id": "y7iPbxphQHDt"
      },
      "outputs": [],
      "source": [
        "fig, ax = plt.subplots(figsize = (12, 8))\n",
        "\n",
        "gdf.boundary.plot(edgecolor = \"black\",\n",
        "                  linewidth = 0.7,\n",
        "                  ax = ax)\n",
        "\n",
        "gdf.plot(column = \"WIND_GUSTS_10M\",\n",
        "         legend = True,\n",
        "         scheme = 'quantiles',\n",
        "         ax = ax)\n",
        "\n",
        "ax.set_title(\"Wind Gusts 10m Above by State\")\n",
        "ax.set_axis_off()"
      ]
    },
    {
      "cell_type": "code",
      "execution_count": null,
      "metadata": {},
      "outputs": [],
      "source": [
        "data.corr(numeric_only = True)"
      ]
    },
    {
      "cell_type": "markdown",
      "metadata": {
        "id": "cblM6xk_QdWy"
      },
      "source": [
        "# Modeling"
      ]
    },
    {
      "cell_type": "code",
      "execution_count": 3,
      "metadata": {
        "id": "745QvavF0ySz"
      },
      "outputs": [],
      "source": [
        "# Final Load In\n",
        "path = \"/Users/lmhartmann/Desktop/Capstone/data_final.csv\"\n",
        "data = pd.read_csv(path).drop([\"Unnamed: 0\"], axis = 1)\n",
        "\n",
        "path = \"/Users/lmhartmann/Desktop/Capstone/data_final_no_outliers.csv\"\n",
        "data_no_outliers = pd.read_csv(path).drop([\"Unnamed: 0\"], axis = 1)"
      ]
    },
    {
      "cell_type": "markdown",
      "metadata": {
        "id": "8--cYcSO8SkW"
      },
      "source": [
        "## Preprocessing"
      ]
    },
    {
      "cell_type": "markdown",
      "metadata": {
        "id": "T-PO8fGnGEfj"
      },
      "source": [
        "Look at data balance."
      ]
    },
    {
      "cell_type": "code",
      "execution_count": 4,
      "metadata": {
        "colab": {
          "base_uri": "https://localhost:8080/"
        },
        "id": "_kckYh1IGEov",
        "outputId": "2fab282e-be03-48d5-e3b8-86ce0588dc4d"
      },
      "outputs": [
        {
          "name": "stdout",
          "output_type": "stream",
          "text": [
            "With Outliers (percent): \n"
          ]
        },
        {
          "data": {
            "text/plain": [
              "FIRE_SIZE_CLASS\n",
              "A    67.86\n",
              "B    24.00\n",
              "C     4.46\n",
              "D     1.20\n",
              "F     0.98\n",
              "E     0.96\n",
              "G     0.54\n",
              "Name: proportion, dtype: float64"
            ]
          },
          "execution_count": 4,
          "metadata": {},
          "output_type": "execute_result"
        }
      ],
      "source": [
        "print(\"With Outliers (percent): \")\n",
        "data_counts = data[\"FIRE_SIZE_CLASS\"].value_counts(normalize = True)*100\n",
        "data_counts"
      ]
    },
    {
      "cell_type": "code",
      "execution_count": 5,
      "metadata": {
        "colab": {
          "base_uri": "https://localhost:8080/"
        },
        "id": "XLplmycvGaTj",
        "outputId": "8e0a9a8e-7122-4f1d-860f-f1223dc3b15f"
      },
      "outputs": [
        {
          "name": "stdout",
          "output_type": "stream",
          "text": [
            "Without Outliers (percent): \n"
          ]
        },
        {
          "data": {
            "text/plain": [
              "FIRE_SIZE_CLASS\n",
              "A    68.922810\n",
              "B    23.341490\n",
              "C     4.189924\n",
              "D     1.103331\n",
              "F     0.959411\n",
              "E     0.936198\n",
              "G     0.546837\n",
              "Name: proportion, dtype: float64"
            ]
          },
          "execution_count": 5,
          "metadata": {},
          "output_type": "execute_result"
        }
      ],
      "source": [
        "print(\"Without Outliers (percent): \")\n",
        "data_no_outliers[\"FIRE_SIZE_CLASS\"].value_counts(normalize = True)*100"
      ]
    },
    {
      "cell_type": "markdown",
      "metadata": {
        "id": "mhdszADnvwCl"
      },
      "source": [
        "In both, as the fire size increases, i.e. the letter label increases, the number of fires decrease."
      ]
    },
    {
      "cell_type": "markdown",
      "metadata": {
        "id": "aqSOiolGHIwM"
      },
      "source": [
        "### Balance Data"
      ]
    },
    {
      "cell_type": "code",
      "execution_count": 6,
      "metadata": {
        "id": "98N4fKV1HIzx"
      },
      "outputs": [],
      "source": [
        "to_keep = [\"TEMPERATURE\", \"RELATIVE_HUMIDITY\",\n",
        "           \"PRECIPITATION\", \"SURFACE_PRESSURE\",\n",
        "           \"CLOUD_COVER\", \"WIND_SPEED_10M\",\n",
        "           \"WIND_SPEED_100M\", \"WIND_GUSTS_10M\",\n",
        "           \"SEASON_spring\", \"SEASON_summer\",\n",
        "           \"SEASON_fall\", \"SEASON_winter\",\n",
        "           \"ALTITUDE\", \"DEW_POINT\",\n",
        "           \"HEAT_INDEX\"]\n",
        "target = [\"FIRE_SIZE_CLASS\"]\n",
        "\n",
        "oversample = SMOTE()\n",
        "\n",
        "X = data[to_keep].copy()\n",
        "y = data[target].copy()\n",
        "\n",
        "data_no_outliers_X = data_no_outliers[to_keep].copy()\n",
        "data_no_outliers_y = data_no_outliers[target].copy()\n",
        "\n",
        "# balance data\n",
        "bal_X, bal_y = oversample.fit_resample(X, y)\n",
        "bal_no_outliers_X, bal_no_outliers_y = oversample.fit_resample(data_no_outliers_X,\n",
        "                                                               data_no_outliers_y)\n",
        "\n",
        "# with outliers\n",
        "# add y column, then rename\n",
        "bal_X[\"FIRE_SIZE_CLASS\"] = bal_y\n",
        "data_balanced = bal_X.copy()\n",
        "\n",
        "# without outliers\n",
        "# add y column, then rename\n",
        "bal_no_outliers_X[\"FIRE_SIZE_CLASS\"] = bal_no_outliers_y\n",
        "data_no_outliers_balanced = bal_no_outliers_X.copy()"
      ]
    },
    {
      "cell_type": "markdown",
      "metadata": {},
      "source": [
        "Null Check"
      ]
    },
    {
      "cell_type": "code",
      "execution_count": 7,
      "metadata": {},
      "outputs": [
        {
          "data": {
            "text/plain": [
              "LONGITUDE            0\n",
              "LATITUDE             0\n",
              "DISCOVERY_DATE_x     0\n",
              "TIME                 0\n",
              "TEMPERATURE          0\n",
              "RELATIVE_HUMIDITY    0\n",
              "PRECIPITATION        0\n",
              "SURFACE_PRESSURE     0\n",
              "CLOUD_COVER          0\n",
              "WIND_SPEED_10M       0\n",
              "WIND_SPEED_100M      0\n",
              "WIND_GUSTS_10M       0\n",
              "STATE                0\n",
              "FIRE_SIZE            0\n",
              "FIRE_SIZE_CLASS      0\n",
              "SEASON_winter        0\n",
              "SEASON_fall          0\n",
              "SEASON_spring        0\n",
              "SEASON_summer        0\n",
              "DEW_POINT            0\n",
              "HEAT_INDEX           0\n",
              "fire_number          0\n",
              "ALTITUDE             0\n",
              "dtype: int64"
            ]
          },
          "execution_count": 7,
          "metadata": {},
          "output_type": "execute_result"
        }
      ],
      "source": [
        "data.isnull().sum()"
      ]
    },
    {
      "cell_type": "code",
      "execution_count": 8,
      "metadata": {},
      "outputs": [
        {
          "data": {
            "text/plain": [
              "LONGITUDE            0\n",
              "LATITUDE             0\n",
              "DISCOVERY_DATE_x     0\n",
              "TIME                 0\n",
              "TEMPERATURE          0\n",
              "RELATIVE_HUMIDITY    0\n",
              "PRECIPITATION        0\n",
              "SURFACE_PRESSURE     0\n",
              "CLOUD_COVER          0\n",
              "WIND_SPEED_10M       0\n",
              "WIND_SPEED_100M      0\n",
              "WIND_GUSTS_10M       0\n",
              "STATE                0\n",
              "FIRE_SIZE            0\n",
              "FIRE_SIZE_CLASS      0\n",
              "SEASON_winter        0\n",
              "SEASON_fall          0\n",
              "SEASON_spring        0\n",
              "SEASON_summer        0\n",
              "DEW_POINT            0\n",
              "HEAT_INDEX           0\n",
              "ALTITUDE             0\n",
              "dtype: int64"
            ]
          },
          "execution_count": 8,
          "metadata": {},
          "output_type": "execute_result"
        }
      ],
      "source": [
        "data_no_outliers.isnull().sum()"
      ]
    },
    {
      "cell_type": "code",
      "execution_count": 9,
      "metadata": {
        "colab": {
          "base_uri": "https://localhost:8080/"
        },
        "id": "8R09IkfERpYt",
        "outputId": "e4a80771-9a28-4c68-d7de-23f7c358c3bb"
      },
      "outputs": [
        {
          "data": {
            "text/plain": [
              "TEMPERATURE          0\n",
              "RELATIVE_HUMIDITY    0\n",
              "PRECIPITATION        0\n",
              "SURFACE_PRESSURE     0\n",
              "CLOUD_COVER          0\n",
              "WIND_SPEED_10M       0\n",
              "WIND_SPEED_100M      0\n",
              "WIND_GUSTS_10M       0\n",
              "SEASON_spring        0\n",
              "SEASON_summer        0\n",
              "SEASON_fall          0\n",
              "SEASON_winter        0\n",
              "ALTITUDE             0\n",
              "DEW_POINT            0\n",
              "HEAT_INDEX           0\n",
              "FIRE_SIZE_CLASS      0\n",
              "dtype: int64"
            ]
          },
          "execution_count": 9,
          "metadata": {},
          "output_type": "execute_result"
        }
      ],
      "source": [
        "data_balanced.isnull().sum()"
      ]
    },
    {
      "cell_type": "code",
      "execution_count": 10,
      "metadata": {
        "id": "LyQKOH99Ttjf"
      },
      "outputs": [
        {
          "data": {
            "text/plain": [
              "TEMPERATURE          0\n",
              "RELATIVE_HUMIDITY    0\n",
              "PRECIPITATION        0\n",
              "SURFACE_PRESSURE     0\n",
              "CLOUD_COVER          0\n",
              "WIND_SPEED_10M       0\n",
              "WIND_SPEED_100M      0\n",
              "WIND_GUSTS_10M       0\n",
              "SEASON_spring        0\n",
              "SEASON_summer        0\n",
              "SEASON_fall          0\n",
              "SEASON_winter        0\n",
              "ALTITUDE             0\n",
              "DEW_POINT            0\n",
              "HEAT_INDEX           0\n",
              "FIRE_SIZE_CLASS      0\n",
              "dtype: int64"
            ]
          },
          "execution_count": 10,
          "metadata": {},
          "output_type": "execute_result"
        }
      ],
      "source": [
        "data_no_outliers_balanced.isnull().sum()"
      ]
    },
    {
      "cell_type": "code",
      "execution_count": 11,
      "metadata": {
        "colab": {
          "base_uri": "https://localhost:8080/"
        },
        "id": "Z4oFL1Teyoho",
        "outputId": "91f6a573-5de7-43cb-f48c-141e80b1c58f"
      },
      "outputs": [
        {
          "name": "stdout",
          "output_type": "stream",
          "text": [
            "With Outliers (percent): \n"
          ]
        },
        {
          "data": {
            "text/plain": [
              "FIRE_SIZE_CLASS\n",
              "A    14.285714\n",
              "B    14.285714\n",
              "C    14.285714\n",
              "D    14.285714\n",
              "G    14.285714\n",
              "F    14.285714\n",
              "E    14.285714\n",
              "Name: proportion, dtype: float64"
            ]
          },
          "execution_count": 11,
          "metadata": {},
          "output_type": "execute_result"
        }
      ],
      "source": [
        "print(\"With Outliers (percent): \")\n",
        "data_balanced[\"FIRE_SIZE_CLASS\"].value_counts(normalize = True)*100"
      ]
    },
    {
      "cell_type": "code",
      "execution_count": 12,
      "metadata": {
        "colab": {
          "base_uri": "https://localhost:8080/"
        },
        "id": "CLSvqgaDyuB_",
        "outputId": "b907e061-5923-4891-b08b-454f3c2977e2"
      },
      "outputs": [
        {
          "name": "stdout",
          "output_type": "stream",
          "text": [
            "Without Outliers (percent): \n"
          ]
        },
        {
          "data": {
            "text/plain": [
              "FIRE_SIZE_CLASS\n",
              "A    14.285714\n",
              "B    14.285714\n",
              "C    14.285714\n",
              "D    14.285714\n",
              "G    14.285714\n",
              "F    14.285714\n",
              "E    14.285714\n",
              "Name: proportion, dtype: float64"
            ]
          },
          "execution_count": 12,
          "metadata": {},
          "output_type": "execute_result"
        }
      ],
      "source": [
        "print(\"Without Outliers (percent): \")\n",
        "data_no_outliers_balanced[\"FIRE_SIZE_CLASS\"].value_counts(normalize = True)*100"
      ]
    },
    {
      "cell_type": "markdown",
      "metadata": {
        "id": "eXSh5IsJatjn"
      },
      "source": [
        "### Model Preprocessing"
      ]
    },
    {
      "cell_type": "markdown",
      "metadata": {
        "id": "kx8Ty_mnz7Cc"
      },
      "source": [
        "Create smaller sample to work with."
      ]
    },
    {
      "cell_type": "code",
      "execution_count": null,
      "metadata": {
        "id": "KahHC1xrz6V_"
      },
      "outputs": [],
      "source": [
        "# to_work = data.sample(n = 500000, random_state = 13)\n",
        "# to_work_no_outliers = data_no_outliers.sample(n = 500000, random_state = 13)\n",
        "\n",
        "# to_work_balanced = data_balanced.sample(n = 500000, random_state = 13)\n",
        "# to_work_no_outliers_balanced = data_no_outliers_balanced.sample(n = 500000, random_state = 13)"
      ]
    },
    {
      "cell_type": "markdown",
      "metadata": {
        "id": "KtCH2bRXGkCJ"
      },
      "source": [
        "**Names for Each Seperate Dataframe**\n",
        "\n",
        "\n",
        "*   df1 = no modifications\n",
        "*   df2 = without outliers\n",
        "*   df3 = with outliers, balanced data\n",
        "*   df4 = without outliers, balanced data\n",
        "\n"
      ]
    },
    {
      "cell_type": "code",
      "execution_count": 13,
      "metadata": {
        "id": "KLwreQjbHHgv"
      },
      "outputs": [],
      "source": [
        "df1 = data\n",
        "df2 = data_no_outliers\n",
        "df3 = data_balanced\n",
        "df4 = data_no_outliers_balanced"
      ]
    },
    {
      "cell_type": "markdown",
      "metadata": {},
      "source": [
        "**Data Description by Class**"
      ]
    },
    {
      "cell_type": "code",
      "execution_count": 14,
      "metadata": {},
      "outputs": [],
      "source": [
        "to_look = [\"TEMPERATURE\", \"RELATIVE_HUMIDITY\",\n",
        "           \"PRECIPITATION\", \"SURFACE_PRESSURE\",\n",
        "           \"CLOUD_COVER\", \"WIND_SPEED_10M\",\n",
        "           \"WIND_SPEED_100M\", \"WIND_GUSTS_10M\",\n",
        "           \"ALTITUDE\", \"DEW_POINT\",\n",
        "           \"HEAT_INDEX\", \"FIRE_SIZE_CLASS\"]"
      ]
    },
    {
      "cell_type": "code",
      "execution_count": 15,
      "metadata": {},
      "outputs": [
        {
          "data": {
            "text/html": [
              "<div>\n",
              "<style scoped>\n",
              "    .dataframe tbody tr th:only-of-type {\n",
              "        vertical-align: middle;\n",
              "    }\n",
              "\n",
              "    .dataframe tbody tr th {\n",
              "        vertical-align: top;\n",
              "    }\n",
              "\n",
              "    .dataframe thead tr th {\n",
              "        text-align: left;\n",
              "    }\n",
              "\n",
              "    .dataframe thead tr:last-of-type th {\n",
              "        text-align: right;\n",
              "    }\n",
              "</style>\n",
              "<table border=\"1\" class=\"dataframe\">\n",
              "  <thead>\n",
              "    <tr>\n",
              "      <th></th>\n",
              "      <th colspan=\"2\" halign=\"left\">TEMPERATURE</th>\n",
              "      <th colspan=\"2\" halign=\"left\">RELATIVE_HUMIDITY</th>\n",
              "      <th colspan=\"2\" halign=\"left\">PRECIPITATION</th>\n",
              "      <th colspan=\"2\" halign=\"left\">SURFACE_PRESSURE</th>\n",
              "      <th colspan=\"2\" halign=\"left\">CLOUD_COVER</th>\n",
              "      <th>...</th>\n",
              "      <th colspan=\"2\" halign=\"left\">WIND_SPEED_100M</th>\n",
              "      <th colspan=\"2\" halign=\"left\">WIND_GUSTS_10M</th>\n",
              "      <th colspan=\"2\" halign=\"left\">ALTITUDE</th>\n",
              "      <th colspan=\"2\" halign=\"left\">DEW_POINT</th>\n",
              "      <th colspan=\"2\" halign=\"left\">HEAT_INDEX</th>\n",
              "    </tr>\n",
              "    <tr>\n",
              "      <th></th>\n",
              "      <th>mean</th>\n",
              "      <th>std</th>\n",
              "      <th>mean</th>\n",
              "      <th>std</th>\n",
              "      <th>mean</th>\n",
              "      <th>std</th>\n",
              "      <th>mean</th>\n",
              "      <th>std</th>\n",
              "      <th>mean</th>\n",
              "      <th>std</th>\n",
              "      <th>...</th>\n",
              "      <th>mean</th>\n",
              "      <th>std</th>\n",
              "      <th>mean</th>\n",
              "      <th>std</th>\n",
              "      <th>mean</th>\n",
              "      <th>std</th>\n",
              "      <th>mean</th>\n",
              "      <th>std</th>\n",
              "      <th>mean</th>\n",
              "      <th>std</th>\n",
              "    </tr>\n",
              "    <tr>\n",
              "      <th>FIRE_SIZE_CLASS</th>\n",
              "      <th></th>\n",
              "      <th></th>\n",
              "      <th></th>\n",
              "      <th></th>\n",
              "      <th></th>\n",
              "      <th></th>\n",
              "      <th></th>\n",
              "      <th></th>\n",
              "      <th></th>\n",
              "      <th></th>\n",
              "      <th></th>\n",
              "      <th></th>\n",
              "      <th></th>\n",
              "      <th></th>\n",
              "      <th></th>\n",
              "      <th></th>\n",
              "      <th></th>\n",
              "      <th></th>\n",
              "      <th></th>\n",
              "      <th></th>\n",
              "      <th></th>\n",
              "    </tr>\n",
              "  </thead>\n",
              "  <tbody>\n",
              "    <tr>\n",
              "      <th>A</th>\n",
              "      <td>18.624617</td>\n",
              "      <td>7.218387</td>\n",
              "      <td>41.380568</td>\n",
              "      <td>23.668537</td>\n",
              "      <td>0.045881</td>\n",
              "      <td>0.313749</td>\n",
              "      <td>811.508214</td>\n",
              "      <td>50.671124</td>\n",
              "      <td>18.182218</td>\n",
              "      <td>25.211923</td>\n",
              "      <td>...</td>\n",
              "      <td>11.860852</td>\n",
              "      <td>7.068299</td>\n",
              "      <td>24.320949</td>\n",
              "      <td>11.808457</td>\n",
              "      <td>1945.471971</td>\n",
              "      <td>532.261185</td>\n",
              "      <td>6.900730</td>\n",
              "      <td>5.118783</td>\n",
              "      <td>18.624617</td>\n",
              "      <td>7.218387</td>\n",
              "    </tr>\n",
              "    <tr>\n",
              "      <th>B</th>\n",
              "      <td>19.245566</td>\n",
              "      <td>7.494925</td>\n",
              "      <td>40.267750</td>\n",
              "      <td>23.600799</td>\n",
              "      <td>0.035686</td>\n",
              "      <td>0.266867</td>\n",
              "      <td>823.572925</td>\n",
              "      <td>62.773634</td>\n",
              "      <td>17.310338</td>\n",
              "      <td>24.525560</td>\n",
              "      <td>...</td>\n",
              "      <td>13.114226</td>\n",
              "      <td>7.905517</td>\n",
              "      <td>25.081375</td>\n",
              "      <td>12.263237</td>\n",
              "      <td>1940.801517</td>\n",
              "      <td>566.350403</td>\n",
              "      <td>7.299116</td>\n",
              "      <td>5.899990</td>\n",
              "      <td>19.245566</td>\n",
              "      <td>7.494925</td>\n",
              "    </tr>\n",
              "    <tr>\n",
              "      <th>C</th>\n",
              "      <td>20.904367</td>\n",
              "      <td>7.813083</td>\n",
              "      <td>39.379285</td>\n",
              "      <td>23.982318</td>\n",
              "      <td>0.038619</td>\n",
              "      <td>0.317716</td>\n",
              "      <td>839.041637</td>\n",
              "      <td>74.119149</td>\n",
              "      <td>17.086460</td>\n",
              "      <td>23.764384</td>\n",
              "      <td>...</td>\n",
              "      <td>13.062045</td>\n",
              "      <td>8.035946</td>\n",
              "      <td>24.749849</td>\n",
              "      <td>11.965620</td>\n",
              "      <td>1848.726630</td>\n",
              "      <td>587.091219</td>\n",
              "      <td>8.780224</td>\n",
              "      <td>6.741246</td>\n",
              "      <td>20.904367</td>\n",
              "      <td>7.813083</td>\n",
              "    </tr>\n",
              "    <tr>\n",
              "      <th>D</th>\n",
              "      <td>19.953352</td>\n",
              "      <td>8.001623</td>\n",
              "      <td>40.223194</td>\n",
              "      <td>23.568011</td>\n",
              "      <td>0.027153</td>\n",
              "      <td>0.221747</td>\n",
              "      <td>843.375898</td>\n",
              "      <td>69.458769</td>\n",
              "      <td>15.843241</td>\n",
              "      <td>22.134866</td>\n",
              "      <td>...</td>\n",
              "      <td>13.809894</td>\n",
              "      <td>8.892667</td>\n",
              "      <td>25.471134</td>\n",
              "      <td>12.678683</td>\n",
              "      <td>1868.982745</td>\n",
              "      <td>621.917759</td>\n",
              "      <td>7.997991</td>\n",
              "      <td>6.975266</td>\n",
              "      <td>19.953352</td>\n",
              "      <td>8.001623</td>\n",
              "    </tr>\n",
              "    <tr>\n",
              "      <th>E</th>\n",
              "      <td>21.117245</td>\n",
              "      <td>7.764368</td>\n",
              "      <td>34.446933</td>\n",
              "      <td>21.490743</td>\n",
              "      <td>0.021429</td>\n",
              "      <td>0.207035</td>\n",
              "      <td>827.170613</td>\n",
              "      <td>61.238072</td>\n",
              "      <td>13.203704</td>\n",
              "      <td>19.778200</td>\n",
              "      <td>...</td>\n",
              "      <td>13.022940</td>\n",
              "      <td>8.254123</td>\n",
              "      <td>25.719931</td>\n",
              "      <td>12.739716</td>\n",
              "      <td>1932.573087</td>\n",
              "      <td>603.595293</td>\n",
              "      <td>8.006632</td>\n",
              "      <td>5.983255</td>\n",
              "      <td>21.117245</td>\n",
              "      <td>7.764368</td>\n",
              "    </tr>\n",
              "    <tr>\n",
              "      <th>F</th>\n",
              "      <td>20.757285</td>\n",
              "      <td>7.266714</td>\n",
              "      <td>37.710544</td>\n",
              "      <td>21.852336</td>\n",
              "      <td>0.023832</td>\n",
              "      <td>0.236226</td>\n",
              "      <td>841.991831</td>\n",
              "      <td>51.724840</td>\n",
              "      <td>14.031066</td>\n",
              "      <td>21.587841</td>\n",
              "      <td>...</td>\n",
              "      <td>11.752086</td>\n",
              "      <td>7.775348</td>\n",
              "      <td>24.640255</td>\n",
              "      <td>12.543452</td>\n",
              "      <td>1856.559870</td>\n",
              "      <td>629.857799</td>\n",
              "      <td>8.299393</td>\n",
              "      <td>5.634535</td>\n",
              "      <td>20.757285</td>\n",
              "      <td>7.266714</td>\n",
              "    </tr>\n",
              "    <tr>\n",
              "      <th>G</th>\n",
              "      <td>19.881440</td>\n",
              "      <td>7.858459</td>\n",
              "      <td>37.114506</td>\n",
              "      <td>23.735249</td>\n",
              "      <td>0.026883</td>\n",
              "      <td>0.217343</td>\n",
              "      <td>831.484578</td>\n",
              "      <td>62.054577</td>\n",
              "      <td>15.947737</td>\n",
              "      <td>23.473544</td>\n",
              "      <td>...</td>\n",
              "      <td>12.620648</td>\n",
              "      <td>7.830991</td>\n",
              "      <td>25.304033</td>\n",
              "      <td>12.545820</td>\n",
              "      <td>2016.666047</td>\n",
              "      <td>577.294482</td>\n",
              "      <td>7.304342</td>\n",
              "      <td>5.599555</td>\n",
              "      <td>19.881440</td>\n",
              "      <td>7.858459</td>\n",
              "    </tr>\n",
              "  </tbody>\n",
              "</table>\n",
              "<p>7 rows × 22 columns</p>\n",
              "</div>"
            ],
            "text/plain": [
              "                TEMPERATURE           RELATIVE_HUMIDITY             \\\n",
              "                       mean       std              mean        std   \n",
              "FIRE_SIZE_CLASS                                                      \n",
              "A                 18.624617  7.218387         41.380568  23.668537   \n",
              "B                 19.245566  7.494925         40.267750  23.600799   \n",
              "C                 20.904367  7.813083         39.379285  23.982318   \n",
              "D                 19.953352  8.001623         40.223194  23.568011   \n",
              "E                 21.117245  7.764368         34.446933  21.490743   \n",
              "F                 20.757285  7.266714         37.710544  21.852336   \n",
              "G                 19.881440  7.858459         37.114506  23.735249   \n",
              "\n",
              "                PRECIPITATION           SURFACE_PRESSURE             \\\n",
              "                         mean       std             mean        std   \n",
              "FIRE_SIZE_CLASS                                                       \n",
              "A                    0.045881  0.313749       811.508214  50.671124   \n",
              "B                    0.035686  0.266867       823.572925  62.773634   \n",
              "C                    0.038619  0.317716       839.041637  74.119149   \n",
              "D                    0.027153  0.221747       843.375898  69.458769   \n",
              "E                    0.021429  0.207035       827.170613  61.238072   \n",
              "F                    0.023832  0.236226       841.991831  51.724840   \n",
              "G                    0.026883  0.217343       831.484578  62.054577   \n",
              "\n",
              "                CLOUD_COVER             ... WIND_SPEED_100M            \\\n",
              "                       mean        std  ...            mean       std   \n",
              "FIRE_SIZE_CLASS                         ...                             \n",
              "A                 18.182218  25.211923  ...       11.860852  7.068299   \n",
              "B                 17.310338  24.525560  ...       13.114226  7.905517   \n",
              "C                 17.086460  23.764384  ...       13.062045  8.035946   \n",
              "D                 15.843241  22.134866  ...       13.809894  8.892667   \n",
              "E                 13.203704  19.778200  ...       13.022940  8.254123   \n",
              "F                 14.031066  21.587841  ...       11.752086  7.775348   \n",
              "G                 15.947737  23.473544  ...       12.620648  7.830991   \n",
              "\n",
              "                WIND_GUSTS_10M                ALTITUDE             DEW_POINT  \\\n",
              "                          mean        std         mean         std      mean   \n",
              "FIRE_SIZE_CLASS                                                                \n",
              "A                    24.320949  11.808457  1945.471971  532.261185  6.900730   \n",
              "B                    25.081375  12.263237  1940.801517  566.350403  7.299116   \n",
              "C                    24.749849  11.965620  1848.726630  587.091219  8.780224   \n",
              "D                    25.471134  12.678683  1868.982745  621.917759  7.997991   \n",
              "E                    25.719931  12.739716  1932.573087  603.595293  8.006632   \n",
              "F                    24.640255  12.543452  1856.559870  629.857799  8.299393   \n",
              "G                    25.304033  12.545820  2016.666047  577.294482  7.304342   \n",
              "\n",
              "                          HEAT_INDEX            \n",
              "                      std       mean       std  \n",
              "FIRE_SIZE_CLASS                                 \n",
              "A                5.118783  18.624617  7.218387  \n",
              "B                5.899990  19.245566  7.494925  \n",
              "C                6.741246  20.904367  7.813083  \n",
              "D                6.975266  19.953352  8.001623  \n",
              "E                5.983255  21.117245  7.764368  \n",
              "F                5.634535  20.757285  7.266714  \n",
              "G                5.599555  19.881440  7.858459  \n",
              "\n",
              "[7 rows x 22 columns]"
            ]
          },
          "execution_count": 15,
          "metadata": {},
          "output_type": "execute_result"
        }
      ],
      "source": [
        "# df1\n",
        "# no modifications\n",
        "\n",
        "df1_look = df1[to_look].copy()\n",
        "\n",
        "df1_look.groupby(by = \"FIRE_SIZE_CLASS\").agg([\"mean\", \"std\"])"
      ]
    },
    {
      "cell_type": "code",
      "execution_count": 16,
      "metadata": {},
      "outputs": [
        {
          "data": {
            "text/html": [
              "<div>\n",
              "<style scoped>\n",
              "    .dataframe tbody tr th:only-of-type {\n",
              "        vertical-align: middle;\n",
              "    }\n",
              "\n",
              "    .dataframe tbody tr th {\n",
              "        vertical-align: top;\n",
              "    }\n",
              "\n",
              "    .dataframe thead tr th {\n",
              "        text-align: left;\n",
              "    }\n",
              "\n",
              "    .dataframe thead tr:last-of-type th {\n",
              "        text-align: right;\n",
              "    }\n",
              "</style>\n",
              "<table border=\"1\" class=\"dataframe\">\n",
              "  <thead>\n",
              "    <tr>\n",
              "      <th></th>\n",
              "      <th colspan=\"2\" halign=\"left\">TEMPERATURE</th>\n",
              "      <th colspan=\"2\" halign=\"left\">RELATIVE_HUMIDITY</th>\n",
              "      <th colspan=\"2\" halign=\"left\">PRECIPITATION</th>\n",
              "      <th colspan=\"2\" halign=\"left\">SURFACE_PRESSURE</th>\n",
              "      <th colspan=\"2\" halign=\"left\">CLOUD_COVER</th>\n",
              "      <th>...</th>\n",
              "      <th colspan=\"2\" halign=\"left\">WIND_SPEED_100M</th>\n",
              "      <th colspan=\"2\" halign=\"left\">WIND_GUSTS_10M</th>\n",
              "      <th colspan=\"2\" halign=\"left\">ALTITUDE</th>\n",
              "      <th colspan=\"2\" halign=\"left\">DEW_POINT</th>\n",
              "      <th colspan=\"2\" halign=\"left\">HEAT_INDEX</th>\n",
              "    </tr>\n",
              "    <tr>\n",
              "      <th></th>\n",
              "      <th>mean</th>\n",
              "      <th>std</th>\n",
              "      <th>mean</th>\n",
              "      <th>std</th>\n",
              "      <th>mean</th>\n",
              "      <th>std</th>\n",
              "      <th>mean</th>\n",
              "      <th>std</th>\n",
              "      <th>mean</th>\n",
              "      <th>std</th>\n",
              "      <th>...</th>\n",
              "      <th>mean</th>\n",
              "      <th>std</th>\n",
              "      <th>mean</th>\n",
              "      <th>std</th>\n",
              "      <th>mean</th>\n",
              "      <th>std</th>\n",
              "      <th>mean</th>\n",
              "      <th>std</th>\n",
              "      <th>mean</th>\n",
              "      <th>std</th>\n",
              "    </tr>\n",
              "    <tr>\n",
              "      <th>FIRE_SIZE_CLASS</th>\n",
              "      <th></th>\n",
              "      <th></th>\n",
              "      <th></th>\n",
              "      <th></th>\n",
              "      <th></th>\n",
              "      <th></th>\n",
              "      <th></th>\n",
              "      <th></th>\n",
              "      <th></th>\n",
              "      <th></th>\n",
              "      <th></th>\n",
              "      <th></th>\n",
              "      <th></th>\n",
              "      <th></th>\n",
              "      <th></th>\n",
              "      <th></th>\n",
              "      <th></th>\n",
              "      <th></th>\n",
              "      <th></th>\n",
              "      <th></th>\n",
              "      <th></th>\n",
              "    </tr>\n",
              "  </thead>\n",
              "  <tbody>\n",
              "    <tr>\n",
              "      <th>A</th>\n",
              "      <td>18.835538</td>\n",
              "      <td>7.074773</td>\n",
              "      <td>40.036953</td>\n",
              "      <td>22.680033</td>\n",
              "      <td>0.011542</td>\n",
              "      <td>0.073174</td>\n",
              "      <td>810.171218</td>\n",
              "      <td>47.538771</td>\n",
              "      <td>14.221516</td>\n",
              "      <td>19.304344</td>\n",
              "      <td>...</td>\n",
              "      <td>11.374770</td>\n",
              "      <td>6.328087</td>\n",
              "      <td>23.471844</td>\n",
              "      <td>10.765758</td>\n",
              "      <td>1959.899722</td>\n",
              "      <td>513.018266</td>\n",
              "      <td>6.842929</td>\n",
              "      <td>4.969857</td>\n",
              "      <td>18.835538</td>\n",
              "      <td>7.074773</td>\n",
              "    </tr>\n",
              "    <tr>\n",
              "      <th>B</th>\n",
              "      <td>19.307172</td>\n",
              "      <td>7.233853</td>\n",
              "      <td>38.248911</td>\n",
              "      <td>22.403187</td>\n",
              "      <td>0.010269</td>\n",
              "      <td>0.068925</td>\n",
              "      <td>816.093907</td>\n",
              "      <td>52.746826</td>\n",
              "      <td>13.585600</td>\n",
              "      <td>18.922179</td>\n",
              "      <td>...</td>\n",
              "      <td>12.203843</td>\n",
              "      <td>6.706377</td>\n",
              "      <td>24.016769</td>\n",
              "      <td>10.891849</td>\n",
              "      <td>1970.086909</td>\n",
              "      <td>524.164327</td>\n",
              "      <td>6.956954</td>\n",
              "      <td>5.308177</td>\n",
              "      <td>19.307172</td>\n",
              "      <td>7.233853</td>\n",
              "    </tr>\n",
              "    <tr>\n",
              "      <th>C</th>\n",
              "      <td>20.912757</td>\n",
              "      <td>7.668590</td>\n",
              "      <td>36.111572</td>\n",
              "      <td>21.906062</td>\n",
              "      <td>0.010469</td>\n",
              "      <td>0.070137</td>\n",
              "      <td>825.631556</td>\n",
              "      <td>60.664624</td>\n",
              "      <td>13.389011</td>\n",
              "      <td>18.467698</td>\n",
              "      <td>...</td>\n",
              "      <td>11.925287</td>\n",
              "      <td>6.666378</td>\n",
              "      <td>23.820163</td>\n",
              "      <td>10.798039</td>\n",
              "      <td>1886.002436</td>\n",
              "      <td>534.160707</td>\n",
              "      <td>8.135072</td>\n",
              "      <td>5.998356</td>\n",
              "      <td>20.912757</td>\n",
              "      <td>7.668590</td>\n",
              "    </tr>\n",
              "    <tr>\n",
              "      <th>D</th>\n",
              "      <td>19.694967</td>\n",
              "      <td>7.334077</td>\n",
              "      <td>36.916012</td>\n",
              "      <td>21.682844</td>\n",
              "      <td>0.010346</td>\n",
              "      <td>0.070995</td>\n",
              "      <td>824.459454</td>\n",
              "      <td>50.043021</td>\n",
              "      <td>12.708371</td>\n",
              "      <td>17.512836</td>\n",
              "      <td>...</td>\n",
              "      <td>12.228770</td>\n",
              "      <td>7.088958</td>\n",
              "      <td>24.366147</td>\n",
              "      <td>11.240877</td>\n",
              "      <td>1974.987981</td>\n",
              "      <td>511.728106</td>\n",
              "      <td>7.078170</td>\n",
              "      <td>5.503939</td>\n",
              "      <td>19.694967</td>\n",
              "      <td>7.334077</td>\n",
              "    </tr>\n",
              "    <tr>\n",
              "      <th>E</th>\n",
              "      <td>20.790029</td>\n",
              "      <td>7.674893</td>\n",
              "      <td>32.827823</td>\n",
              "      <td>20.795410</td>\n",
              "      <td>0.007663</td>\n",
              "      <td>0.061716</td>\n",
              "      <td>819.513323</td>\n",
              "      <td>52.737516</td>\n",
              "      <td>11.364388</td>\n",
              "      <td>16.822407</td>\n",
              "      <td>...</td>\n",
              "      <td>11.907359</td>\n",
              "      <td>6.646548</td>\n",
              "      <td>24.861875</td>\n",
              "      <td>11.769813</td>\n",
              "      <td>1951.159811</td>\n",
              "      <td>577.346178</td>\n",
              "      <td>7.355594</td>\n",
              "      <td>5.461375</td>\n",
              "      <td>20.790029</td>\n",
              "      <td>7.674893</td>\n",
              "    </tr>\n",
              "    <tr>\n",
              "      <th>F</th>\n",
              "      <td>20.907562</td>\n",
              "      <td>7.086910</td>\n",
              "      <td>37.335828</td>\n",
              "      <td>21.076184</td>\n",
              "      <td>0.008691</td>\n",
              "      <td>0.062717</td>\n",
              "      <td>838.834260</td>\n",
              "      <td>46.050865</td>\n",
              "      <td>11.652752</td>\n",
              "      <td>17.340693</td>\n",
              "      <td>...</td>\n",
              "      <td>10.554991</td>\n",
              "      <td>6.315541</td>\n",
              "      <td>23.381167</td>\n",
              "      <td>11.255463</td>\n",
              "      <td>1918.337620</td>\n",
              "      <td>510.902152</td>\n",
              "      <td>8.374727</td>\n",
              "      <td>5.288218</td>\n",
              "      <td>20.907562</td>\n",
              "      <td>7.086910</td>\n",
              "    </tr>\n",
              "    <tr>\n",
              "      <th>G</th>\n",
              "      <td>20.145166</td>\n",
              "      <td>7.880246</td>\n",
              "      <td>35.548902</td>\n",
              "      <td>22.356106</td>\n",
              "      <td>0.009690</td>\n",
              "      <td>0.069471</td>\n",
              "      <td>826.218587</td>\n",
              "      <td>55.677997</td>\n",
              "      <td>12.994227</td>\n",
              "      <td>18.727795</td>\n",
              "      <td>...</td>\n",
              "      <td>11.546649</td>\n",
              "      <td>6.568879</td>\n",
              "      <td>24.088816</td>\n",
              "      <td>11.284097</td>\n",
              "      <td>2000.726275</td>\n",
              "      <td>578.546079</td>\n",
              "      <td>7.254947</td>\n",
              "      <td>5.548905</td>\n",
              "      <td>20.145166</td>\n",
              "      <td>7.880246</td>\n",
              "    </tr>\n",
              "  </tbody>\n",
              "</table>\n",
              "<p>7 rows × 22 columns</p>\n",
              "</div>"
            ],
            "text/plain": [
              "                TEMPERATURE           RELATIVE_HUMIDITY             \\\n",
              "                       mean       std              mean        std   \n",
              "FIRE_SIZE_CLASS                                                      \n",
              "A                 18.835538  7.074773         40.036953  22.680033   \n",
              "B                 19.307172  7.233853         38.248911  22.403187   \n",
              "C                 20.912757  7.668590         36.111572  21.906062   \n",
              "D                 19.694967  7.334077         36.916012  21.682844   \n",
              "E                 20.790029  7.674893         32.827823  20.795410   \n",
              "F                 20.907562  7.086910         37.335828  21.076184   \n",
              "G                 20.145166  7.880246         35.548902  22.356106   \n",
              "\n",
              "                PRECIPITATION           SURFACE_PRESSURE             \\\n",
              "                         mean       std             mean        std   \n",
              "FIRE_SIZE_CLASS                                                       \n",
              "A                    0.011542  0.073174       810.171218  47.538771   \n",
              "B                    0.010269  0.068925       816.093907  52.746826   \n",
              "C                    0.010469  0.070137       825.631556  60.664624   \n",
              "D                    0.010346  0.070995       824.459454  50.043021   \n",
              "E                    0.007663  0.061716       819.513323  52.737516   \n",
              "F                    0.008691  0.062717       838.834260  46.050865   \n",
              "G                    0.009690  0.069471       826.218587  55.677997   \n",
              "\n",
              "                CLOUD_COVER             ... WIND_SPEED_100M            \\\n",
              "                       mean        std  ...            mean       std   \n",
              "FIRE_SIZE_CLASS                         ...                             \n",
              "A                 14.221516  19.304344  ...       11.374770  6.328087   \n",
              "B                 13.585600  18.922179  ...       12.203843  6.706377   \n",
              "C                 13.389011  18.467698  ...       11.925287  6.666378   \n",
              "D                 12.708371  17.512836  ...       12.228770  7.088958   \n",
              "E                 11.364388  16.822407  ...       11.907359  6.646548   \n",
              "F                 11.652752  17.340693  ...       10.554991  6.315541   \n",
              "G                 12.994227  18.727795  ...       11.546649  6.568879   \n",
              "\n",
              "                WIND_GUSTS_10M                ALTITUDE             DEW_POINT  \\\n",
              "                          mean        std         mean         std      mean   \n",
              "FIRE_SIZE_CLASS                                                                \n",
              "A                    23.471844  10.765758  1959.899722  513.018266  6.842929   \n",
              "B                    24.016769  10.891849  1970.086909  524.164327  6.956954   \n",
              "C                    23.820163  10.798039  1886.002436  534.160707  8.135072   \n",
              "D                    24.366147  11.240877  1974.987981  511.728106  7.078170   \n",
              "E                    24.861875  11.769813  1951.159811  577.346178  7.355594   \n",
              "F                    23.381167  11.255463  1918.337620  510.902152  8.374727   \n",
              "G                    24.088816  11.284097  2000.726275  578.546079  7.254947   \n",
              "\n",
              "                          HEAT_INDEX            \n",
              "                      std       mean       std  \n",
              "FIRE_SIZE_CLASS                                 \n",
              "A                4.969857  18.835538  7.074773  \n",
              "B                5.308177  19.307172  7.233853  \n",
              "C                5.998356  20.912757  7.668590  \n",
              "D                5.503939  19.694967  7.334077  \n",
              "E                5.461375  20.790029  7.674893  \n",
              "F                5.288218  20.907562  7.086910  \n",
              "G                5.548905  20.145166  7.880246  \n",
              "\n",
              "[7 rows x 22 columns]"
            ]
          },
          "execution_count": 16,
          "metadata": {},
          "output_type": "execute_result"
        }
      ],
      "source": [
        "# df2\n",
        "# no outliers\n",
        "\n",
        "df2_look = df2[to_look].copy()\n",
        "\n",
        "df2_look.groupby(by = \"FIRE_SIZE_CLASS\").agg([\"mean\", \"std\"])"
      ]
    },
    {
      "cell_type": "code",
      "execution_count": 17,
      "metadata": {},
      "outputs": [
        {
          "data": {
            "text/html": [
              "<div>\n",
              "<style scoped>\n",
              "    .dataframe tbody tr th:only-of-type {\n",
              "        vertical-align: middle;\n",
              "    }\n",
              "\n",
              "    .dataframe tbody tr th {\n",
              "        vertical-align: top;\n",
              "    }\n",
              "\n",
              "    .dataframe thead tr th {\n",
              "        text-align: left;\n",
              "    }\n",
              "\n",
              "    .dataframe thead tr:last-of-type th {\n",
              "        text-align: right;\n",
              "    }\n",
              "</style>\n",
              "<table border=\"1\" class=\"dataframe\">\n",
              "  <thead>\n",
              "    <tr>\n",
              "      <th></th>\n",
              "      <th colspan=\"2\" halign=\"left\">TEMPERATURE</th>\n",
              "      <th colspan=\"2\" halign=\"left\">RELATIVE_HUMIDITY</th>\n",
              "      <th colspan=\"2\" halign=\"left\">PRECIPITATION</th>\n",
              "      <th colspan=\"2\" halign=\"left\">SURFACE_PRESSURE</th>\n",
              "      <th colspan=\"2\" halign=\"left\">CLOUD_COVER</th>\n",
              "      <th>...</th>\n",
              "      <th colspan=\"2\" halign=\"left\">WIND_SPEED_100M</th>\n",
              "      <th colspan=\"2\" halign=\"left\">WIND_GUSTS_10M</th>\n",
              "      <th colspan=\"2\" halign=\"left\">ALTITUDE</th>\n",
              "      <th colspan=\"2\" halign=\"left\">DEW_POINT</th>\n",
              "      <th colspan=\"2\" halign=\"left\">HEAT_INDEX</th>\n",
              "    </tr>\n",
              "    <tr>\n",
              "      <th></th>\n",
              "      <th>mean</th>\n",
              "      <th>std</th>\n",
              "      <th>mean</th>\n",
              "      <th>std</th>\n",
              "      <th>mean</th>\n",
              "      <th>std</th>\n",
              "      <th>mean</th>\n",
              "      <th>std</th>\n",
              "      <th>mean</th>\n",
              "      <th>std</th>\n",
              "      <th>...</th>\n",
              "      <th>mean</th>\n",
              "      <th>std</th>\n",
              "      <th>mean</th>\n",
              "      <th>std</th>\n",
              "      <th>mean</th>\n",
              "      <th>std</th>\n",
              "      <th>mean</th>\n",
              "      <th>std</th>\n",
              "      <th>mean</th>\n",
              "      <th>std</th>\n",
              "    </tr>\n",
              "    <tr>\n",
              "      <th>FIRE_SIZE_CLASS</th>\n",
              "      <th></th>\n",
              "      <th></th>\n",
              "      <th></th>\n",
              "      <th></th>\n",
              "      <th></th>\n",
              "      <th></th>\n",
              "      <th></th>\n",
              "      <th></th>\n",
              "      <th></th>\n",
              "      <th></th>\n",
              "      <th></th>\n",
              "      <th></th>\n",
              "      <th></th>\n",
              "      <th></th>\n",
              "      <th></th>\n",
              "      <th></th>\n",
              "      <th></th>\n",
              "      <th></th>\n",
              "      <th></th>\n",
              "      <th></th>\n",
              "      <th></th>\n",
              "    </tr>\n",
              "  </thead>\n",
              "  <tbody>\n",
              "    <tr>\n",
              "      <th>A</th>\n",
              "      <td>18.624617</td>\n",
              "      <td>7.218387</td>\n",
              "      <td>41.380568</td>\n",
              "      <td>23.668537</td>\n",
              "      <td>0.045881</td>\n",
              "      <td>0.313749</td>\n",
              "      <td>811.508214</td>\n",
              "      <td>50.671124</td>\n",
              "      <td>18.182218</td>\n",
              "      <td>25.211923</td>\n",
              "      <td>...</td>\n",
              "      <td>11.860852</td>\n",
              "      <td>7.068299</td>\n",
              "      <td>24.320949</td>\n",
              "      <td>11.808457</td>\n",
              "      <td>1945.471971</td>\n",
              "      <td>532.261185</td>\n",
              "      <td>6.900730</td>\n",
              "      <td>5.118783</td>\n",
              "      <td>18.624617</td>\n",
              "      <td>7.218387</td>\n",
              "    </tr>\n",
              "    <tr>\n",
              "      <th>B</th>\n",
              "      <td>19.242686</td>\n",
              "      <td>7.466270</td>\n",
              "      <td>39.953238</td>\n",
              "      <td>23.551827</td>\n",
              "      <td>0.034225</td>\n",
              "      <td>0.240234</td>\n",
              "      <td>823.543762</td>\n",
              "      <td>62.739961</td>\n",
              "      <td>17.013557</td>\n",
              "      <td>24.418536</td>\n",
              "      <td>...</td>\n",
              "      <td>13.110637</td>\n",
              "      <td>7.803713</td>\n",
              "      <td>25.047382</td>\n",
              "      <td>12.162716</td>\n",
              "      <td>1941.472516</td>\n",
              "      <td>565.864300</td>\n",
              "      <td>7.289219</td>\n",
              "      <td>5.866297</td>\n",
              "      <td>19.242686</td>\n",
              "      <td>7.466270</td>\n",
              "    </tr>\n",
              "    <tr>\n",
              "      <th>C</th>\n",
              "      <td>20.905312</td>\n",
              "      <td>7.792495</td>\n",
              "      <td>38.930059</td>\n",
              "      <td>23.931874</td>\n",
              "      <td>0.035323</td>\n",
              "      <td>0.265484</td>\n",
              "      <td>839.090146</td>\n",
              "      <td>74.137319</td>\n",
              "      <td>16.602603</td>\n",
              "      <td>23.534520</td>\n",
              "      <td>...</td>\n",
              "      <td>13.055406</td>\n",
              "      <td>7.880229</td>\n",
              "      <td>24.689537</td>\n",
              "      <td>11.781037</td>\n",
              "      <td>1848.229353</td>\n",
              "      <td>587.541239</td>\n",
              "      <td>8.772176</td>\n",
              "      <td>6.712278</td>\n",
              "      <td>20.905312</td>\n",
              "      <td>7.792495</td>\n",
              "    </tr>\n",
              "    <tr>\n",
              "      <th>D</th>\n",
              "      <td>19.946407</td>\n",
              "      <td>7.972630</td>\n",
              "      <td>39.711749</td>\n",
              "      <td>23.484001</td>\n",
              "      <td>0.024263</td>\n",
              "      <td>0.176747</td>\n",
              "      <td>843.304039</td>\n",
              "      <td>69.459996</td>\n",
              "      <td>15.279987</td>\n",
              "      <td>21.820270</td>\n",
              "      <td>...</td>\n",
              "      <td>13.824476</td>\n",
              "      <td>8.765179</td>\n",
              "      <td>25.430628</td>\n",
              "      <td>12.524488</td>\n",
              "      <td>1869.572657</td>\n",
              "      <td>622.035039</td>\n",
              "      <td>7.974537</td>\n",
              "      <td>6.932324</td>\n",
              "      <td>19.946407</td>\n",
              "      <td>7.972630</td>\n",
              "    </tr>\n",
              "    <tr>\n",
              "      <th>E</th>\n",
              "      <td>21.121319</td>\n",
              "      <td>7.730444</td>\n",
              "      <td>33.911580</td>\n",
              "      <td>21.392850</td>\n",
              "      <td>0.018783</td>\n",
              "      <td>0.168423</td>\n",
              "      <td>827.139849</td>\n",
              "      <td>61.227478</td>\n",
              "      <td>12.658022</td>\n",
              "      <td>19.388392</td>\n",
              "      <td>...</td>\n",
              "      <td>13.033076</td>\n",
              "      <td>8.115320</td>\n",
              "      <td>25.660991</td>\n",
              "      <td>12.577086</td>\n",
              "      <td>1932.406745</td>\n",
              "      <td>604.215887</td>\n",
              "      <td>7.988693</td>\n",
              "      <td>5.932885</td>\n",
              "      <td>21.121319</td>\n",
              "      <td>7.730444</td>\n",
              "    </tr>\n",
              "    <tr>\n",
              "      <th>F</th>\n",
              "      <td>20.751243</td>\n",
              "      <td>7.229404</td>\n",
              "      <td>37.202425</td>\n",
              "      <td>21.769779</td>\n",
              "      <td>0.021539</td>\n",
              "      <td>0.184907</td>\n",
              "      <td>841.955710</td>\n",
              "      <td>51.655562</td>\n",
              "      <td>13.501059</td>\n",
              "      <td>21.285835</td>\n",
              "      <td>...</td>\n",
              "      <td>11.722855</td>\n",
              "      <td>7.624314</td>\n",
              "      <td>24.550976</td>\n",
              "      <td>12.370306</td>\n",
              "      <td>1857.017522</td>\n",
              "      <td>630.032593</td>\n",
              "      <td>8.277390</td>\n",
              "      <td>5.574235</td>\n",
              "      <td>20.751243</td>\n",
              "      <td>7.229404</td>\n",
              "    </tr>\n",
              "    <tr>\n",
              "      <th>G</th>\n",
              "      <td>19.887745</td>\n",
              "      <td>7.819486</td>\n",
              "      <td>36.583892</td>\n",
              "      <td>23.679336</td>\n",
              "      <td>0.024830</td>\n",
              "      <td>0.185134</td>\n",
              "      <td>831.425153</td>\n",
              "      <td>62.035826</td>\n",
              "      <td>15.448590</td>\n",
              "      <td>23.182013</td>\n",
              "      <td>...</td>\n",
              "      <td>12.618054</td>\n",
              "      <td>7.704262</td>\n",
              "      <td>25.230208</td>\n",
              "      <td>12.384493</td>\n",
              "      <td>2016.745093</td>\n",
              "      <td>577.339357</td>\n",
              "      <td>7.290477</td>\n",
              "      <td>5.539271</td>\n",
              "      <td>19.887745</td>\n",
              "      <td>7.819486</td>\n",
              "    </tr>\n",
              "  </tbody>\n",
              "</table>\n",
              "<p>7 rows × 22 columns</p>\n",
              "</div>"
            ],
            "text/plain": [
              "                TEMPERATURE           RELATIVE_HUMIDITY             \\\n",
              "                       mean       std              mean        std   \n",
              "FIRE_SIZE_CLASS                                                      \n",
              "A                 18.624617  7.218387         41.380568  23.668537   \n",
              "B                 19.242686  7.466270         39.953238  23.551827   \n",
              "C                 20.905312  7.792495         38.930059  23.931874   \n",
              "D                 19.946407  7.972630         39.711749  23.484001   \n",
              "E                 21.121319  7.730444         33.911580  21.392850   \n",
              "F                 20.751243  7.229404         37.202425  21.769779   \n",
              "G                 19.887745  7.819486         36.583892  23.679336   \n",
              "\n",
              "                PRECIPITATION           SURFACE_PRESSURE             \\\n",
              "                         mean       std             mean        std   \n",
              "FIRE_SIZE_CLASS                                                       \n",
              "A                    0.045881  0.313749       811.508214  50.671124   \n",
              "B                    0.034225  0.240234       823.543762  62.739961   \n",
              "C                    0.035323  0.265484       839.090146  74.137319   \n",
              "D                    0.024263  0.176747       843.304039  69.459996   \n",
              "E                    0.018783  0.168423       827.139849  61.227478   \n",
              "F                    0.021539  0.184907       841.955710  51.655562   \n",
              "G                    0.024830  0.185134       831.425153  62.035826   \n",
              "\n",
              "                CLOUD_COVER             ... WIND_SPEED_100M            \\\n",
              "                       mean        std  ...            mean       std   \n",
              "FIRE_SIZE_CLASS                         ...                             \n",
              "A                 18.182218  25.211923  ...       11.860852  7.068299   \n",
              "B                 17.013557  24.418536  ...       13.110637  7.803713   \n",
              "C                 16.602603  23.534520  ...       13.055406  7.880229   \n",
              "D                 15.279987  21.820270  ...       13.824476  8.765179   \n",
              "E                 12.658022  19.388392  ...       13.033076  8.115320   \n",
              "F                 13.501059  21.285835  ...       11.722855  7.624314   \n",
              "G                 15.448590  23.182013  ...       12.618054  7.704262   \n",
              "\n",
              "                WIND_GUSTS_10M                ALTITUDE             DEW_POINT  \\\n",
              "                          mean        std         mean         std      mean   \n",
              "FIRE_SIZE_CLASS                                                                \n",
              "A                    24.320949  11.808457  1945.471971  532.261185  6.900730   \n",
              "B                    25.047382  12.162716  1941.472516  565.864300  7.289219   \n",
              "C                    24.689537  11.781037  1848.229353  587.541239  8.772176   \n",
              "D                    25.430628  12.524488  1869.572657  622.035039  7.974537   \n",
              "E                    25.660991  12.577086  1932.406745  604.215887  7.988693   \n",
              "F                    24.550976  12.370306  1857.017522  630.032593  8.277390   \n",
              "G                    25.230208  12.384493  2016.745093  577.339357  7.290477   \n",
              "\n",
              "                          HEAT_INDEX            \n",
              "                      std       mean       std  \n",
              "FIRE_SIZE_CLASS                                 \n",
              "A                5.118783  18.624617  7.218387  \n",
              "B                5.866297  19.242686  7.466270  \n",
              "C                6.712278  20.905312  7.792495  \n",
              "D                6.932324  19.946407  7.972630  \n",
              "E                5.932885  21.121319  7.730444  \n",
              "F                5.574235  20.751243  7.229404  \n",
              "G                5.539271  19.887745  7.819486  \n",
              "\n",
              "[7 rows x 22 columns]"
            ]
          },
          "execution_count": 17,
          "metadata": {},
          "output_type": "execute_result"
        }
      ],
      "source": [
        "# df3\n",
        "# balanced\n",
        "\n",
        "df3_look = df3[to_look].copy()\n",
        "\n",
        "df3_look.groupby(by = \"FIRE_SIZE_CLASS\").agg([\"mean\", \"std\"])"
      ]
    },
    {
      "cell_type": "code",
      "execution_count": 18,
      "metadata": {},
      "outputs": [
        {
          "data": {
            "text/html": [
              "<div>\n",
              "<style scoped>\n",
              "    .dataframe tbody tr th:only-of-type {\n",
              "        vertical-align: middle;\n",
              "    }\n",
              "\n",
              "    .dataframe tbody tr th {\n",
              "        vertical-align: top;\n",
              "    }\n",
              "\n",
              "    .dataframe thead tr th {\n",
              "        text-align: left;\n",
              "    }\n",
              "\n",
              "    .dataframe thead tr:last-of-type th {\n",
              "        text-align: right;\n",
              "    }\n",
              "</style>\n",
              "<table border=\"1\" class=\"dataframe\">\n",
              "  <thead>\n",
              "    <tr>\n",
              "      <th></th>\n",
              "      <th colspan=\"2\" halign=\"left\">TEMPERATURE</th>\n",
              "      <th colspan=\"2\" halign=\"left\">RELATIVE_HUMIDITY</th>\n",
              "      <th colspan=\"2\" halign=\"left\">PRECIPITATION</th>\n",
              "      <th colspan=\"2\" halign=\"left\">SURFACE_PRESSURE</th>\n",
              "      <th colspan=\"2\" halign=\"left\">CLOUD_COVER</th>\n",
              "      <th>...</th>\n",
              "      <th colspan=\"2\" halign=\"left\">WIND_SPEED_100M</th>\n",
              "      <th colspan=\"2\" halign=\"left\">WIND_GUSTS_10M</th>\n",
              "      <th colspan=\"2\" halign=\"left\">ALTITUDE</th>\n",
              "      <th colspan=\"2\" halign=\"left\">DEW_POINT</th>\n",
              "      <th colspan=\"2\" halign=\"left\">HEAT_INDEX</th>\n",
              "    </tr>\n",
              "    <tr>\n",
              "      <th></th>\n",
              "      <th>mean</th>\n",
              "      <th>std</th>\n",
              "      <th>mean</th>\n",
              "      <th>std</th>\n",
              "      <th>mean</th>\n",
              "      <th>std</th>\n",
              "      <th>mean</th>\n",
              "      <th>std</th>\n",
              "      <th>mean</th>\n",
              "      <th>std</th>\n",
              "      <th>...</th>\n",
              "      <th>mean</th>\n",
              "      <th>std</th>\n",
              "      <th>mean</th>\n",
              "      <th>std</th>\n",
              "      <th>mean</th>\n",
              "      <th>std</th>\n",
              "      <th>mean</th>\n",
              "      <th>std</th>\n",
              "      <th>mean</th>\n",
              "      <th>std</th>\n",
              "    </tr>\n",
              "    <tr>\n",
              "      <th>FIRE_SIZE_CLASS</th>\n",
              "      <th></th>\n",
              "      <th></th>\n",
              "      <th></th>\n",
              "      <th></th>\n",
              "      <th></th>\n",
              "      <th></th>\n",
              "      <th></th>\n",
              "      <th></th>\n",
              "      <th></th>\n",
              "      <th></th>\n",
              "      <th></th>\n",
              "      <th></th>\n",
              "      <th></th>\n",
              "      <th></th>\n",
              "      <th></th>\n",
              "      <th></th>\n",
              "      <th></th>\n",
              "      <th></th>\n",
              "      <th></th>\n",
              "      <th></th>\n",
              "      <th></th>\n",
              "    </tr>\n",
              "  </thead>\n",
              "  <tbody>\n",
              "    <tr>\n",
              "      <th>A</th>\n",
              "      <td>18.835538</td>\n",
              "      <td>7.074773</td>\n",
              "      <td>40.036953</td>\n",
              "      <td>22.680033</td>\n",
              "      <td>0.011542</td>\n",
              "      <td>0.073174</td>\n",
              "      <td>810.171218</td>\n",
              "      <td>47.538771</td>\n",
              "      <td>14.221516</td>\n",
              "      <td>19.304344</td>\n",
              "      <td>...</td>\n",
              "      <td>11.374770</td>\n",
              "      <td>6.328087</td>\n",
              "      <td>23.471844</td>\n",
              "      <td>10.765758</td>\n",
              "      <td>1959.899722</td>\n",
              "      <td>513.018266</td>\n",
              "      <td>6.842929</td>\n",
              "      <td>4.969857</td>\n",
              "      <td>18.835538</td>\n",
              "      <td>7.074773</td>\n",
              "    </tr>\n",
              "    <tr>\n",
              "      <th>B</th>\n",
              "      <td>19.297547</td>\n",
              "      <td>7.208414</td>\n",
              "      <td>37.950299</td>\n",
              "      <td>22.347645</td>\n",
              "      <td>0.009875</td>\n",
              "      <td>0.061372</td>\n",
              "      <td>816.062166</td>\n",
              "      <td>52.693853</td>\n",
              "      <td>13.248616</td>\n",
              "      <td>18.708752</td>\n",
              "      <td>...</td>\n",
              "      <td>12.179107</td>\n",
              "      <td>6.583463</td>\n",
              "      <td>23.969836</td>\n",
              "      <td>10.783967</td>\n",
              "      <td>1970.119248</td>\n",
              "      <td>524.325577</td>\n",
              "      <td>6.944784</td>\n",
              "      <td>5.265810</td>\n",
              "      <td>19.297547</td>\n",
              "      <td>7.208414</td>\n",
              "    </tr>\n",
              "    <tr>\n",
              "      <th>C</th>\n",
              "      <td>20.918085</td>\n",
              "      <td>7.628763</td>\n",
              "      <td>35.619557</td>\n",
              "      <td>21.789767</td>\n",
              "      <td>0.009847</td>\n",
              "      <td>0.058653</td>\n",
              "      <td>825.650098</td>\n",
              "      <td>60.594884</td>\n",
              "      <td>12.872886</td>\n",
              "      <td>18.097687</td>\n",
              "      <td>...</td>\n",
              "      <td>11.895530</td>\n",
              "      <td>6.488819</td>\n",
              "      <td>23.740936</td>\n",
              "      <td>10.621784</td>\n",
              "      <td>1885.965852</td>\n",
              "      <td>534.455107</td>\n",
              "      <td>8.123152</td>\n",
              "      <td>5.951329</td>\n",
              "      <td>20.918085</td>\n",
              "      <td>7.628763</td>\n",
              "    </tr>\n",
              "    <tr>\n",
              "      <th>D</th>\n",
              "      <td>19.708473</td>\n",
              "      <td>7.297734</td>\n",
              "      <td>36.351884</td>\n",
              "      <td>21.573990</td>\n",
              "      <td>0.009759</td>\n",
              "      <td>0.058627</td>\n",
              "      <td>824.513177</td>\n",
              "      <td>50.029081</td>\n",
              "      <td>12.151067</td>\n",
              "      <td>17.101060</td>\n",
              "      <td>...</td>\n",
              "      <td>12.238091</td>\n",
              "      <td>6.934266</td>\n",
              "      <td>24.330041</td>\n",
              "      <td>11.079747</td>\n",
              "      <td>1974.175131</td>\n",
              "      <td>511.643179</td>\n",
              "      <td>7.064484</td>\n",
              "      <td>5.447711</td>\n",
              "      <td>19.708473</td>\n",
              "      <td>7.297734</td>\n",
              "    </tr>\n",
              "    <tr>\n",
              "      <th>E</th>\n",
              "      <td>20.785452</td>\n",
              "      <td>7.635354</td>\n",
              "      <td>32.301592</td>\n",
              "      <td>20.659456</td>\n",
              "      <td>0.006917</td>\n",
              "      <td>0.049222</td>\n",
              "      <td>819.432234</td>\n",
              "      <td>52.780165</td>\n",
              "      <td>10.839068</td>\n",
              "      <td>16.390411</td>\n",
              "      <td>...</td>\n",
              "      <td>11.901667</td>\n",
              "      <td>6.486418</td>\n",
              "      <td>24.804202</td>\n",
              "      <td>11.616254</td>\n",
              "      <td>1952.165253</td>\n",
              "      <td>576.653079</td>\n",
              "      <td>7.330850</td>\n",
              "      <td>5.402464</td>\n",
              "      <td>20.785452</td>\n",
              "      <td>7.635354</td>\n",
              "    </tr>\n",
              "    <tr>\n",
              "      <th>F</th>\n",
              "      <td>20.914706</td>\n",
              "      <td>7.044201</td>\n",
              "      <td>36.815287</td>\n",
              "      <td>20.989585</td>\n",
              "      <td>0.008379</td>\n",
              "      <td>0.052449</td>\n",
              "      <td>838.839376</td>\n",
              "      <td>46.071113</td>\n",
              "      <td>11.153539</td>\n",
              "      <td>16.939373</td>\n",
              "      <td>...</td>\n",
              "      <td>10.540907</td>\n",
              "      <td>6.151692</td>\n",
              "      <td>23.319080</td>\n",
              "      <td>11.091388</td>\n",
              "      <td>1918.905839</td>\n",
              "      <td>510.434549</td>\n",
              "      <td>8.363595</td>\n",
              "      <td>5.216528</td>\n",
              "      <td>20.914706</td>\n",
              "      <td>7.044201</td>\n",
              "    </tr>\n",
              "    <tr>\n",
              "      <th>G</th>\n",
              "      <td>20.159181</td>\n",
              "      <td>7.837641</td>\n",
              "      <td>35.010997</td>\n",
              "      <td>22.274386</td>\n",
              "      <td>0.008964</td>\n",
              "      <td>0.056575</td>\n",
              "      <td>826.274592</td>\n",
              "      <td>55.709009</td>\n",
              "      <td>12.484558</td>\n",
              "      <td>18.321133</td>\n",
              "      <td>...</td>\n",
              "      <td>11.535978</td>\n",
              "      <td>6.425339</td>\n",
              "      <td>24.013814</td>\n",
              "      <td>11.111678</td>\n",
              "      <td>2000.015979</td>\n",
              "      <td>578.488741</td>\n",
              "      <td>7.247128</td>\n",
              "      <td>5.485330</td>\n",
              "      <td>20.159181</td>\n",
              "      <td>7.837641</td>\n",
              "    </tr>\n",
              "  </tbody>\n",
              "</table>\n",
              "<p>7 rows × 22 columns</p>\n",
              "</div>"
            ],
            "text/plain": [
              "                TEMPERATURE           RELATIVE_HUMIDITY             \\\n",
              "                       mean       std              mean        std   \n",
              "FIRE_SIZE_CLASS                                                      \n",
              "A                 18.835538  7.074773         40.036953  22.680033   \n",
              "B                 19.297547  7.208414         37.950299  22.347645   \n",
              "C                 20.918085  7.628763         35.619557  21.789767   \n",
              "D                 19.708473  7.297734         36.351884  21.573990   \n",
              "E                 20.785452  7.635354         32.301592  20.659456   \n",
              "F                 20.914706  7.044201         36.815287  20.989585   \n",
              "G                 20.159181  7.837641         35.010997  22.274386   \n",
              "\n",
              "                PRECIPITATION           SURFACE_PRESSURE             \\\n",
              "                         mean       std             mean        std   \n",
              "FIRE_SIZE_CLASS                                                       \n",
              "A                    0.011542  0.073174       810.171218  47.538771   \n",
              "B                    0.009875  0.061372       816.062166  52.693853   \n",
              "C                    0.009847  0.058653       825.650098  60.594884   \n",
              "D                    0.009759  0.058627       824.513177  50.029081   \n",
              "E                    0.006917  0.049222       819.432234  52.780165   \n",
              "F                    0.008379  0.052449       838.839376  46.071113   \n",
              "G                    0.008964  0.056575       826.274592  55.709009   \n",
              "\n",
              "                CLOUD_COVER             ... WIND_SPEED_100M            \\\n",
              "                       mean        std  ...            mean       std   \n",
              "FIRE_SIZE_CLASS                         ...                             \n",
              "A                 14.221516  19.304344  ...       11.374770  6.328087   \n",
              "B                 13.248616  18.708752  ...       12.179107  6.583463   \n",
              "C                 12.872886  18.097687  ...       11.895530  6.488819   \n",
              "D                 12.151067  17.101060  ...       12.238091  6.934266   \n",
              "E                 10.839068  16.390411  ...       11.901667  6.486418   \n",
              "F                 11.153539  16.939373  ...       10.540907  6.151692   \n",
              "G                 12.484558  18.321133  ...       11.535978  6.425339   \n",
              "\n",
              "                WIND_GUSTS_10M                ALTITUDE             DEW_POINT  \\\n",
              "                          mean        std         mean         std      mean   \n",
              "FIRE_SIZE_CLASS                                                                \n",
              "A                    23.471844  10.765758  1959.899722  513.018266  6.842929   \n",
              "B                    23.969836  10.783967  1970.119248  524.325577  6.944784   \n",
              "C                    23.740936  10.621784  1885.965852  534.455107  8.123152   \n",
              "D                    24.330041  11.079747  1974.175131  511.643179  7.064484   \n",
              "E                    24.804202  11.616254  1952.165253  576.653079  7.330850   \n",
              "F                    23.319080  11.091388  1918.905839  510.434549  8.363595   \n",
              "G                    24.013814  11.111678  2000.015979  578.488741  7.247128   \n",
              "\n",
              "                          HEAT_INDEX            \n",
              "                      std       mean       std  \n",
              "FIRE_SIZE_CLASS                                 \n",
              "A                4.969857  18.835538  7.074773  \n",
              "B                5.265810  19.297547  7.208414  \n",
              "C                5.951329  20.918085  7.628763  \n",
              "D                5.447711  19.708473  7.297734  \n",
              "E                5.402464  20.785452  7.635354  \n",
              "F                5.216528  20.914706  7.044201  \n",
              "G                5.485330  20.159181  7.837641  \n",
              "\n",
              "[7 rows x 22 columns]"
            ]
          },
          "execution_count": 18,
          "metadata": {},
          "output_type": "execute_result"
        }
      ],
      "source": [
        "# df4\n",
        "# no outliers, balanced\n",
        "\n",
        "df4_look = df4[to_look].copy()\n",
        "\n",
        "df4_look.groupby(by = \"FIRE_SIZE_CLASS\").agg([\"mean\", \"std\"])"
      ]
    },
    {
      "cell_type": "markdown",
      "metadata": {
        "id": "TI-ohXgEGJdC"
      },
      "source": [
        "**Split data and standardize.**"
      ]
    },
    {
      "cell_type": "code",
      "execution_count": 19,
      "metadata": {
        "colab": {
          "base_uri": "https://localhost:8080/"
        },
        "id": "r8APe-0O8R-3",
        "outputId": "a843e381-6a55-4d12-d078-2b9e81aa150f"
      },
      "outputs": [],
      "source": [
        "to_keep = [\"TEMPERATURE\", \"RELATIVE_HUMIDITY\",\n",
        "           \"PRECIPITATION\", \"SURFACE_PRESSURE\",\n",
        "           \"CLOUD_COVER\", \"WIND_SPEED_10M\",\n",
        "           \"WIND_SPEED_100M\", \"WIND_GUSTS_10M\",\n",
        "           \"SEASON_spring\", \"SEASON_summer\",\n",
        "           \"SEASON_fall\", \"SEASON_winter\",\n",
        "           \"ALTITUDE\", \"DEW_POINT\",\n",
        "           \"HEAT_INDEX\"]\n",
        "target = [\"FIRE_SIZE_CLASS\"]\n",
        "\n",
        "# perform split into x and y\n",
        "df1_x = df1[to_keep].copy()\n",
        "df1_y = df1[target].copy()\n",
        "\n",
        "df2_x = df2[to_keep].copy()\n",
        "df2_y = df2[target].copy()\n",
        "\n",
        "df3_x = df3[to_keep].copy()\n",
        "df3_y = df3[target].copy()\n",
        "\n",
        "df4_x = df4[to_keep].copy()\n",
        "df4_y = df4[target].copy()"
      ]
    },
    {
      "cell_type": "code",
      "execution_count": 20,
      "metadata": {},
      "outputs": [],
      "source": [
        "# create list to contain all dataframes\n",
        "Xs = [df1_x, df2_x, df3_x, df4_x]\n",
        "ys = [df1_y, df2_y, df3_y, df4_y]\n",
        "\n",
        "# for storing total train data\n",
        "X_train_list1 = []\n",
        "y_train_list1 = []\n",
        "\n",
        "# for storing final train, validation, and test data\n",
        "X_train_list = []\n",
        "y_train_list = []\n",
        "X_val_list = []\n",
        "y_val_list = []\n",
        "X_test_list = []\n",
        "y_test_list = []\n"
      ]
    },
    {
      "cell_type": "code",
      "execution_count": 21,
      "metadata": {},
      "outputs": [],
      "source": [
        "# seperate all data into train and test\n",
        "for i in range(len(Xs)):\n",
        "  X_train, X_test, y_train, y_test = train_test_split(Xs[i], ys[i],\n",
        "                                                      test_size = 0.2,\n",
        "                                                      stratify = ys[i],\n",
        "                                                      random_state = 13)\n",
        "\n",
        "  X_train_list1.append(X_train)\n",
        "  y_train_list1.append(y_train)\n",
        "  X_test_list.append(X_test)\n",
        "  y_test_list.append(y_test)\n",
        "\n",
        "\n",
        "# seperate train data into train and validation\n",
        "for i in range(len(X_train_list1)):\n",
        "  X_train, X_val, y_train, y_val = train_test_split(X_train_list1[i],\n",
        "                                                    y_train_list1[i],\n",
        "                                                    test_size = 0.3,\n",
        "                                                    stratify = y_train_list1[i],\n",
        "                                                    random_state = 13)\n",
        "\n",
        "  X_train_list.append(X_train)\n",
        "  y_train_list.append(y_train)\n",
        "  X_val_list.append(X_val)\n",
        "  y_val_list.append(y_val)\n",
        "\n"
      ]
    },
    {
      "cell_type": "code",
      "execution_count": 22,
      "metadata": {},
      "outputs": [],
      "source": [
        "# no modifications\n",
        "X_train_df1 = X_train_list[0]\n",
        "X_test_df1 = X_test_list[0]\n",
        "\n",
        "X_val_df1 = X_val_list[0]\n",
        "y_val_df1 = y_val_list[0]\n",
        "\n",
        "y_train_df1 = y_train_list[0]\n",
        "y_test_df1 = y_test_list[0]\n",
        "\n",
        "\n",
        "# without outliers\n",
        "X_train_df2 = X_train_list[1]\n",
        "X_test_df2 = X_test_list[1]\n",
        "\n",
        "X_val_df2 = X_val_list[1]\n",
        "y_val_df2 = y_val_list[1]\n",
        "\n",
        "y_train_df2 = y_train_list[1]\n",
        "y_test_df2 = y_test_list[1]\n",
        "\n",
        "# with outliers, balanced\n",
        "X_train_df3 = X_train_list[2]\n",
        "X_test_df3 = X_test_list[2]\n",
        "\n",
        "X_val_df3 = X_val_list[2]\n",
        "y_val_df3 = y_val_list[2]\n",
        "\n",
        "y_train_df3 = y_train_list[2]\n",
        "y_test_df3 = y_test_list[2]\n",
        "\n",
        "# without outliers, balanced\n",
        "X_train_df4 = X_train_list[3]\n",
        "X_test_df4 = X_test_list[3]\n",
        "\n",
        "X_val_df4 = X_val_list[3]\n",
        "y_val_df4 = y_val_list[3]\n",
        "\n",
        "y_train_df4 = y_train_list[3]\n",
        "y_test_df4 = y_test_list[3]"
      ]
    },
    {
      "cell_type": "code",
      "execution_count": 23,
      "metadata": {},
      "outputs": [
        {
          "name": "stdout",
          "output_type": "stream",
          "text": [
            "Shapes with Outliers: \n",
            "(1008000, 15) (1008000, 1) (432000, 15) (432000, 1) (360000, 15) (360000, 1)\n",
            "Shapes without Outliers: \n",
            "(904663, 15) (904663, 1) (387713, 15) (387713, 1) (323095, 15) (323095, 1)\n",
            "Shapes with Outliers Balanced: \n",
            "(4788201, 15) (4788201, 1) (2052087, 15) (2052087, 1) (1710072, 15) (1710072, 1)\n",
            "Shapes without Outliers Balanced: \n",
            "(4364637, 15) (4364637, 1) (1870559, 15) (1870559, 1) (1558800, 15) (1558800, 1)\n"
          ]
        }
      ],
      "source": [
        "# check shapes\n",
        "print(\"Shapes with Outliers: \")\n",
        "print(X_train_df1.shape, y_train_df1.shape,\n",
        "      X_val_df1.shape, y_val_df1.shape,\n",
        "      X_test_df1.shape, y_test_df1.shape)\n",
        "\n",
        "print(\"Shapes without Outliers: \")\n",
        "print(X_train_df2.shape, y_train_df2.shape,\n",
        "      X_val_df2.shape, y_val_df2.shape,\n",
        "      X_test_df2.shape, y_test_df2.shape)\n",
        "\n",
        "print(\"Shapes with Outliers Balanced: \")\n",
        "print(X_train_df3.shape, y_train_df3.shape,\n",
        "      X_val_df3.shape, y_val_df3.shape,\n",
        "      X_test_df3.shape, y_test_df3.shape)\n",
        "\n",
        "print(\"Shapes without Outliers Balanced: \")\n",
        "print(X_train_df4.shape, y_train_df4.shape,\n",
        "      X_val_df4.shape, y_val_df4.shape,\n",
        "      X_test_df4.shape, y_test_df4.shape)"
      ]
    },
    {
      "cell_type": "markdown",
      "metadata": {},
      "source": [
        "Standardize"
      ]
    },
    {
      "cell_type": "code",
      "execution_count": 24,
      "metadata": {
        "id": "hHHaksHhQf6J"
      },
      "outputs": [],
      "source": [
        "# select standard columns\n",
        "to_standardize = [\"TEMPERATURE\", \"RELATIVE_HUMIDITY\",\n",
        "                  \"PRECIPITATION\", \"SURFACE_PRESSURE\",\n",
        "                  \"CLOUD_COVER\", \"WIND_SPEED_10M\",\n",
        "                  \"WIND_SPEED_100M\", \"WIND_GUSTS_10M\",\n",
        "                  \"ALTITUDE\", \"DEW_POINT\",\n",
        "                  \"HEAT_INDEX\"]\n",
        "\n",
        "# standardize\n",
        "scaler = StandardScaler()\n",
        "\n",
        "# to add standardized data\n",
        "X_train_standard_list = []\n",
        "X_test_standard_list = []\n",
        "X_val_standard_list = []\n",
        "\n",
        "\n",
        "X_train_list = [X_train_df1, X_train_df2, X_train_df3, X_train_df4]\n",
        "X_test_list = [X_test_df1, X_test_df2, X_test_df3, X_test_df4]\n",
        "X_val_list = [X_val_df1, X_val_df2, X_val_df3, X_val_df4]\n",
        "\n",
        "for i in range(len(X_train_list)):\n",
        "  # training data\n",
        "  X_train_standard = scaler.fit_transform(X_train_list[i][to_standardize])\n",
        "  X_train_standard = pd.DataFrame(X_train_standard,\n",
        "                                  index = X_train_list[i][to_standardize].index,\n",
        "                                  columns = X_train_list[i][to_standardize].columns)\n",
        "  \n",
        "  X_train_standard[\"SEASON_summer\"] = X_train_list[i][\"SEASON_summer\"]\n",
        "  X_train_standard[\"SEASON_fall\"] = X_train_list[i][\"SEASON_fall\"]\n",
        "  X_train_standard[\"SEASON_winter\"] = X_train_list[i][\"SEASON_winter\"]\n",
        "  X_train_standard[\"SEASON_spring\"] = X_train_list[i][\"SEASON_spring\"]\n",
        "  \n",
        "  # testing data\n",
        "  X_test_standard = scaler.transform(X_test_list[i][to_standardize])\n",
        "  X_test_standard = pd.DataFrame(X_test_standard,\n",
        "                                 index = X_test_list[i][to_standardize].index,\n",
        "                                 columns = X_test_list[i][to_standardize].columns)\n",
        "  \n",
        "  X_test_standard[\"SEASON_summer\"] = X_test_list[i][\"SEASON_summer\"]\n",
        "  X_test_standard[\"SEASON_fall\"] = X_test_list[i][\"SEASON_fall\"]\n",
        "  X_test_standard[\"SEASON_winter\"] = X_test_list[i][\"SEASON_winter\"]\n",
        "  X_test_standard[\"SEASON_spring\"] = X_test_list[i][\"SEASON_spring\"]\n",
        "\n",
        "  # validation data\n",
        "  X_val_standard = scaler.transform(X_val_list[i][to_standardize])\n",
        "  X_val_standard = pd.DataFrame(X_val_standard,\n",
        "                                 index = X_val_list[i][to_standardize].index,\n",
        "                                 columns = X_val_list[i][to_standardize].columns)\n",
        "  \n",
        "  X_val_standard[\"SEASON_summer\"] = X_val_list[i][\"SEASON_summer\"]\n",
        "  X_val_standard[\"SEASON_fall\"] = X_val_list[i][\"SEASON_fall\"]\n",
        "  X_val_standard[\"SEASON_winter\"] = X_val_list[i][\"SEASON_winter\"]\n",
        "  X_val_standard[\"SEASON_spring\"] = X_val_list[i][\"SEASON_spring\"]\n",
        "\n",
        "  # append\n",
        "  X_train_standard_list.append(X_train_standard)\n",
        "  X_test_standard_list.append(X_test_standard)\n",
        "  X_val_standard_list.append(X_val_standard)"
      ]
    },
    {
      "cell_type": "code",
      "execution_count": 25,
      "metadata": {},
      "outputs": [],
      "source": [
        "# no modifications\n",
        "X_train_df1_standard = X_train_standard_list[0]\n",
        "X_test_df1_standard = X_test_standard_list[0]\n",
        "X_val_df1_standard = X_val_standard_list[0]\n",
        "\n",
        "# without outliers\n",
        "X_train_df2_standard = X_train_standard_list[1]\n",
        "X_test_df2_standard = X_test_standard_list[1]\n",
        "X_val_df2_standard = X_val_standard_list[1]\n",
        "\n",
        "# with outliers, balanced\n",
        "X_train_df3_standard = X_train_standard_list[2]\n",
        "X_test_df3_standard = X_test_standard_list[2]\n",
        "X_val_df3_standard = X_val_standard_list[2]\n",
        "\n",
        "# without outliers, balanced\n",
        "X_train_df4_standard = X_train_standard_list[3]\n",
        "X_test_df4_standard = X_test_standard_list[3]\n",
        "X_val_df4_standard = X_val_standard_list[3]"
      ]
    },
    {
      "cell_type": "markdown",
      "metadata": {},
      "source": [
        "Final Lists"
      ]
    },
    {
      "cell_type": "code",
      "execution_count": 26,
      "metadata": {
        "id": "WzC3BbD6Rij_"
      },
      "outputs": [],
      "source": [
        "train_X = [X_train_df1_standard, X_train_df2_standard,\n",
        "           X_train_df3_standard, X_train_df4_standard]\n",
        "train_y = [y_train_df1, y_train_df2,\n",
        "           y_train_df3, y_train_df4]\n",
        "\n",
        "val_X = [X_val_df1_standard, X_val_df2_standard,\n",
        "          X_val_df3_standard, X_val_df4_standard]\n",
        "val_y = [y_val_df1, y_val_df2,\n",
        "          y_val_df3, y_val_df4]\n",
        "\n",
        "test_X = [X_test_df1_standard, X_test_df2_standard,\n",
        "          X_test_df3_standard, X_test_df4_standard]\n",
        "test_y = [y_test_df1, y_test_df2,\n",
        "          y_test_df3, y_test_df4]"
      ]
    },
    {
      "cell_type": "markdown",
      "metadata": {},
      "source": [
        "Final Null Check"
      ]
    },
    {
      "cell_type": "code",
      "execution_count": 27,
      "metadata": {},
      "outputs": [],
      "source": [
        "for i in range(len(train_X)):\n",
        "    if train_X[i].isnull().sum().sum() != 0:\n",
        "        print(\"Nulls in train_X at: \", i)\n",
        "\n",
        "    if train_y[i].isnull().sum().sum() != 0:\n",
        "        print(\"Nulls in train_y at: \", i)\n",
        "\n",
        "    if val_X[i].isnull().sum().sum() != 0:\n",
        "        print(\"Nulls in val_X at: \", i)\n",
        "\n",
        "    if val_y[i].isnull().sum().sum() != 0:\n",
        "        print(\"Nulls in val_y at: \", i)\n",
        "\n",
        "    if test_X[i].isnull().sum().sum() != 0:\n",
        "        print(\"Nulls in test_X at: \", i)\n",
        "\n",
        "    if test_y[i].isnull().sum().sum() != 0:\n",
        "        print(\"Nulls in test_y at: \", i)"
      ]
    },
    {
      "cell_type": "markdown",
      "metadata": {
        "id": "Ix-ZRZMQNCqj"
      },
      "source": [
        "**Choosing Average Type:**\n",
        "Micro averaged precision is calculated as precision of totals, whereas weighted precision is the average of preicisons from all classes and takes into account the number of samples.\n",
        "\n",
        "*Micro Average Precision:*\n",
        "$$\\frac{TP_{total}}{TP_{total} + FP_{total}}$$\n",
        "\n",
        "*Weighted Average Precision:*\n",
        "$$\\frac{Precision_{class_1} * N_{class_1} + Precision_{class_2} * N_{class_2} + Precision_{class_3} * N_{class_3}}{Num Samples}$$\n",
        "\n",
        "\n",
        "Micro is generally preferred in multilabel settings."
      ]
    },
    {
      "cell_type": "markdown",
      "metadata": {
        "id": "T5hnCw8ycb2C"
      },
      "source": [
        "#### Precision Recall Curve\n",
        "\n",
        "https://widnu.medium.com/machine-learning-plot-roc-and-pr-curve-for-multi-classes-classification-d5c4c95a1769"
      ]
    },
    {
      "cell_type": "code",
      "execution_count": 28,
      "metadata": {
        "id": "E8OgKpoVcXd1"
      },
      "outputs": [],
      "source": [
        "def plot_precision_recall_curve(X, y, _classifier, caller):\n",
        "    # keep the algorithm's name to be written down into the graph\n",
        "    algor_name = type(_classifier).__name__\n",
        "\n",
        "    # put y into multiple columns for OneVsRestClassifier\n",
        "    onehotencoder = OneHotEncoder()\n",
        "    y_hat = onehotencoder.fit_transform(y.reshape(-1,1)).toarray()\n",
        "    n_classes = y_hat.shape[1]\n",
        "\n",
        "    # split train/test set\n",
        "    X_train, X_test, y_train, y_test = train_test_split(X, y_hat,\n",
        "                                                        test_size = 0.3,\n",
        "                                                        stratify = y_hat,\n",
        "                                                        random_state = 13)\n",
        "\n",
        "    # standardize\n",
        "\n",
        "\n",
        "    # For each classifier, the class is fitted against all the other classes\n",
        "    clf_ovr = OneVsRestClassifier(_classifier)\n",
        "    clf_ovr.fit(X_train, y_train)\n",
        "    y_proba = clf_ovr.predict_proba(X_test)\n",
        "\n",
        "    # Compute ROC curve and ROC area for each class\n",
        "    fig = plt.figure()\n",
        "    plt.style.use('default')\n",
        "    precision = dict()\n",
        "    recall = dict()\n",
        "    for i in range(n_classes):\n",
        "        precision[i], recall[i], _ = precision_recall_curve(y_test[:, i], y_proba[:, i])\n",
        "        plt.plot(recall[i], precision[i], lw=2, label='PR Curve of class {}'.format(i))\n",
        "\n",
        "    plt.xlim([0.0, 1.0])\n",
        "    plt.ylim([0.0, 1.05])\n",
        "    plt.xlabel(\"recall\")\n",
        "    plt.ylabel(\"precision\")\n",
        "    plt.legend(loc=\"lower right\", prop={'size': 10})\n",
        "    plt.title('Precision-Recall to multi-class: ' + caller)\n",
        "    plt.suptitle(algor_name, fontsize=16)\n",
        "    fig.tight_layout(rect=[0, 0.03, 1, 0.95])\n",
        "    plt.show()"
      ]
    },
    {
      "cell_type": "markdown",
      "metadata": {
        "id": "ho_cRLytA-c7"
      },
      "source": [
        "## Decision Tree Classifier"
      ]
    },
    {
      "cell_type": "code",
      "execution_count": 30,
      "metadata": {
        "colab": {
          "base_uri": "https://localhost:8080/"
        },
        "id": "c94B8TP72dch",
        "outputId": "64af4d6a-3cb0-4902-d7ad-fd42757daae2"
      },
      "outputs": [
        {
          "name": "stdout",
          "output_type": "stream",
          "text": [
            "USING WEIGHTED:\n",
            "Scores:\n",
            "Accuracy With Outliers:  0.971875\n",
            "Precision With Outliers:  0.9718800973974112\n",
            "Recall With Outliers:  0.971875\n",
            "F1 With Outliers:  0.9718773933950909\n",
            "\n",
            "Accuracy Without Outliers:  0.9636457895402011\n",
            "Precision Without Outliers:  0.9636316402857591\n",
            "Recall Without Outliers:  0.9636457895402011\n",
            "F1 Without Outliers:  0.9636374122082385\n",
            "\n",
            "Accuracy With Outliers, Balanced:  0.9951088818359066\n",
            "Precision With Outliers, Balanced:  0.9951050536947555\n",
            "Recall With Outliers, Balanced:  0.9951088818359066\n",
            "F1 With Outliers, Balanced:  0.9951066800338606\n",
            "\n",
            "Accuracy Without Outliers, Balanced: 0.9952570327907326\n",
            "Precision Without Outliers, Balanced: 0.9952537249625193\n",
            "Recall Without Outliers, Balanced: 0.9952570327907326\n",
            "F1 Without Outliers, Balanced:  0.9952551355118752\n"
          ]
        }
      ],
      "source": [
        "dtc = DecisionTreeClassifier(random_state = 13)\n",
        "\n",
        "dtc_acc = []\n",
        "dtc_preds = []\n",
        "dtc_precision = []\n",
        "dtc_recall = []\n",
        "dtc_f1 = []\n",
        "\n",
        "print(\"USING WEIGHTED:\")\n",
        "print(\"Scores:\")\n",
        "\n",
        "for i in range(len(train_X)):\n",
        "  model = dtc.fit(train_X[i], train_y[i])\n",
        "\n",
        "  preds = model.predict(val_X[i])\n",
        "  dtc_preds.append(preds)\n",
        "\n",
        "  # basic accuracy\n",
        "  acc = accuracy_score(val_y[i], preds)\n",
        "  dtc_acc.append(acc)\n",
        "\n",
        "  # precision\n",
        "  prec = precision_score(val_y[i], preds, average = \"weighted\")\n",
        "  dtc_precision.append(prec)\n",
        "\n",
        "  # recall\n",
        "  recall = recall_score(val_y[i], preds, average = \"weighted\")\n",
        "  dtc_recall.append(recall)\n",
        "\n",
        "  # f1_score\n",
        "  f1 = f1_score(val_y[i], preds, average = \"weighted\")\n",
        "  dtc_f1.append(f1)\n",
        "\n",
        "  if i == 0:\n",
        "    print(\"Accuracy With Outliers: \", acc)\n",
        "    print(\"Precision With Outliers: \", prec)\n",
        "    print(\"Recall With Outliers: \", recall)\n",
        "    print(\"F1 With Outliers: \", f1)\n",
        "  elif i == 1:\n",
        "    print(\"\\nAccuracy Without Outliers: \", acc)\n",
        "    print(\"Precision Without Outliers: \", prec)\n",
        "    print(\"Recall Without Outliers: \", recall)\n",
        "    print(\"F1 Without Outliers: \", f1)\n",
        "  elif i == 2:\n",
        "    print(\"\\nAccuracy With Outliers, Balanced: \", acc)\n",
        "    print(\"Precision With Outliers, Balanced: \", prec)\n",
        "    print(\"Recall With Outliers, Balanced: \", recall)\n",
        "    print(\"F1 With Outliers, Balanced: \", f1)\n",
        "  else:\n",
        "    print(\"\\nAccuracy Without Outliers, Balanced:\", acc)\n",
        "    print(\"Precision Without Outliers, Balanced:\", prec)\n",
        "    print(\"Recall Without Outliers, Balanced:\", recall)\n",
        "    print(\"F1 Without Outliers, Balanced: \", f1)"
      ]
    },
    {
      "cell_type": "markdown",
      "metadata": {
        "id": "TQMybSh-5Hj6"
      },
      "source": [
        "Moving forward with df3, With Outliers, Balanced."
      ]
    },
    {
      "cell_type": "code",
      "execution_count": null,
      "metadata": {
        "colab": {
          "base_uri": "https://localhost:8080/",
          "height": 477
        },
        "id": "V8ZCLHIAV11C",
        "outputId": "78579dad-816c-42ec-8032-ae3baedf946e"
      },
      "outputs": [],
      "source": [
        "dtc = DecisionTreeClassifier(random_state = 13)\n",
        "dtc.fit(X_train_df3, y_train_df3)\n",
        "y_pred = dtc.predict(X_test_df3)\n",
        "\n",
        "plot_precision_recall_curve(df3_x.to_numpy(),\n",
        "                            df3_y.to_numpy(),\n",
        "                            dtc,\n",
        "                            \"With Outliers, Balanced\")\n",
        "\n",
        "plt.show()"
      ]
    },
    {
      "cell_type": "markdown",
      "metadata": {
        "id": "cbxrkhmKnUhF"
      },
      "source": [
        "Precision: fraction of positive predictions that *actually* belong to positive class\n",
        "$$\\frac{TP}{TP + FP}$$\n",
        "\n",
        "Recall: fraction of positive predictions out of all positive instances in the data set\n",
        "$$\\frac{TP}{TP + FN}$$\n",
        "\n",
        "\n",
        "https://scikit-learn.org/stable/auto_examples/model_selection/plot_precision_recall.html"
      ]
    },
    {
      "cell_type": "markdown",
      "metadata": {
        "id": "7PtSTeNyBA3z"
      },
      "source": [
        "## Random Forest Classifier"
      ]
    },
    {
      "cell_type": "code",
      "execution_count": 31,
      "metadata": {
        "colab": {
          "base_uri": "https://localhost:8080/"
        },
        "id": "0fC_OOpOBA9i",
        "outputId": "cd5968c5-c2c0-466b-9d57-cd5a28276623"
      },
      "outputs": [
        {
          "name": "stdout",
          "output_type": "stream",
          "text": [
            "Scores:\n",
            "Accuracy With Outliers:  0.7941689814814815\n",
            "Precision With Outliers:  0.8204298469216873\n",
            "Recall With Outliers:  0.7941689814814815\n",
            "F1 With Outliers:  0.7626625338579397\n",
            "\n",
            "Accuracy Without Outliers:  0.7864141774972725\n",
            "Precision Without Outliers:  0.8136133588843486\n",
            "Recall Without Outliers:  0.7864141774972725\n",
            "F1 Without Outliers:  0.7486993113645161\n",
            "\n",
            "Accuracy With Outliers, Balanced:  0.9798975384571902\n",
            "Precision With Outliers, Balanced:  0.9798507577206013\n",
            "Recall With Outliers, Balanced:  0.9798975384571902\n",
            "F1 With Outliers, Balanced:  0.9798574145727781\n",
            "\n",
            "Accuracy Without Outliers, Balanced: 0.9774981703330394\n",
            "Precision Without Ostliers, Balanced: 0.9773894947879812\n",
            "Recall Without Outliers, Balanced: 0.9774981703330394\n",
            "F1 Without Outliers, Balanced:  0.9774380575524779\n"
          ]
        }
      ],
      "source": [
        "rfc = RandomForestClassifier()\n",
        "\n",
        "rfc_acc = []\n",
        "rfc_precision = []\n",
        "rfc_recall = []\n",
        "rfc_f1 = []\n",
        "\n",
        "print(\"Scores:\")\n",
        "\n",
        "for i in range(len(train_X)):\n",
        "  model = rfc.fit(train_X[i], np.ravel(train_y[i]))\n",
        "\n",
        "  preds = model.predict(val_X[i])\n",
        "\n",
        "  # basic accuracy\n",
        "  acc = accuracy_score(val_y[i], preds)\n",
        "  rfc_acc.append(acc)\n",
        "\n",
        "  # precision\n",
        "  prec = precision_score(val_y[i], preds, average = \"weighted\")\n",
        "  rfc_precision.append(prec)\n",
        "\n",
        "  # recall\n",
        "  recall = recall_score(val_y[i], preds, average = \"weighted\")\n",
        "  rfc_recall.append(recall)\n",
        "\n",
        "  # f1\n",
        "  f1 = f1_score(val_y[i], preds, average = \"weighted\")\n",
        "  rfc_f1.append(f1)\n",
        "\n",
        "  if i == 0:\n",
        "    print(\"Accuracy With Outliers: \", acc)\n",
        "    print(\"Precision With Outliers: \", prec)\n",
        "    print(\"Recall With Outliers: \", recall)\n",
        "    print(\"F1 With Outliers: \", f1)\n",
        "  elif i == 1:\n",
        "    print(\"\\nAccuracy Without Outliers: \", acc)\n",
        "    print(\"Precision Without Outliers: \", prec)\n",
        "    print(\"Recall Without Outliers: \", recall)\n",
        "    print(\"F1 Without Outliers: \", f1)\n",
        "  elif i == 2:\n",
        "    print(\"\\nAccuracy With Outliers, Balanced: \", acc)\n",
        "    print(\"Precision With Outliers, Balanced: \", prec)\n",
        "    print(\"Recall With Outliers, Balanced: \", recall)\n",
        "    print(\"F1 With Outliers, Balanced: \", f1)\n",
        "  else:\n",
        "    print(\"\\nAccuracy Without Outliers, Balanced:\", acc)\n",
        "    print(\"Precision Without Ostliers, Balanced:\", prec)\n",
        "    print(\"Recall Without Outliers, Balanced:\", recall)\n",
        "    print(\"F1 Without Outliers, Balanced: \", f1)"
      ]
    },
    {
      "cell_type": "markdown",
      "metadata": {
        "id": "mG6R8oe049P-"
      },
      "source": [
        "Moving forward with df3: With Outliers, Balanced"
      ]
    },
    {
      "cell_type": "code",
      "execution_count": null,
      "metadata": {
        "colab": {
          "base_uri": "https://localhost:8080/",
          "height": 477
        },
        "id": "BksY6kkOE5Yc",
        "outputId": "5f899adf-6a09-4787-9aa7-abe0c0eeb579"
      },
      "outputs": [],
      "source": [
        "rfc = RandomForestClassifier(random_state = 13)\n",
        "rfc.fit(X_train_df3, np.ravel(y_train_df3))\n",
        "y_pred = rfc.predict(X_test_df3)\n",
        "\n",
        "plot_precision_recall_curve(df3_x.to_numpy(),\n",
        "                            df3_y.to_numpy(),\n",
        "                            rfc,\n",
        "                            \"With Outliers, Balanced\")\n",
        "\n",
        "plt.show()"
      ]
    },
    {
      "cell_type": "markdown",
      "metadata": {
        "id": "rgBMRhEKBBDI"
      },
      "source": [
        "## K Nearest Neighbors"
      ]
    },
    {
      "cell_type": "code",
      "execution_count": 32,
      "metadata": {
        "id": "tvvhkzAeBBHA"
      },
      "outputs": [
        {
          "name": "stdout",
          "output_type": "stream",
          "text": [
            "Scores:\n"
          ]
        }
      ],
      "source": [
        "knc = KNeighborsClassifier(n_neighbors = 3)\n",
        "\n",
        "knc_acc = []\n",
        "knc_precision = []\n",
        "knc_recall = []\n",
        "knc_f1 = []\n",
        "\n",
        "print(\"Scores:\")\n",
        "\n",
        "for i in range(len(train_X)):\n",
        "  model = knc.fit(train_X[i], np.ravel(train_y[i]))\n",
        "\n",
        "  preds = model.predict(val_X[i])\n",
        "\n",
        "  # basic accuracy\n",
        "  acc = accuracy_score(val_y[i], preds)\n",
        "  knc_acc.append(acc)\n",
        "\n",
        "  # precision\n",
        "  prec = precision_score(val_y[i], preds, average = \"weighted\")\n",
        "  knc_precision.append(prec)\n",
        "\n",
        "  # recall\n",
        "  recall = recall_score(val_y[i], preds, average = \"weighted\")\n",
        "  knc_recall.append(recall)\n",
        "\n",
        "  # f1\n",
        "  f1 = f1_score(val_y[i], preds, average = \"weighted\")\n",
        "  knc_f1.append(f1)\n",
        "\n",
        "  if i == 0:\n",
        "    print(\"Accuracy With Outliers: \", acc)\n",
        "    print(\"Precision With Outliers: \", prec)\n",
        "    print(\"Recall With Outliers: \", recall)\n",
        "    print(\"F1 With Outliers: \", f1)\n",
        "  elif i == 1:\n",
        "    print(\"\\nAccuracy Without Outliers: \", acc)\n",
        "    print(\"Precision Without Outliers: \", prec)\n",
        "    print(\"Recall Without Outliers: \", recall)\n",
        "    print(\"F1 Without Outliers: \", f1)\n",
        "  elif i == 2:\n",
        "    print(\"\\nAccuracy With Outliers, Balanced: \", acc)\n",
        "    print(\"Precision With Outliers, Balanced: \", prec)\n",
        "    print(\"Recall With Outliers, Balanced: \", recall)\n",
        "    print(\"F1 With Outlier, Balanced: \", f1)\n",
        "  else:\n",
        "    print(\"\\nAccuracy Without Outliers, Balanced:\", acc)\n",
        "    print(\"Precision Without Outliers, Balanced:\", prec)\n",
        "    print(\"Recall Without Outliers, Balanced:\", recall)\n",
        "    print(\"F1 Without Outliers, Balanced: \", f1)"
      ]
    },
    {
      "cell_type": "markdown",
      "metadata": {
        "id": "LILkTvbH54KJ"
      },
      "source": [
        "Moving Forward with df3, With Outliers, Balanced."
      ]
    },
    {
      "cell_type": "code",
      "execution_count": null,
      "metadata": {
        "id": "jcqosljycfsJ"
      },
      "outputs": [],
      "source": [
        "knc = KNeighborsClassifier(n_neighbors = 3)\n",
        "knc.fit(X_train_df3, y_train_df3)\n",
        "y_pred = knc.predict(X_test_df3)\n",
        "\n",
        "plot_precision_recall_curve(df3_x.to_numpy(),\n",
        "                            df3_y.to_numpy(),\n",
        "                            knc,\n",
        "                            \"With Outliers, Balanced\")\n",
        "\n",
        "plt.show()"
      ]
    },
    {
      "cell_type": "markdown",
      "metadata": {
        "id": "0dYwFiXJVnkG"
      },
      "source": [
        "## XGBoost Classifier"
      ]
    },
    {
      "cell_type": "code",
      "execution_count": null,
      "metadata": {
        "id": "rWxHfX9rjYbq"
      },
      "outputs": [],
      "source": [
        "# encode y to be numerical for xgboost\n",
        "le = LabelEncoder()\n",
        "\n",
        "for i in range(len(train_y)):\n",
        "  train_y[i] = le.fit_transform(np.ravel(train_y[i]))\n",
        "  test_y[i] = le.transform(np.ravel(test_y[i]))"
      ]
    },
    {
      "cell_type": "code",
      "execution_count": null,
      "metadata": {
        "id": "PqMpkDkfTP0I"
      },
      "outputs": [],
      "source": [
        "xgb = XGBClassifier()\n",
        "\n",
        "xgb_acc = []\n",
        "xgb_precision = []\n",
        "xgb_recall = []\n",
        "xgb_f1 = []\n",
        "\n",
        "print(\"Scores:\")\n",
        "\n",
        "for i in range(len(train_X)):\n",
        "  model = xgb.fit(train_X[i], train_y[i])\n",
        "\n",
        "  preds = model.predict(val_X[i])\n",
        "\n",
        "  # basic accuracy\n",
        "  acc = accuracy_score(val_y[i], preds)\n",
        "  xgb_acc.append(acc)\n",
        "\n",
        "  # precision\n",
        "  prec = precision_score(val_y[i], preds, average = \"micro\")\n",
        "    # micro calculates globally by counting the total true positives,\n",
        "    # false negatives, and false positives\n",
        "  xgb_precision.append(prec)\n",
        "\n",
        "  # recall\n",
        "  recall = recall_score(val_y[i], preds, average = \"micro\")\n",
        "    # micro calculates globally by counting the total true positives,\n",
        "    # false negatives, and false positives\n",
        "  xgb_recall.append(recall)\n",
        "\n",
        "  # f1\n",
        "  f1 = f1_score(val_y[i], preds, average = \"weighted\")\n",
        "  xgb_f1.append(f1)\n",
        "\n",
        "  if i == 0:\n",
        "    print(\"Accuracy With Outliers: \", acc)\n",
        "    print(\"Precision With Outliers: \", prec)\n",
        "    print(\"Recall With Outliers: \", recall)\n",
        "    print(\"F1 With Outliers: \", f1)\n",
        "  elif i == 1:\n",
        "    print(\"\\nAccuracy Without Outliers: \", acc)\n",
        "    print(\"Precision Without Outliers: \", prec)\n",
        "    print(\"Recall Without Outliers: \", recall)\n",
        "    print(\"F1 Without Outliers: \", f1)\n",
        "  elif i == 2:\n",
        "    print(\"\\nAccuracy With Outliers, Balanced: \", acc)\n",
        "    print(\"Precision With Outliers, Balanced: \", prec)\n",
        "    print(\"Recall With Outliers, Balanced: \", recall)\n",
        "    print(\"F1 With Outlier, Balanced: \", f1)\n",
        "  else:\n",
        "    print(\"\\nAccuracy Without Outliers, Balanced:\", acc)\n",
        "    print(\"Precision Without Outliers, Balanced:\", prec)\n",
        "    print(\"Recall Without Outliers, Balanced:\", recall)\n",
        "    print(\"F1 Without Outliers, Balanced: \", f1)"
      ]
    },
    {
      "cell_type": "code",
      "execution_count": null,
      "metadata": {
        "id": "Q0pyYLRzjzan"
      },
      "outputs": [],
      "source": [
        "# label encode y\n",
        "le = LabelEncoder()\n",
        "y_train_df3 = le.fit_transform(np.ravel(y_train_df3))\n",
        "\n",
        "\n",
        "xgb = XGBClassifier()\n",
        "xgb.fit(X_train_df3, y_train_df3)\n",
        "y_pred = xgb.predict(X_test_df3)\n",
        "y_proba = xgb.predict(X_test_df3)\n",
        "\n",
        "plot_precision_recall_curve(df3_x.to_numpy(),\n",
        "                            df3_y.to_numpy(),\n",
        "                            xgb,\n",
        "                            \"Accuracy With Outliers, Balanced\")"
      ]
    },
    {
      "cell_type": "markdown",
      "metadata": {},
      "source": [
        "# Hyperparameter Tuning"
      ]
    },
    {
      "cell_type": "markdown",
      "metadata": {},
      "source": [
        "- n_estimators\n",
        "  - number of trees in the forest\n",
        "- max_depth\n",
        "  - maximum depth of the tree\n",
        "- max_features\n",
        "  - number of faetures to consider\n",
        "- bootstrap\n",
        "  - whether bootstrap samples are used to build each tree"
      ]
    },
    {
      "cell_type": "code",
      "execution_count": null,
      "metadata": {},
      "outputs": [],
      "source": [
        "# use random search a couple times to narrow down\n",
        "# then use grid search\n",
        "\n",
        "rfc = RandomForestClassifier(random_state = 13)\n",
        "\n",
        "param_grid = {\"n_estimators\": range(2, 7),\n",
        "              \"max_depth\": range(2, 10),\n",
        "              \"max_features\": [1, 2, 3, 4, 5, 6, 7, 8],\n",
        "              \"bootstrap\": [True, False]}\n",
        "\n",
        "n_estimators = []\n",
        "max_depth = []\n",
        "max_features = []\n",
        "bootstrap = []\n",
        "\n",
        "for i in range(10):\n",
        "  ran_search = RandomizedSearchCV(rfc, param_grid,\n",
        "                                  scoring = \"f1_weighted\")\n",
        "  ran_search.fit(X_train_df3, np.ravel(y_train_df3))\n",
        "\n",
        "  n_estimators.append(ran_search.best_params_[\"n_estimators\"])\n",
        "  max_depth.append(ran_search.best_params_[\"max_depth\"])\n",
        "  max_features.append(ran_search.best_params_[\"max_features\"])\n",
        "  bootstrap.append(ran_search.best_params_[\"bootstrap\"])\n",
        "\n",
        "n_estimators = set(n_estimators)\n",
        "max_depth = set(max_depth)\n",
        "max_features = set(max_features)\n",
        "bootstrap = set(bootstrap)\n",
        "\n",
        "n_estimators, max_depth, max_features, bootstrap"
      ]
    },
    {
      "cell_type": "code",
      "execution_count": null,
      "metadata": {},
      "outputs": [],
      "source": [
        "# grid search\n",
        "\n",
        "rfc = RandomForestClassifier(random_state = 13)\n",
        "\n",
        "param_grid = {\"n_estimators\": list(n_estimators),\n",
        "              \"max_depth\": list(max_depth),\n",
        "              \"max_features\": list(max_features),\n",
        "              \"bootstrap\": list(bootstrap)}\n",
        "\n",
        "search = GridSearchCV(rfc, param_grid,\n",
        "                      scoring = \"f1_micro\",\n",
        "                      cv = 10)\n",
        "\n",
        "search.fit(X_train_df3, np.ravel(y_train_df3))\n",
        "\n",
        "best_estimator = search.best_estimator_\n",
        "best_estimator"
      ]
    },
    {
      "cell_type": "code",
      "execution_count": null,
      "metadata": {},
      "outputs": [],
      "source": [
        "rfc = best_estimator\n",
        "\n",
        "print(\"Scores:\")\n",
        "\n",
        "model = rfc.fit(X_train_df3, y_train_df3)\n",
        "\n",
        "preds = model.predict(X_test_df3)\n",
        "\n",
        "# basic accuracy\n",
        "acc = accuracy_score(y_test_df3, preds)\n",
        "\n",
        "# precision\n",
        "prec = precision_score(y_test_df3, preds, average = \"weighted\")\n",
        "\n",
        "# recall\n",
        "recall = recall_score(y_test_df3, preds, average = \"weighted\")\n",
        "\n",
        "# f1_score\n",
        "f1 = f1_score(y_test_df3, preds, average = \"weighted\")\n",
        "\n",
        "print(\"Accuracy With Outliers: \", acc)\n",
        "print(\"Precision With Outliers: \", prec)\n",
        "print(\"Recall With Outliers: \", recall)\n",
        "print(\"F1 With Outliers: \", f1)"
      ]
    }
  ],
  "metadata": {
    "colab": {
      "collapsed_sections": [
        "POQBWaw1KygQ",
        "XlbuiqJ6K4LQ",
        "5bbGxRe0LoN1",
        "x2ev7UeeMbAA",
        "A2ORvU8RNYY3",
        "jODYVLNvNgO9",
        "O9lqKgRCNmLw",
        "AT8dc6rjNpsW",
        "ZNgDLhEdNwvY",
        "hWjKEq7HNw5r",
        "vH6XfUIxNxCA",
        "1D1GV9qNOwr8",
        "1y0IlEixOw0i",
        "yKLXGIj6O7IA",
        "1gGaPyUOP0Cy",
        "xHJeXwefP0Nd",
        "VGZQ5iMSP0VI",
        "xdPIa8SpP0cj",
        "pM_yCLXmP-qe",
        "uok8vnXCP-xT",
        "T5hnCw8ycb2C",
        "rgBMRhEKBBDI",
        "0dYwFiXJVnkG"
      ],
      "provenance": []
    },
    "kernelspec": {
      "display_name": "Python 3",
      "name": "python3"
    },
    "language_info": {
      "codemirror_mode": {
        "name": "ipython",
        "version": 3
      },
      "file_extension": ".py",
      "mimetype": "text/x-python",
      "name": "python",
      "nbconvert_exporter": "python",
      "pygments_lexer": "ipython3",
      "version": "3.9.12"
    }
  },
  "nbformat": 4,
  "nbformat_minor": 0
}
