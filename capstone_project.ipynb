{
  "nbformat": 4,
  "nbformat_minor": 0,
  "metadata": {
    "colab": {
      "provenance": [],
      "collapsed_sections": [
        "POQBWaw1KygQ",
        "XlbuiqJ6K4LQ",
        "5bbGxRe0LoN1",
        "seDLWFYGNOae",
        "A2ORvU8RNYY3",
        "jODYVLNvNgO9",
        "O9lqKgRCNmLw",
        "AT8dc6rjNpsW",
        "ZNgDLhEdNwvY",
        "hWjKEq7HNw5r",
        "vH6XfUIxNxCA",
        "1D1GV9qNOwr8",
        "1y0IlEixOw0i",
        "yKLXGIj6O7IA",
        "teCezwURPl9a",
        "1gGaPyUOP0Cy",
        "xHJeXwefP0Nd",
        "VGZQ5iMSP0VI",
        "xdPIa8SpP0cj",
        "pM_yCLXmP-qe",
        "uok8vnXCP-xT",
        "cblM6xk_QdWy"
      ],
      "toc_visible": true
    },
    "kernelspec": {
      "name": "python3",
      "display_name": "Python 3"
    },
    "language_info": {
      "name": "python"
    }
  },
  "cells": [
    {
      "cell_type": "markdown",
      "source": [
        "# Imports\n"
      ],
      "metadata": {
        "id": "POQBWaw1KygQ"
      }
    },
    {
      "cell_type": "code",
      "source": [
        "import pandas as pd\n",
        "import numpy as np\n",
        "from datetime import datetime, date, timedelta\n",
        "import requests\n",
        "from bs4 import BeautifulSoup\n",
        "import json\n",
        "import seaborn as sns\n",
        "from pathlib import Path\n",
        "import matplotlib.pyplot as plt"
      ],
      "metadata": {
        "id": "zvTGda6MKynF"
      },
      "execution_count": 1,
      "outputs": []
    },
    {
      "cell_type": "code",
      "source": [
        "from sklearn.preprocessing import StandardScaler\n",
        "from sklearn.model_selection import train_test_split\n",
        "from sklearn.tree import DecisionTreeClassifier\n",
        "from sklearn.ensemble import RandomForestClassifier\n",
        "from sklearn.neighbors import KNeighborsClassifier\n",
        "from sklearn.metrics import accuracy_score"
      ],
      "metadata": {
        "id": "jhE1oyTO8BI3"
      },
      "execution_count": 3,
      "outputs": []
    },
    {
      "cell_type": "markdown",
      "source": [
        "# Initial Data Prep"
      ],
      "metadata": {
        "id": "XlbuiqJ6K4LQ"
      }
    },
    {
      "cell_type": "markdown",
      "source": [
        "**Read in initial data**"
      ],
      "metadata": {
        "id": "tmKp6VmUK7sg"
      }
    },
    {
      "cell_type": "code",
      "source": [
        "# data = pd.read_csv(\"wildfire_data.csv\", low_memory = False)\n",
        "# data"
      ],
      "metadata": {
        "id": "J-3sbiLoK4P7"
      },
      "execution_count": 2,
      "outputs": []
    },
    {
      "cell_type": "code",
      "source": [
        "# data.columns"
      ],
      "metadata": {
        "id": "7LU-6MexLAiv"
      },
      "execution_count": 3,
      "outputs": []
    },
    {
      "cell_type": "markdown",
      "source": [
        "Create small subset to send."
      ],
      "metadata": {
        "id": "4GybWTuuLC3B"
      }
    },
    {
      "cell_type": "code",
      "source": [
        "# to_send = data.iloc[:500, :].reset_index()\n",
        "\n",
        "# # save to csv file\n",
        "# path = \"/Users/lmhartmann/Desktop/Weather/to_send.csv\"\n",
        "# data.to_csv(path)"
      ],
      "metadata": {
        "id": "MhIFqLuWLAlN"
      },
      "execution_count": 4,
      "outputs": []
    },
    {
      "cell_type": "markdown",
      "source": [
        "Keep selected columns."
      ],
      "metadata": {
        "id": "A7EZx0YtLFy1"
      }
    },
    {
      "cell_type": "code",
      "source": [
        "# to_keep = [\"LONGITUDE\", \"LATITUDE\", \"OBJECTID\",\n",
        "#            \"OWNER_DESCR\",\n",
        "#            \"FIRE_YEAR\", \"DISCOVERY_DATE\",\n",
        "#            \"DISCOVERY_DOY\", \"DISCOVERY_TIME\",\n",
        "#            \"NWCG_CAUSE_CLASSIFICATION\", \"CONT_DATE\",\n",
        "#            \"CONT_DOY\", \"CONT_TIME\",\n",
        "#            \"STATE\", \"COUNTY\", \"FIPS_CODE\", \"FIPS_NAME\", \"FIRE_SIZE\",\n",
        "#            \"FIRE_SIZE_CLASS\"]"
      ],
      "metadata": {
        "id": "rLG4MXeLLAnm"
      },
      "execution_count": 5,
      "outputs": []
    },
    {
      "cell_type": "code",
      "source": [
        "# raw_data = data.copy()\n",
        "# data = data[to_keep].copy()\n",
        "# data"
      ],
      "metadata": {
        "id": "f63e14SoLApi"
      },
      "execution_count": 6,
      "outputs": []
    },
    {
      "cell_type": "markdown",
      "source": [
        "Select only Natural fires and USFS fires."
      ],
      "metadata": {
        "id": "LGq0ULuqLJSh"
      }
    },
    {
      "cell_type": "code",
      "source": [
        "# data = data.loc[(data[\"NWCG_CAUSE_CLASSIFICATION\"] == \"Natural\")]\n",
        "# data = data.loc[data[\"OWNER_DESCR\"] == \"USFS\"]"
      ],
      "metadata": {
        "id": "hmsSFlGRLAry"
      },
      "execution_count": 7,
      "outputs": []
    },
    {
      "cell_type": "markdown",
      "source": [
        "Check datatypes and unique values."
      ],
      "metadata": {
        "id": "mGp_avCmLN-g"
      }
    },
    {
      "cell_type": "code",
      "source": [
        "# data.dtypes"
      ],
      "metadata": {
        "id": "PboWqWs8LPvF"
      },
      "execution_count": 8,
      "outputs": []
    },
    {
      "cell_type": "code",
      "source": [
        "# print(data[\"NWCG_CAUSE_CLASSIFICATION\"].unique())\n",
        "# print(len(data[\"STATE\"].unique()))\n",
        "# print(data[\"OWNER_DESCR\"].unique())"
      ],
      "metadata": {
        "id": "50coFyI-LRoY"
      },
      "execution_count": 9,
      "outputs": []
    },
    {
      "cell_type": "markdown",
      "source": [
        "Reset index."
      ],
      "metadata": {
        "id": "d4EC8GkTLW3B"
      }
    },
    {
      "cell_type": "code",
      "source": [
        "# data = data.reset_index()\n",
        "# data"
      ],
      "metadata": {
        "id": "Xs3HMzfeLUGO"
      },
      "execution_count": 10,
      "outputs": []
    },
    {
      "cell_type": "markdown",
      "source": [
        "Select further sumsbet of columns."
      ],
      "metadata": {
        "id": "T-m4Tc2mLYE1"
      }
    },
    {
      "cell_type": "code",
      "source": [
        "# # drop 'index', 'owner_descr', 'nwcg_cause_classification'\n",
        "# data = data.drop([\"index\", \"OWNER_DESCR\", \"NWCG_CAUSE_CLASSIFICATION\"], axis = 1)\n",
        "# data"
      ],
      "metadata": {
        "id": "9K4E3gkpLcNz"
      },
      "execution_count": 11,
      "outputs": []
    },
    {
      "cell_type": "markdown",
      "source": [
        "Initial null check."
      ],
      "metadata": {
        "id": "FvWQHwRcLdM8"
      }
    },
    {
      "cell_type": "code",
      "source": [
        "# data.isnull().sum()"
      ],
      "metadata": {
        "id": "MwmRcjgbLewS"
      },
      "execution_count": 12,
      "outputs": []
    },
    {
      "cell_type": "code",
      "source": [
        "# print(\"Percent Null: Discovery Time: \", 34/len(data)*100)\n",
        "# print(\"Percent Null: Cont Date: \", 3987/len(data)*100)\n",
        "# print(\"Percent Null: Cont Doy: \", 3987/len(data)*100)\n",
        "# print(\"Percent Null: Cont Time: \", 4412/len(data)*100)\n",
        "# print(\"Percent Null: County: \", 58658/len(data)*100)\n",
        "# print(\"Percent Null: Fips Code: \", 58658/len(data)*100)\n",
        "# print(\"Percent Null: Fips Name: \", 58658/len(data)*100)"
      ],
      "metadata": {
        "id": "3KmXf0qOLfqt"
      },
      "execution_count": 13,
      "outputs": []
    },
    {
      "cell_type": "markdown",
      "source": [
        "Select portion of data and collect weather data and save."
      ],
      "metadata": {
        "id": "oJ2DY0GbLilf"
      }
    },
    {
      "cell_type": "code",
      "source": [
        "# df1 = data.iloc[:5000, :]"
      ],
      "metadata": {
        "id": "dUx_dGejLgx7"
      },
      "execution_count": 14,
      "outputs": []
    },
    {
      "cell_type": "code",
      "source": [
        "# # get weather data\n",
        "\n",
        "# # initalize new dataframe\n",
        "# weather_df = pd.DataFrame(columns = [\"DISCOVERY_DATE\", \"TIME\", \"TEMPERATURE\",\n",
        "#                                      \"RELATIVE_HUMIDITY\", \"PRECIPITATION\", \"SURFACE_PRESSURE\",\n",
        "#                                      \"CLOUD_COVER\", \"WIND_SPEED_10M\", \"WIND_SPEED_100M\",\n",
        "#                                      \"WIND_GUSTS_10M\"])\n",
        "\n",
        "# # base website\n",
        "# url = \"https://archive-api.open-meteo.com/v1/archive?\"\n",
        "\n",
        "# # for loop through dataframe\n",
        "# for row in range(len(df1)):\n",
        "\n",
        "#     discov = datetime.strptime(str.rstrip(df1[\"DISCOVERY_DATE\"][row][0:19]), \"%Y/%m/%d %H:%M:%S\")\n",
        "#     prior = discov - timedelta(weeks = 2)\n",
        "#     # convert into strings\n",
        "#     discov_str = \"&end_date=\" + discov.strftime(\"%Y-%m-%d\")\n",
        "#     prior_str = \"&start_date=\" + prior.strftime(\"%Y-%m-%d\")\n",
        "\n",
        "#     long = \"&longitude=\" + str(df1[\"LONGITUDE\"][row])\n",
        "#     lat = \"latitude=\" + str(df1[\"LATITUDE\"][row])\n",
        "\n",
        "#     over_req = \"&hourly=temperature_2m,relative_humidity_2m,precipitation,surface_pressure,cloud_cover,wind_speed_10m,wind_speed_100m,wind_gusts_10m\"\n",
        "\n",
        "#     final_url = url + lat + long + prior_str + discov_str + over_req\n",
        "\n",
        "#     response = requests.get(final_url)\n",
        "#     soup = BeautifulSoup(response.content, \"html.parser\")\n",
        "\n",
        "#     site_json = json.loads(soup.text)\n",
        "\n",
        "#     # go through every day in the two weeks and pull following information\n",
        "#     time = site_json[\"hourly\"][\"time\"]\n",
        "#     temperature = site_json[\"hourly\"][\"temperature_2m\"]\n",
        "#     rel_hum = site_json[\"hourly\"][\"relative_humidity_2m\"]\n",
        "#     precip = site_json[\"hourly\"][\"precipitation\"]\n",
        "#     sur_pres = site_json[\"hourly\"][\"surface_pressure\"]\n",
        "#     cloud_cover = site_json[\"hourly\"][\"cloud_cover\"]\n",
        "#     wind_speed_10m = site_json[\"hourly\"][\"wind_speed_10m\"]\n",
        "#     wind_speed_100m = site_json[\"hourly\"][\"wind_speed_100m\"]\n",
        "#     wind_gusts_10m = site_json[\"hourly\"][\"wind_gusts_10m\"]\n",
        "\n",
        "#     for i in range(len(site_json[\"hourly\"][\"time\"])):\n",
        "#         row_to_add = [df1[\"DISCOVERY_DATE\"][row], time[i], temperature[i],\n",
        "#                       rel_hum[i], precip[i], sur_pres[i], cloud_cover[i],\n",
        "#                       wind_speed_10m[i], wind_speed_100m[i], wind_gusts_10m[i]]\n",
        "\n",
        "#         weather_df.loc[len(weather_df)] = row_to_add\n",
        "\n",
        "#     if (row % 50 == 0):\n",
        "#         print(\"Row: \", row)\n",
        "\n",
        "#     # save to csv file\n",
        "#     path = \"/Users/lmhartmann/Desktop/Weather/df1.csv\"\n",
        "#     weather_df.to_csv(path)"
      ],
      "metadata": {
        "id": "UweE-xHCLnCs"
      },
      "execution_count": 15,
      "outputs": []
    },
    {
      "cell_type": "markdown",
      "source": [
        "# Load in Weather Data and Created Merged Data"
      ],
      "metadata": {
        "id": "5bbGxRe0LoN1"
      }
    },
    {
      "cell_type": "code",
      "source": [
        "# path = \"/Users/lmhartmann/Desktop/Weather/df1.csv\"\n",
        "# weather = pd.read_csv(path, low_memory = False)\n",
        "# weather"
      ],
      "metadata": {
        "id": "3f1-Js6kLuAU"
      },
      "execution_count": 16,
      "outputs": []
    },
    {
      "cell_type": "markdown",
      "source": [
        "Add the 'fire_number' (id_value) to weather dataframe."
      ],
      "metadata": {
        "id": "ACwikxw8Lw4I"
      }
    },
    {
      "cell_type": "code",
      "source": [
        "# # each fire now has 360 rows\n",
        "# # create new column and name 0 through 4999 identifying for each fire\n",
        "\n",
        "# weather[\"fire_number\"] = np.nan\n",
        "\n",
        "# i = 0\n",
        "# for row in range(len(weather)):\n",
        "\n",
        "#     weather[\"fire_number\"][row] = i\n",
        "\n",
        "#     if ((row + 1) % 360) == 0:\n",
        "#         i += 1\n",
        "\n",
        "# weather"
      ],
      "metadata": {
        "id": "C0O786FFLuGo"
      },
      "execution_count": 17,
      "outputs": []
    },
    {
      "cell_type": "code",
      "source": [
        "# # make weather to int\n",
        "# weather[\"fire_number\"] = weather[\"fire_number\"].astype(int)\n",
        "\n",
        "# # create \"fire_number\" equal to index\n",
        "# df1['fire_number'] = df1.index\n",
        "# df1"
      ],
      "metadata": {
        "id": "bqwVdumvLuJ6"
      },
      "execution_count": 18,
      "outputs": []
    },
    {
      "cell_type": "markdown",
      "source": [
        "Merge weather info with fire info."
      ],
      "metadata": {
        "id": "9jrpH9qDL6as"
      }
    },
    {
      "cell_type": "code",
      "source": [
        "# # merge df1 and weather on \"fire_number\"\n",
        "# data = weather.merge(df1, on='fire_number')\n",
        "\n",
        "# data"
      ],
      "metadata": {
        "id": "a1Gk4GvyL8R6"
      },
      "execution_count": 19,
      "outputs": []
    },
    {
      "cell_type": "markdown",
      "source": [
        "### Save to create dataset we will work with/"
      ],
      "metadata": {
        "id": "-dcT8tiWL_Op"
      }
    },
    {
      "cell_type": "markdown",
      "source": [
        "Check for nulls."
      ],
      "metadata": {
        "id": "xE70TCFEMC7E"
      }
    },
    {
      "cell_type": "code",
      "source": [
        "# data.isnull().sum()"
      ],
      "metadata": {
        "id": "Xz3rbbyBMENI"
      },
      "execution_count": 20,
      "outputs": []
    },
    {
      "cell_type": "code",
      "source": [
        "# print(\"Percent Null: Cont Date: \", 1800/len(data)*100)\n",
        "# print(\"Percent Null: Cont Doy: \", 1800/len(data)*100)\n",
        "# print(\"Percent Null: Cont Time: \", 2160/len(data)*100)\n",
        "# print(\"Percent Null: County: \", 156240/len(data)*100)\n",
        "# print(\"Percent Null: Fips Code: \", 156240/len(data)*100)\n",
        "# print(\"Percent Null: Fips Name: \", 156240/len(data)*100)"
      ],
      "metadata": {
        "id": "XmyJdJKlMFn4"
      },
      "execution_count": 21,
      "outputs": []
    },
    {
      "cell_type": "markdown",
      "source": [
        "Further narrow columns."
      ],
      "metadata": {
        "id": "suYtqPW1MGkI"
      }
    },
    {
      "cell_type": "code",
      "source": [
        "# # decide to keep\n",
        "# to_keep = [\"LONGITUDE\", \"LATITUDE\",\n",
        "#            \"DISCOVERY_DATE_x\", \"TIME\", \"TEMPERATURE\",\n",
        "#            \"RELATIVE_HUMIDITY\", \"PRECIPITATION\", \"SURFACE_PRESSURE\",\n",
        "#            \"CLOUD_COVER\", \"WIND_SPEED_10M\", \"WIND_SPEED_100M\",\n",
        "#            \"WIND_GUSTS_10M\", \"STATE\",\n",
        "#            \"FIRE_SIZE\", \"FIRE_SIZE_CLASS\"]\n",
        "\n",
        "# data = data[to_keep].copy()\n",
        "# data"
      ],
      "metadata": {
        "id": "ZRemIO-2MH7v"
      },
      "execution_count": 22,
      "outputs": []
    },
    {
      "cell_type": "markdown",
      "source": [
        "Export."
      ],
      "metadata": {
        "id": "R5e_jjLJMJMT"
      }
    },
    {
      "cell_type": "code",
      "source": [
        "# # export\n",
        "# path = \"/Users/lmhartmann/Desktop/Capstone/data_merged.csv\"\n",
        "# data.to_csv(path)"
      ],
      "metadata": {
        "id": "e2P9NDSeMJ83"
      },
      "execution_count": 23,
      "outputs": []
    },
    {
      "cell_type": "markdown",
      "source": [
        "# Data Exploration"
      ],
      "metadata": {
        "id": "x2ev7UeeMbAA"
      }
    },
    {
      "cell_type": "markdown",
      "source": [
        "Load in data."
      ],
      "metadata": {
        "id": "LXqwkf9LMeO5"
      }
    },
    {
      "cell_type": "code",
      "source": [
        "path = \"/content/data_merged.csv\"\n",
        "data = pd.read_csv(path).drop([\"Unnamed: 0\"], axis = 1)\n",
        "data"
      ],
      "metadata": {
        "colab": {
          "base_uri": "https://localhost:8080/",
          "height": 617
        },
        "id": "7K5XgZAfMc7K",
        "outputId": "6c846cf5-68ed-4d67-e5b4-2a8f3aaed6a4"
      },
      "execution_count": 4,
      "outputs": [
        {
          "output_type": "execute_result",
          "data": {
            "text/plain": [
              "          LONGITUDE   LATITUDE        DISCOVERY_DATE_x              TIME  \\\n",
              "0       -120.404444  38.933056  2004/05/12 00:00:00+00  2004-04-28T00:00   \n",
              "1       -120.404444  38.933056  2004/05/12 00:00:00+00  2004-04-28T01:00   \n",
              "2       -120.404444  38.933056  2004/05/12 00:00:00+00  2004-04-28T02:00   \n",
              "3       -120.404444  38.933056  2004/05/12 00:00:00+00  2004-04-28T03:00   \n",
              "4       -120.404444  38.933056  2004/05/12 00:00:00+00  2004-04-28T04:00   \n",
              "...             ...        ...                     ...               ...   \n",
              "1799995 -121.966667  43.803889  2006/07/26 00:00:00+00  2006-07-26T19:00   \n",
              "1799996 -121.966667  43.803889  2006/07/26 00:00:00+00  2006-07-26T20:00   \n",
              "1799997 -121.966667  43.803889  2006/07/26 00:00:00+00  2006-07-26T21:00   \n",
              "1799998 -121.966667  43.803889  2006/07/26 00:00:00+00  2006-07-26T22:00   \n",
              "1799999 -121.966667  43.803889  2006/07/26 00:00:00+00  2006-07-26T23:00   \n",
              "\n",
              "         TEMPERATURE  RELATIVE_HUMIDITY  PRECIPITATION  SURFACE_PRESSURE  \\\n",
              "0               17.3                 26            0.0             822.5   \n",
              "1               15.9                 30            0.0             821.3   \n",
              "2               13.2                 40            0.0             819.7   \n",
              "3               10.9                 49            0.0             818.5   \n",
              "4               11.5                 45            0.0             818.8   \n",
              "...              ...                ...            ...               ...   \n",
              "1799995         27.0                 15            0.0             837.2   \n",
              "1799996         28.1                 16            0.0             837.6   \n",
              "1799997         28.8                 17            0.0             837.6   \n",
              "1799998         29.0                 18            0.0             837.3   \n",
              "1799999         28.9                 19            0.0             836.7   \n",
              "\n",
              "         CLOUD_COVER  WIND_SPEED_10M  WIND_SPEED_100M  WIND_GUSTS_10M STATE  \\\n",
              "0                 14            14.8             22.0            46.8    CA   \n",
              "1                 15            13.9             20.9            45.0    CA   \n",
              "2                 16            10.6             18.6            40.0    CA   \n",
              "3                 14             6.3             15.6            29.2    CA   \n",
              "4                  4             7.2             11.4            22.3    CA   \n",
              "...              ...             ...              ...             ...   ...   \n",
              "1799995            0             5.9              7.8            23.4    OR   \n",
              "1799996            0             7.0              9.6            27.4    OR   \n",
              "1799997            0             7.8             10.7            29.5    OR   \n",
              "1799998            0             8.4             11.4            31.3    OR   \n",
              "1799999            0             9.6             13.1            33.5    OR   \n",
              "\n",
              "         FIRE_SIZE FIRE_SIZE_CLASS  \n",
              "0             0.25               A  \n",
              "1             0.25               A  \n",
              "2             0.25               A  \n",
              "3             0.25               A  \n",
              "4             0.25               A  \n",
              "...            ...             ...  \n",
              "1799995       0.10               A  \n",
              "1799996       0.10               A  \n",
              "1799997       0.10               A  \n",
              "1799998       0.10               A  \n",
              "1799999       0.10               A  \n",
              "\n",
              "[1800000 rows x 15 columns]"
            ],
            "text/html": [
              "\n",
              "  <div id=\"df-baf0799f-cfb4-489f-a113-7eccea224dd7\" class=\"colab-df-container\">\n",
              "    <div>\n",
              "<style scoped>\n",
              "    .dataframe tbody tr th:only-of-type {\n",
              "        vertical-align: middle;\n",
              "    }\n",
              "\n",
              "    .dataframe tbody tr th {\n",
              "        vertical-align: top;\n",
              "    }\n",
              "\n",
              "    .dataframe thead th {\n",
              "        text-align: right;\n",
              "    }\n",
              "</style>\n",
              "<table border=\"1\" class=\"dataframe\">\n",
              "  <thead>\n",
              "    <tr style=\"text-align: right;\">\n",
              "      <th></th>\n",
              "      <th>LONGITUDE</th>\n",
              "      <th>LATITUDE</th>\n",
              "      <th>DISCOVERY_DATE_x</th>\n",
              "      <th>TIME</th>\n",
              "      <th>TEMPERATURE</th>\n",
              "      <th>RELATIVE_HUMIDITY</th>\n",
              "      <th>PRECIPITATION</th>\n",
              "      <th>SURFACE_PRESSURE</th>\n",
              "      <th>CLOUD_COVER</th>\n",
              "      <th>WIND_SPEED_10M</th>\n",
              "      <th>WIND_SPEED_100M</th>\n",
              "      <th>WIND_GUSTS_10M</th>\n",
              "      <th>STATE</th>\n",
              "      <th>FIRE_SIZE</th>\n",
              "      <th>FIRE_SIZE_CLASS</th>\n",
              "    </tr>\n",
              "  </thead>\n",
              "  <tbody>\n",
              "    <tr>\n",
              "      <th>0</th>\n",
              "      <td>-120.404444</td>\n",
              "      <td>38.933056</td>\n",
              "      <td>2004/05/12 00:00:00+00</td>\n",
              "      <td>2004-04-28T00:00</td>\n",
              "      <td>17.3</td>\n",
              "      <td>26</td>\n",
              "      <td>0.0</td>\n",
              "      <td>822.5</td>\n",
              "      <td>14</td>\n",
              "      <td>14.8</td>\n",
              "      <td>22.0</td>\n",
              "      <td>46.8</td>\n",
              "      <td>CA</td>\n",
              "      <td>0.25</td>\n",
              "      <td>A</td>\n",
              "    </tr>\n",
              "    <tr>\n",
              "      <th>1</th>\n",
              "      <td>-120.404444</td>\n",
              "      <td>38.933056</td>\n",
              "      <td>2004/05/12 00:00:00+00</td>\n",
              "      <td>2004-04-28T01:00</td>\n",
              "      <td>15.9</td>\n",
              "      <td>30</td>\n",
              "      <td>0.0</td>\n",
              "      <td>821.3</td>\n",
              "      <td>15</td>\n",
              "      <td>13.9</td>\n",
              "      <td>20.9</td>\n",
              "      <td>45.0</td>\n",
              "      <td>CA</td>\n",
              "      <td>0.25</td>\n",
              "      <td>A</td>\n",
              "    </tr>\n",
              "    <tr>\n",
              "      <th>2</th>\n",
              "      <td>-120.404444</td>\n",
              "      <td>38.933056</td>\n",
              "      <td>2004/05/12 00:00:00+00</td>\n",
              "      <td>2004-04-28T02:00</td>\n",
              "      <td>13.2</td>\n",
              "      <td>40</td>\n",
              "      <td>0.0</td>\n",
              "      <td>819.7</td>\n",
              "      <td>16</td>\n",
              "      <td>10.6</td>\n",
              "      <td>18.6</td>\n",
              "      <td>40.0</td>\n",
              "      <td>CA</td>\n",
              "      <td>0.25</td>\n",
              "      <td>A</td>\n",
              "    </tr>\n",
              "    <tr>\n",
              "      <th>3</th>\n",
              "      <td>-120.404444</td>\n",
              "      <td>38.933056</td>\n",
              "      <td>2004/05/12 00:00:00+00</td>\n",
              "      <td>2004-04-28T03:00</td>\n",
              "      <td>10.9</td>\n",
              "      <td>49</td>\n",
              "      <td>0.0</td>\n",
              "      <td>818.5</td>\n",
              "      <td>14</td>\n",
              "      <td>6.3</td>\n",
              "      <td>15.6</td>\n",
              "      <td>29.2</td>\n",
              "      <td>CA</td>\n",
              "      <td>0.25</td>\n",
              "      <td>A</td>\n",
              "    </tr>\n",
              "    <tr>\n",
              "      <th>4</th>\n",
              "      <td>-120.404444</td>\n",
              "      <td>38.933056</td>\n",
              "      <td>2004/05/12 00:00:00+00</td>\n",
              "      <td>2004-04-28T04:00</td>\n",
              "      <td>11.5</td>\n",
              "      <td>45</td>\n",
              "      <td>0.0</td>\n",
              "      <td>818.8</td>\n",
              "      <td>4</td>\n",
              "      <td>7.2</td>\n",
              "      <td>11.4</td>\n",
              "      <td>22.3</td>\n",
              "      <td>CA</td>\n",
              "      <td>0.25</td>\n",
              "      <td>A</td>\n",
              "    </tr>\n",
              "    <tr>\n",
              "      <th>...</th>\n",
              "      <td>...</td>\n",
              "      <td>...</td>\n",
              "      <td>...</td>\n",
              "      <td>...</td>\n",
              "      <td>...</td>\n",
              "      <td>...</td>\n",
              "      <td>...</td>\n",
              "      <td>...</td>\n",
              "      <td>...</td>\n",
              "      <td>...</td>\n",
              "      <td>...</td>\n",
              "      <td>...</td>\n",
              "      <td>...</td>\n",
              "      <td>...</td>\n",
              "      <td>...</td>\n",
              "    </tr>\n",
              "    <tr>\n",
              "      <th>1799995</th>\n",
              "      <td>-121.966667</td>\n",
              "      <td>43.803889</td>\n",
              "      <td>2006/07/26 00:00:00+00</td>\n",
              "      <td>2006-07-26T19:00</td>\n",
              "      <td>27.0</td>\n",
              "      <td>15</td>\n",
              "      <td>0.0</td>\n",
              "      <td>837.2</td>\n",
              "      <td>0</td>\n",
              "      <td>5.9</td>\n",
              "      <td>7.8</td>\n",
              "      <td>23.4</td>\n",
              "      <td>OR</td>\n",
              "      <td>0.10</td>\n",
              "      <td>A</td>\n",
              "    </tr>\n",
              "    <tr>\n",
              "      <th>1799996</th>\n",
              "      <td>-121.966667</td>\n",
              "      <td>43.803889</td>\n",
              "      <td>2006/07/26 00:00:00+00</td>\n",
              "      <td>2006-07-26T20:00</td>\n",
              "      <td>28.1</td>\n",
              "      <td>16</td>\n",
              "      <td>0.0</td>\n",
              "      <td>837.6</td>\n",
              "      <td>0</td>\n",
              "      <td>7.0</td>\n",
              "      <td>9.6</td>\n",
              "      <td>27.4</td>\n",
              "      <td>OR</td>\n",
              "      <td>0.10</td>\n",
              "      <td>A</td>\n",
              "    </tr>\n",
              "    <tr>\n",
              "      <th>1799997</th>\n",
              "      <td>-121.966667</td>\n",
              "      <td>43.803889</td>\n",
              "      <td>2006/07/26 00:00:00+00</td>\n",
              "      <td>2006-07-26T21:00</td>\n",
              "      <td>28.8</td>\n",
              "      <td>17</td>\n",
              "      <td>0.0</td>\n",
              "      <td>837.6</td>\n",
              "      <td>0</td>\n",
              "      <td>7.8</td>\n",
              "      <td>10.7</td>\n",
              "      <td>29.5</td>\n",
              "      <td>OR</td>\n",
              "      <td>0.10</td>\n",
              "      <td>A</td>\n",
              "    </tr>\n",
              "    <tr>\n",
              "      <th>1799998</th>\n",
              "      <td>-121.966667</td>\n",
              "      <td>43.803889</td>\n",
              "      <td>2006/07/26 00:00:00+00</td>\n",
              "      <td>2006-07-26T22:00</td>\n",
              "      <td>29.0</td>\n",
              "      <td>18</td>\n",
              "      <td>0.0</td>\n",
              "      <td>837.3</td>\n",
              "      <td>0</td>\n",
              "      <td>8.4</td>\n",
              "      <td>11.4</td>\n",
              "      <td>31.3</td>\n",
              "      <td>OR</td>\n",
              "      <td>0.10</td>\n",
              "      <td>A</td>\n",
              "    </tr>\n",
              "    <tr>\n",
              "      <th>1799999</th>\n",
              "      <td>-121.966667</td>\n",
              "      <td>43.803889</td>\n",
              "      <td>2006/07/26 00:00:00+00</td>\n",
              "      <td>2006-07-26T23:00</td>\n",
              "      <td>28.9</td>\n",
              "      <td>19</td>\n",
              "      <td>0.0</td>\n",
              "      <td>836.7</td>\n",
              "      <td>0</td>\n",
              "      <td>9.6</td>\n",
              "      <td>13.1</td>\n",
              "      <td>33.5</td>\n",
              "      <td>OR</td>\n",
              "      <td>0.10</td>\n",
              "      <td>A</td>\n",
              "    </tr>\n",
              "  </tbody>\n",
              "</table>\n",
              "<p>1800000 rows × 15 columns</p>\n",
              "</div>\n",
              "    <div class=\"colab-df-buttons\">\n",
              "\n",
              "  <div class=\"colab-df-container\">\n",
              "    <button class=\"colab-df-convert\" onclick=\"convertToInteractive('df-baf0799f-cfb4-489f-a113-7eccea224dd7')\"\n",
              "            title=\"Convert this dataframe to an interactive table.\"\n",
              "            style=\"display:none;\">\n",
              "\n",
              "  <svg xmlns=\"http://www.w3.org/2000/svg\" height=\"24px\" viewBox=\"0 -960 960 960\">\n",
              "    <path d=\"M120-120v-720h720v720H120Zm60-500h600v-160H180v160Zm220 220h160v-160H400v160Zm0 220h160v-160H400v160ZM180-400h160v-160H180v160Zm440 0h160v-160H620v160ZM180-180h160v-160H180v160Zm440 0h160v-160H620v160Z\"/>\n",
              "  </svg>\n",
              "    </button>\n",
              "\n",
              "  <style>\n",
              "    .colab-df-container {\n",
              "      display:flex;\n",
              "      gap: 12px;\n",
              "    }\n",
              "\n",
              "    .colab-df-convert {\n",
              "      background-color: #E8F0FE;\n",
              "      border: none;\n",
              "      border-radius: 50%;\n",
              "      cursor: pointer;\n",
              "      display: none;\n",
              "      fill: #1967D2;\n",
              "      height: 32px;\n",
              "      padding: 0 0 0 0;\n",
              "      width: 32px;\n",
              "    }\n",
              "\n",
              "    .colab-df-convert:hover {\n",
              "      background-color: #E2EBFA;\n",
              "      box-shadow: 0px 1px 2px rgba(60, 64, 67, 0.3), 0px 1px 3px 1px rgba(60, 64, 67, 0.15);\n",
              "      fill: #174EA6;\n",
              "    }\n",
              "\n",
              "    .colab-df-buttons div {\n",
              "      margin-bottom: 4px;\n",
              "    }\n",
              "\n",
              "    [theme=dark] .colab-df-convert {\n",
              "      background-color: #3B4455;\n",
              "      fill: #D2E3FC;\n",
              "    }\n",
              "\n",
              "    [theme=dark] .colab-df-convert:hover {\n",
              "      background-color: #434B5C;\n",
              "      box-shadow: 0px 1px 3px 1px rgba(0, 0, 0, 0.15);\n",
              "      filter: drop-shadow(0px 1px 2px rgba(0, 0, 0, 0.3));\n",
              "      fill: #FFFFFF;\n",
              "    }\n",
              "  </style>\n",
              "\n",
              "    <script>\n",
              "      const buttonEl =\n",
              "        document.querySelector('#df-baf0799f-cfb4-489f-a113-7eccea224dd7 button.colab-df-convert');\n",
              "      buttonEl.style.display =\n",
              "        google.colab.kernel.accessAllowed ? 'block' : 'none';\n",
              "\n",
              "      async function convertToInteractive(key) {\n",
              "        const element = document.querySelector('#df-baf0799f-cfb4-489f-a113-7eccea224dd7');\n",
              "        const dataTable =\n",
              "          await google.colab.kernel.invokeFunction('convertToInteractive',\n",
              "                                                    [key], {});\n",
              "        if (!dataTable) return;\n",
              "\n",
              "        const docLinkHtml = 'Like what you see? Visit the ' +\n",
              "          '<a target=\"_blank\" href=https://colab.research.google.com/notebooks/data_table.ipynb>data table notebook</a>'\n",
              "          + ' to learn more about interactive tables.';\n",
              "        element.innerHTML = '';\n",
              "        dataTable['output_type'] = 'display_data';\n",
              "        await google.colab.output.renderOutput(dataTable, element);\n",
              "        const docLink = document.createElement('div');\n",
              "        docLink.innerHTML = docLinkHtml;\n",
              "        element.appendChild(docLink);\n",
              "      }\n",
              "    </script>\n",
              "  </div>\n",
              "\n",
              "\n",
              "<div id=\"df-c0a816b4-2aa7-484b-afd2-c246062f7d91\">\n",
              "  <button class=\"colab-df-quickchart\" onclick=\"quickchart('df-c0a816b4-2aa7-484b-afd2-c246062f7d91')\"\n",
              "            title=\"Suggest charts\"\n",
              "            style=\"display:none;\">\n",
              "\n",
              "<svg xmlns=\"http://www.w3.org/2000/svg\" height=\"24px\"viewBox=\"0 0 24 24\"\n",
              "     width=\"24px\">\n",
              "    <g>\n",
              "        <path d=\"M19 3H5c-1.1 0-2 .9-2 2v14c0 1.1.9 2 2 2h14c1.1 0 2-.9 2-2V5c0-1.1-.9-2-2-2zM9 17H7v-7h2v7zm4 0h-2V7h2v10zm4 0h-2v-4h2v4z\"/>\n",
              "    </g>\n",
              "</svg>\n",
              "  </button>\n",
              "\n",
              "<style>\n",
              "  .colab-df-quickchart {\n",
              "      --bg-color: #E8F0FE;\n",
              "      --fill-color: #1967D2;\n",
              "      --hover-bg-color: #E2EBFA;\n",
              "      --hover-fill-color: #174EA6;\n",
              "      --disabled-fill-color: #AAA;\n",
              "      --disabled-bg-color: #DDD;\n",
              "  }\n",
              "\n",
              "  [theme=dark] .colab-df-quickchart {\n",
              "      --bg-color: #3B4455;\n",
              "      --fill-color: #D2E3FC;\n",
              "      --hover-bg-color: #434B5C;\n",
              "      --hover-fill-color: #FFFFFF;\n",
              "      --disabled-bg-color: #3B4455;\n",
              "      --disabled-fill-color: #666;\n",
              "  }\n",
              "\n",
              "  .colab-df-quickchart {\n",
              "    background-color: var(--bg-color);\n",
              "    border: none;\n",
              "    border-radius: 50%;\n",
              "    cursor: pointer;\n",
              "    display: none;\n",
              "    fill: var(--fill-color);\n",
              "    height: 32px;\n",
              "    padding: 0;\n",
              "    width: 32px;\n",
              "  }\n",
              "\n",
              "  .colab-df-quickchart:hover {\n",
              "    background-color: var(--hover-bg-color);\n",
              "    box-shadow: 0 1px 2px rgba(60, 64, 67, 0.3), 0 1px 3px 1px rgba(60, 64, 67, 0.15);\n",
              "    fill: var(--button-hover-fill-color);\n",
              "  }\n",
              "\n",
              "  .colab-df-quickchart-complete:disabled,\n",
              "  .colab-df-quickchart-complete:disabled:hover {\n",
              "    background-color: var(--disabled-bg-color);\n",
              "    fill: var(--disabled-fill-color);\n",
              "    box-shadow: none;\n",
              "  }\n",
              "\n",
              "  .colab-df-spinner {\n",
              "    border: 2px solid var(--fill-color);\n",
              "    border-color: transparent;\n",
              "    border-bottom-color: var(--fill-color);\n",
              "    animation:\n",
              "      spin 1s steps(1) infinite;\n",
              "  }\n",
              "\n",
              "  @keyframes spin {\n",
              "    0% {\n",
              "      border-color: transparent;\n",
              "      border-bottom-color: var(--fill-color);\n",
              "      border-left-color: var(--fill-color);\n",
              "    }\n",
              "    20% {\n",
              "      border-color: transparent;\n",
              "      border-left-color: var(--fill-color);\n",
              "      border-top-color: var(--fill-color);\n",
              "    }\n",
              "    30% {\n",
              "      border-color: transparent;\n",
              "      border-left-color: var(--fill-color);\n",
              "      border-top-color: var(--fill-color);\n",
              "      border-right-color: var(--fill-color);\n",
              "    }\n",
              "    40% {\n",
              "      border-color: transparent;\n",
              "      border-right-color: var(--fill-color);\n",
              "      border-top-color: var(--fill-color);\n",
              "    }\n",
              "    60% {\n",
              "      border-color: transparent;\n",
              "      border-right-color: var(--fill-color);\n",
              "    }\n",
              "    80% {\n",
              "      border-color: transparent;\n",
              "      border-right-color: var(--fill-color);\n",
              "      border-bottom-color: var(--fill-color);\n",
              "    }\n",
              "    90% {\n",
              "      border-color: transparent;\n",
              "      border-bottom-color: var(--fill-color);\n",
              "    }\n",
              "  }\n",
              "</style>\n",
              "\n",
              "  <script>\n",
              "    async function quickchart(key) {\n",
              "      const quickchartButtonEl =\n",
              "        document.querySelector('#' + key + ' button');\n",
              "      quickchartButtonEl.disabled = true;  // To prevent multiple clicks.\n",
              "      quickchartButtonEl.classList.add('colab-df-spinner');\n",
              "      try {\n",
              "        const charts = await google.colab.kernel.invokeFunction(\n",
              "            'suggestCharts', [key], {});\n",
              "      } catch (error) {\n",
              "        console.error('Error during call to suggestCharts:', error);\n",
              "      }\n",
              "      quickchartButtonEl.classList.remove('colab-df-spinner');\n",
              "      quickchartButtonEl.classList.add('colab-df-quickchart-complete');\n",
              "    }\n",
              "    (() => {\n",
              "      let quickchartButtonEl =\n",
              "        document.querySelector('#df-c0a816b4-2aa7-484b-afd2-c246062f7d91 button');\n",
              "      quickchartButtonEl.style.display =\n",
              "        google.colab.kernel.accessAllowed ? 'block' : 'none';\n",
              "    })();\n",
              "  </script>\n",
              "</div>\n",
              "\n",
              "  <div id=\"id_0928a7b2-1f43-4048-9ccc-e16db1ac5759\">\n",
              "    <style>\n",
              "      .colab-df-generate {\n",
              "        background-color: #E8F0FE;\n",
              "        border: none;\n",
              "        border-radius: 50%;\n",
              "        cursor: pointer;\n",
              "        display: none;\n",
              "        fill: #1967D2;\n",
              "        height: 32px;\n",
              "        padding: 0 0 0 0;\n",
              "        width: 32px;\n",
              "      }\n",
              "\n",
              "      .colab-df-generate:hover {\n",
              "        background-color: #E2EBFA;\n",
              "        box-shadow: 0px 1px 2px rgba(60, 64, 67, 0.3), 0px 1px 3px 1px rgba(60, 64, 67, 0.15);\n",
              "        fill: #174EA6;\n",
              "      }\n",
              "\n",
              "      [theme=dark] .colab-df-generate {\n",
              "        background-color: #3B4455;\n",
              "        fill: #D2E3FC;\n",
              "      }\n",
              "\n",
              "      [theme=dark] .colab-df-generate:hover {\n",
              "        background-color: #434B5C;\n",
              "        box-shadow: 0px 1px 3px 1px rgba(0, 0, 0, 0.15);\n",
              "        filter: drop-shadow(0px 1px 2px rgba(0, 0, 0, 0.3));\n",
              "        fill: #FFFFFF;\n",
              "      }\n",
              "    </style>\n",
              "    <button class=\"colab-df-generate\" onclick=\"generateWithVariable('data')\"\n",
              "            title=\"Generate code using this dataframe.\"\n",
              "            style=\"display:none;\">\n",
              "\n",
              "  <svg xmlns=\"http://www.w3.org/2000/svg\" height=\"24px\"viewBox=\"0 0 24 24\"\n",
              "       width=\"24px\">\n",
              "    <path d=\"M7,19H8.4L18.45,9,17,7.55,7,17.6ZM5,21V16.75L18.45,3.32a2,2,0,0,1,2.83,0l1.4,1.43a1.91,1.91,0,0,1,.58,1.4,1.91,1.91,0,0,1-.58,1.4L9.25,21ZM18.45,9,17,7.55Zm-12,3A5.31,5.31,0,0,0,4.9,8.1,5.31,5.31,0,0,0,1,6.5,5.31,5.31,0,0,0,4.9,4.9,5.31,5.31,0,0,0,6.5,1,5.31,5.31,0,0,0,8.1,4.9,5.31,5.31,0,0,0,12,6.5,5.46,5.46,0,0,0,6.5,12Z\"/>\n",
              "  </svg>\n",
              "    </button>\n",
              "    <script>\n",
              "      (() => {\n",
              "      const buttonEl =\n",
              "        document.querySelector('#id_0928a7b2-1f43-4048-9ccc-e16db1ac5759 button.colab-df-generate');\n",
              "      buttonEl.style.display =\n",
              "        google.colab.kernel.accessAllowed ? 'block' : 'none';\n",
              "\n",
              "      buttonEl.onclick = () => {\n",
              "        google.colab.notebook.generateWithVariable('data');\n",
              "      }\n",
              "      })();\n",
              "    </script>\n",
              "  </div>\n",
              "\n",
              "    </div>\n",
              "  </div>\n"
            ],
            "application/vnd.google.colaboratory.intrinsic+json": {
              "type": "dataframe",
              "variable_name": "data"
            }
          },
          "metadata": {},
          "execution_count": 4
        }
      ]
    },
    {
      "cell_type": "markdown",
      "source": [
        "Fire Size Histogram"
      ],
      "metadata": {
        "id": "S6OkGJOVMiSX"
      }
    },
    {
      "cell_type": "code",
      "source": [
        "sns.histplot(data = data, x = \"FIRE_SIZE_CLASS\")"
      ],
      "metadata": {
        "colab": {
          "base_uri": "https://localhost:8080/",
          "height": 483
        },
        "id": "1bIY-q9JMjnv",
        "outputId": "c63938fa-1228-40f8-9716-288ee0bbbe24"
      },
      "execution_count": 5,
      "outputs": [
        {
          "output_type": "execute_result",
          "data": {
            "text/plain": [
              "<Axes: xlabel='FIRE_SIZE_CLASS', ylabel='Count'>"
            ]
          },
          "metadata": {},
          "execution_count": 5
        },
        {
          "output_type": "display_data",
          "data": {
            "text/plain": [
              "<Figure size 640x480 with 1 Axes>"
            ],
            "image/png": "[encoded data removed]"
          },
          "metadata": {}
        }
      ]
    },
    {
      "cell_type": "markdown",
      "source": [
        "## Outliers"
      ],
      "metadata": {
        "id": "_jsX9Jp0MksH"
      }
    },
    {
      "cell_type": "code",
      "source": [
        "data.isnull().sum()"
      ],
      "metadata": {
        "colab": {
          "base_uri": "https://localhost:8080/"
        },
        "id": "PqTjEDMmMkz7",
        "outputId": "6d5b9116-a997-47ff-ae68-8f649778205c"
      },
      "execution_count": 6,
      "outputs": [
        {
          "output_type": "execute_result",
          "data": {
            "text/plain": [
              "LONGITUDE            0\n",
              "LATITUDE             0\n",
              "DISCOVERY_DATE_x     0\n",
              "TIME                 0\n",
              "TEMPERATURE          0\n",
              "RELATIVE_HUMIDITY    0\n",
              "PRECIPITATION        0\n",
              "SURFACE_PRESSURE     0\n",
              "CLOUD_COVER          0\n",
              "WIND_SPEED_10M       0\n",
              "WIND_SPEED_100M      0\n",
              "WIND_GUSTS_10M       0\n",
              "STATE                0\n",
              "FIRE_SIZE            0\n",
              "FIRE_SIZE_CLASS      0\n",
              "dtype: int64"
            ]
          },
          "metadata": {},
          "execution_count": 6
        }
      ]
    },
    {
      "cell_type": "code",
      "source": [
        "def outliers_IQR(col):\n",
        "    q1 = col.quantile(0.25)\n",
        "\n",
        "    q3 = col.quantile(0.75)\n",
        "\n",
        "    IQR = q3 - q1\n",
        "\n",
        "    outliers = col[((col < (q1 - 1.5 * IQR)) | (col > (q3 + 1.5 * IQR)))]\n",
        "\n",
        "    return outliers"
      ],
      "metadata": {
        "id": "s3RTYVx1MvY7"
      },
      "execution_count": 10,
      "outputs": []
    },
    {
      "cell_type": "code",
      "source": [
        "def outliers_sd(col):\n",
        "    three_sd = 3 * col.std()\n",
        "\n",
        "    median = col.median()\n",
        "\n",
        "    outliers = col[(col > (median + three_sd)) | (col < (median - three_sd))]\n",
        "\n",
        "    return outliers"
      ],
      "metadata": {
        "id": "t86odtfCSHnO"
      },
      "execution_count": 8,
      "outputs": []
    },
    {
      "cell_type": "code",
      "source": [
        "data.columns"
      ],
      "metadata": {
        "colab": {
          "base_uri": "https://localhost:8080/"
        },
        "id": "37WLujHF-CEj",
        "outputId": "e616b0a7-4f16-41fc-d746-e2aa52c3c405"
      },
      "execution_count": 15,
      "outputs": [
        {
          "output_type": "execute_result",
          "data": {
            "text/plain": [
              "Index(['LONGITUDE', 'LATITUDE', 'DISCOVERY_DATE_x', 'TIME', 'TEMPERATURE',\n",
              "       'RELATIVE_HUMIDITY', 'PRECIPITATION', 'SURFACE_PRESSURE', 'CLOUD_COVER',\n",
              "       'WIND_SPEED_10M', 'WIND_SPEED_100M', 'WIND_GUSTS_10M', 'STATE',\n",
              "       'FIRE_SIZE', 'FIRE_SIZE_CLASS'],\n",
              "      dtype='object')"
            ]
          },
          "metadata": {},
          "execution_count": 15
        }
      ]
    },
    {
      "cell_type": "code",
      "source": [
        "no_outliers = [\"LONGITUDE\", \"LATITUDE\", \"DISCOVERY_DATE_x\", \"TIME\",\n",
        "               \"STATE\", \"FIRE_SIZE\", \"FIRE_SIZE_CLASS\"]\n",
        "\n",
        "for col in data.columns:\n",
        "  if col in no_outliers:\n",
        "    pass\n",
        "  else:\n",
        "    outs_IQR = outliers_IQR(data[col])\n",
        "    print(\"\\n Percent \" + col + \" Outliers by IQR: \",\n",
        "          len(outs_IQR)/len(data)*100)\n",
        "\n",
        "    outs_sd = outliers_sd(data[col])\n",
        "    print(\"Percent \" + col + \" Outliers by Standard Deviation: \",\n",
        "          len(outs_sd)/len(data)*100)\n"
      ],
      "metadata": {
        "colab": {
          "base_uri": "https://localhost:8080/"
        },
        "id": "yBYSQeqdMyqc",
        "outputId": "cdbe9124-f992-4983-ad86-4705d6fae2bf"
      },
      "execution_count": 23,
      "outputs": [
        {
          "output_type": "stream",
          "name": "stdout",
          "text": [
            "\n",
            " Percent TEMPERATURE Outliers by IQR:  0.2205\n",
            "Percent TEMPERATURE Outliers by Standard Deviation:  0.11905555555555555\n",
            "\n",
            " Percent RELATIVE_HUMIDITY Outliers by IQR:  0.0\n",
            "Percent RELATIVE_HUMIDITY Outliers by Standard Deviation:  0.0\n",
            "\n",
            " Percent PRECIPITATION Outliers by IQR:  5.974111111111111\n",
            "Percent PRECIPITATION Outliers by Standard Deviation:  1.2362777777777778\n",
            "\n",
            " Percent SURFACE_PRESSURE Outliers by IQR:  2.964722222222222\n",
            "Percent SURFACE_PRESSURE Outliers by Standard Deviation:  1.8472222222222223\n",
            "\n",
            " Percent CLOUD_COVER Outliers by IQR:  5.544722222222222\n",
            "Percent CLOUD_COVER Outliers by Standard Deviation:  4.3597777777777775\n",
            "\n",
            " Percent WIND_SPEED_10M Outliers by IQR:  3.3813888888888886\n",
            "Percent WIND_SPEED_10M Outliers by Standard Deviation:  1.7443333333333335\n",
            "\n",
            " Percent WIND_SPEED_100M Outliers by IQR:  2.277388888888889\n",
            "Percent WIND_SPEED_100M Outliers by Standard Deviation:  1.4459444444444445\n",
            "\n",
            " Percent WIND_GUSTS_10M Outliers by IQR:  1.9533333333333334\n",
            "Percent WIND_GUSTS_10M Outliers by Standard Deviation:  1.3099444444444446\n"
          ]
        }
      ]
    },
    {
      "cell_type": "markdown",
      "source": [
        "What to do with outliers.\n",
        "\n",
        "Do not think I need to deal with:\n",
        "*   RELATIVE HUMIDITY\n",
        "*   TEMPERATURE\n",
        "\n"
      ],
      "metadata": {
        "id": "RFo_FCrsNKVi"
      }
    },
    {
      "cell_type": "markdown",
      "source": [
        "## Visualizations"
      ],
      "metadata": {
        "id": "seDLWFYGNOae"
      }
    },
    {
      "cell_type": "markdown",
      "source": [
        "### Histograms"
      ],
      "metadata": {
        "id": "A2ORvU8RNYY3"
      }
    },
    {
      "cell_type": "code",
      "source": [
        "fig, axes = plt.subplots(ncols = 2, nrows = 4, figsize = (10, 14))\n",
        "\n",
        "sns.histplot(data = data, x = \"TEMPERATURE\", ax = axes[0, 0])\n",
        "sns.histplot(data = data, x = \"RELATIVE_HUMIDITY\", ax = axes[1, 0])\n",
        "sns.histplot(data = data, x = \"PRECIPITATION\", ax = axes[0, 1])\n",
        "sns.histplot(data = data, x = \"SURFACE_PRESSURE\", ax = axes[1, 1])\n",
        "sns.histplot(data = data, x = \"CLOUD_COVER\", ax = axes[2, 0])\n",
        "sns.histplot(data = data, x = \"WIND_SPEED_10M\", ax = axes[2, 1])\n",
        "sns.histplot(data = data, x = \"WIND_SPEED_100M\", ax = axes[3, 0])\n",
        "sns.histplot(data = data, x = \"WIND_GUSTS_10M\", ax = axes[3, 1])"
      ],
      "metadata": {
        "id": "68ExWCPiNNgo"
      },
      "execution_count": null,
      "outputs": []
    },
    {
      "cell_type": "markdown",
      "source": [
        "#### Seperate DataFrames\n",
        "Create several dataframes by fire size class to visualize each class seperately."
      ],
      "metadata": {
        "id": "jODYVLNvNgO9"
      }
    },
    {
      "cell_type": "code",
      "source": [
        "size_A = data.loc[data[\"FIRE_SIZE_CLASS\"] == \"A\"].reset_index().drop([\"index\"], axis = 1)\n",
        "size_B = data.loc[data[\"FIRE_SIZE_CLASS\"] == \"B\"].reset_index().drop([\"index\"], axis = 1)\n",
        "size_C = data.loc[data[\"FIRE_SIZE_CLASS\"] == \"C\"].reset_index().drop([\"index\"], axis = 1)\n",
        "size_D = data.loc[data[\"FIRE_SIZE_CLASS\"] == \"D\"].reset_index().drop([\"index\"], axis = 1)\n",
        "size_E = data.loc[data[\"FIRE_SIZE_CLASS\"] == \"E\"].reset_index().drop([\"index\"], axis = 1)\n",
        "size_F = data.loc[data[\"FIRE_SIZE_CLASS\"] == \"F\"].reset_index().drop([\"index\"], axis = 1)\n",
        "size_G = data.loc[data[\"FIRE_SIZE_CLASS\"] == \"G\"].reset_index().drop([\"index\"], axis = 1)\n",
        "\n",
        "fire_classes = [\"A\", \"B\", \"C\", \"D\", \"E\", \"F\", \"G\"]"
      ],
      "metadata": {
        "id": "yMn10QZaN4rw"
      },
      "execution_count": null,
      "outputs": []
    },
    {
      "cell_type": "markdown",
      "source": [
        "#### Temperature by Fire Size"
      ],
      "metadata": {
        "id": "O9lqKgRCNmLw"
      }
    },
    {
      "cell_type": "code",
      "source": [
        "fig, axes = plt.subplots(ncols = 2, nrows = 4, figsize = (10, 10))\n",
        "\n",
        "sns.histplot(data = size_A, x = \"TEMPERATURE\", ax = axes[0, 0])\n",
        "sns.histplot(data = size_B, x = \"TEMPERATURE\", ax = axes[0,1])\n",
        "sns.histplot(data = size_C, x = \"TEMPERATURE\", ax = axes[1,0])\n",
        "sns.histplot(data = size_D, x = \"TEMPERATURE\", ax = axes[1,1])\n",
        "sns.histplot(data = size_E, x = \"TEMPERATURE\", ax = axes[2,0])\n",
        "sns.histplot(data = size_F, x = \"TEMPERATURE\", ax = axes[2,1])\n",
        "sns.histplot(data = size_G, x = \"TEMPERATURE\", ax = axes[3,0])\n",
        "\n",
        "\n",
        "axes[0,0].title.set_text(\"Size A\")\n",
        "axes[0,0].get_xaxis().set_visible(False)\n",
        "\n",
        "axes[0,1].title.set_text(\"Size B\")\n",
        "axes[0,1].get_xaxis().set_visible(False)\n",
        "\n",
        "axes[1,0].title.set_text(\"Size C\")\n",
        "axes[1,0].get_xaxis().set_visible(False)\n",
        "\n",
        "axes[1,1].title.set_text(\"Size D\")\n",
        "axes[1,1].get_xaxis().set_visible(False)\n",
        "\n",
        "axes[2,0].title.set_text(\"Size E\")\n",
        "axes[2,0].get_xaxis().set_visible(False)\n",
        "\n",
        "axes[2,1].title.set_text(\"Size F\")\n",
        "axes[2,1].get_xaxis().set_visible(False)\n",
        "\n",
        "axes[3,0].title.set_text(\"Size G\")\n",
        "axes[3,0].get_xaxis().set_visible(False)\n",
        "\n",
        "\n",
        "fig.delaxes(axes[3, 1])\n",
        "plt.suptitle(\"Temperature by Fire Size Class\")"
      ],
      "metadata": {
        "id": "xkfuqsE5Ne3U"
      },
      "execution_count": null,
      "outputs": []
    },
    {
      "cell_type": "markdown",
      "source": [
        "#### Relative Humidity by Fire Size"
      ],
      "metadata": {
        "id": "AT8dc6rjNpsW"
      }
    },
    {
      "cell_type": "code",
      "source": [
        "fig, axes = plt.subplots(ncols = 2, nrows = 4, figsize = (10, 10))\n",
        "\n",
        "\n",
        "sns.histplot(data = size_A, x = \"RELATIVE_HUMIDITY\", ax = axes[0, 0])\n",
        "sns.histplot(data = size_B, x = \"RELATIVE_HUMIDITY\", ax = axes[0,1])\n",
        "sns.histplot(data = size_C, x = \"RELATIVE_HUMIDITY\", ax = axes[1,0])\n",
        "sns.histplot(data = size_D, x = \"RELATIVE_HUMIDITY\", ax = axes[1,1])\n",
        "sns.histplot(data = size_E, x = \"RELATIVE_HUMIDITY\", ax = axes[2,0])\n",
        "sns.histplot(data = size_F, x = \"RELATIVE_HUMIDITY\", ax = axes[2,1])\n",
        "sns.histplot(data = size_G, x = \"RELATIVE_HUMIDITY\", ax = axes[3,0])\n",
        "\n",
        "\n",
        "axes[0,0].title.set_text(\"Size A\")\n",
        "axes[0,0].get_xaxis().set_visible(False)\n",
        "\n",
        "axes[0,1].title.set_text(\"Size B\")\n",
        "axes[0,1].get_xaxis().set_visible(False)\n",
        "\n",
        "axes[1,0].title.set_text(\"Size C\")\n",
        "axes[1,0].get_xaxis().set_visible(False)\n",
        "\n",
        "axes[1,1].title.set_text(\"Size D\")\n",
        "axes[1,1].get_xaxis().set_visible(False)\n",
        "\n",
        "axes[2,0].title.set_text(\"Size E\")\n",
        "axes[2,0].get_xaxis().set_visible(False)\n",
        "\n",
        "axes[2,1].title.set_text(\"Size F\")\n",
        "axes[2,1].get_xaxis().set_visible(False)\n",
        "\n",
        "axes[3,0].title.set_text(\"Size G\")\n",
        "axes[3,0].get_xaxis().set_visible(False)\n",
        "\n",
        "\n",
        "fig.delaxes(axes[3, 1])\n",
        "plt.suptitle(\"Relative Humidity by Fire Size Class\")"
      ],
      "metadata": {
        "id": "G4hi2IHGNwp7"
      },
      "execution_count": null,
      "outputs": []
    },
    {
      "cell_type": "markdown",
      "source": [
        "#### Precipitation by Fire Size"
      ],
      "metadata": {
        "id": "ZNgDLhEdNwvY"
      }
    },
    {
      "cell_type": "code",
      "source": [
        "fig, axes = plt.subplots(ncols = 2, nrows = 4, figsize = (10, 10))\n",
        "\n",
        "\n",
        "sns.histplot(data = size_A, x = \"PRECIPITATION\", ax = axes[0, 0])\n",
        "sns.histplot(data = size_B, x = \"PRECIPITATION\", ax = axes[0,1])\n",
        "sns.histplot(data = size_C, x = \"PRECIPITATION\", ax = axes[1,0])\n",
        "sns.histplot(data = size_D, x = \"PRECIPITATION\", ax = axes[1,1])\n",
        "sns.histplot(data = size_E, x = \"PRECIPITATION\", ax = axes[2,0])\n",
        "sns.histplot(data = size_F, x = \"PRECIPITATION\", ax = axes[2,1])\n",
        "sns.histplot(data = size_G, x = \"PRECIPITATION\", ax = axes[3,0])\n",
        "\n",
        "\n",
        "axes[0,0].title.set_text(\"Size A\")\n",
        "axes[0,0].get_xaxis().set_visible(False)\n",
        "\n",
        "axes[0,1].title.set_text(\"Size B\")\n",
        "axes[0,1].get_xaxis().set_visible(False)\n",
        "\n",
        "axes[1,0].title.set_text(\"Size C\")\n",
        "axes[1,0].get_xaxis().set_visible(False)\n",
        "\n",
        "axes[1,1].title.set_text(\"Size D\")\n",
        "axes[1,1].get_xaxis().set_visible(False)\n",
        "\n",
        "axes[2,0].title.set_text(\"Size E\")\n",
        "axes[2,0].get_xaxis().set_visible(False)\n",
        "\n",
        "axes[2,1].title.set_text(\"Size F\")\n",
        "axes[2,1].get_xaxis().set_visible(False)\n",
        "\n",
        "axes[3,0].title.set_text(\"Size G\")\n",
        "axes[3,0].get_xaxis().set_visible(False)\n",
        "\n",
        "\n",
        "fig.delaxes(axes[3, 1])\n",
        "plt.suptitle(\"Precipitation by Fire Size Class\")"
      ],
      "metadata": {
        "id": "M8O46PKQNw1A"
      },
      "execution_count": null,
      "outputs": []
    },
    {
      "cell_type": "markdown",
      "source": [
        "#### Surface Pressure by Fire Size"
      ],
      "metadata": {
        "id": "hWjKEq7HNw5r"
      }
    },
    {
      "cell_type": "code",
      "source": [
        "fig, axes = plt.subplots(ncols = 2, nrows = 4, figsize = (10, 10))\n",
        "\n",
        "\n",
        "sns.histplot(data = size_A, x = \"SURFACE_PRESSURE\", ax = axes[0, 0])\n",
        "sns.histplot(data = size_B, x = \"SURFACE_PRESSURE\", ax = axes[0,1])\n",
        "sns.histplot(data = size_C, x = \"SURFACE_PRESSURE\", ax = axes[1,0])\n",
        "sns.histplot(data = size_D, x = \"SURFACE_PRESSURE\", ax = axes[1,1])\n",
        "sns.histplot(data = size_E, x = \"SURFACE_PRESSURE\", ax = axes[2,0])\n",
        "sns.histplot(data = size_F, x = \"SURFACE_PRESSURE\", ax = axes[2,1])\n",
        "sns.histplot(data = size_G, x = \"SURFACE_PRESSURE\", ax = axes[3,0])\n",
        "\n",
        "\n",
        "axes[0,0].title.set_text(\"Size A\")\n",
        "axes[0,0].get_xaxis().set_visible(False)\n",
        "\n",
        "axes[0,1].title.set_text(\"Size B\")\n",
        "axes[0,1].get_xaxis().set_visible(False)\n",
        "\n",
        "axes[1,0].title.set_text(\"Size C\")\n",
        "axes[1,0].get_xaxis().set_visible(False)\n",
        "\n",
        "axes[1,1].title.set_text(\"Size D\")\n",
        "axes[1,1].get_xaxis().set_visible(False)\n",
        "\n",
        "axes[2,0].title.set_text(\"Size E\")\n",
        "axes[2,0].get_xaxis().set_visible(False)\n",
        "\n",
        "axes[2,1].title.set_text(\"Size F\")\n",
        "axes[2,1].get_xaxis().set_visible(False)\n",
        "\n",
        "axes[3,0].title.set_text(\"Size G\")\n",
        "axes[3,0].get_xaxis().set_visible(False)\n",
        "\n",
        "\n",
        "fig.delaxes(axes[3, 1])\n",
        "plt.suptitle(\"Surface Pressure by Fire Size Class\")"
      ],
      "metadata": {
        "id": "5sve04TfNw-L"
      },
      "execution_count": null,
      "outputs": []
    },
    {
      "cell_type": "markdown",
      "source": [
        "#### Cloud Cover by Fire Size"
      ],
      "metadata": {
        "id": "vH6XfUIxNxCA"
      }
    },
    {
      "cell_type": "code",
      "source": [
        "fig, axes = plt.subplots(ncols = 2, nrows = 4, figsize = (10, 10))\n",
        "\n",
        "\n",
        "sns.histplot(data = size_A, x = \"CLOUD_COVER\", ax = axes[0, 0])\n",
        "sns.histplot(data = size_B, x = \"CLOUD_COVER\", ax = axes[0,1])\n",
        "sns.histplot(data = size_C, x = \"CLOUD_COVER\", ax = axes[1,0])\n",
        "sns.histplot(data = size_D, x = \"CLOUD_COVER\", ax = axes[1,1])\n",
        "sns.histplot(data = size_E, x = \"CLOUD_COVER\", ax = axes[2,0])\n",
        "sns.histplot(data = size_F, x = \"CLOUD_COVER\", ax = axes[2,1])\n",
        "sns.histplot(data = size_G, x = \"CLOUD_COVER\", ax = axes[3,0])\n",
        "\n",
        "\n",
        "axes[0,0].title.set_text(\"Size A\")\n",
        "axes[0,0].get_xaxis().set_visible(False)\n",
        "\n",
        "axes[0,1].title.set_text(\"Size B\")\n",
        "axes[0,1].get_xaxis().set_visible(False)\n",
        "\n",
        "axes[1,0].title.set_text(\"Size C\")\n",
        "axes[1,0].get_xaxis().set_visible(False)\n",
        "\n",
        "axes[1,1].title.set_text(\"Size D\")\n",
        "axes[1,1].get_xaxis().set_visible(False)\n",
        "\n",
        "axes[2,0].title.set_text(\"Size E\")\n",
        "axes[2,0].get_xaxis().set_visible(False)\n",
        "\n",
        "axes[2,1].title.set_text(\"Size F\")\n",
        "axes[2,1].get_xaxis().set_visible(False)\n",
        "\n",
        "axes[3,0].title.set_text(\"Size G\")\n",
        "axes[3,0].get_xaxis().set_visible(False)\n",
        "\n",
        "\n",
        "fig.delaxes(axes[3, 1])\n",
        "plt.suptitle(\"Cloud Cover by Fire Size Class\")"
      ],
      "metadata": {
        "id": "xuL2BRjnOwbU"
      },
      "execution_count": null,
      "outputs": []
    },
    {
      "cell_type": "markdown",
      "source": [
        "#### Wind Speed 10m Above by Fire Size"
      ],
      "metadata": {
        "id": "-23pwxj-Owif"
      }
    },
    {
      "cell_type": "code",
      "source": [
        "fig, axes = plt.subplots(ncols = 2, nrows = 4, figsize = (10, 10))\n",
        "\n",
        "\n",
        "sns.histplot(data = size_A, x = \"WIND_SPEED_10M\", ax = axes[0, 0])\n",
        "sns.histplot(data = size_B, x = \"WIND_SPEED_10M\", ax = axes[0,1])\n",
        "sns.histplot(data = size_C, x = \"WIND_SPEED_10M\", ax = axes[1,0])\n",
        "sns.histplot(data = size_D, x = \"WIND_SPEED_10M\", ax = axes[1,1])\n",
        "sns.histplot(data = size_E, x = \"WIND_SPEED_10M\", ax = axes[2,0])\n",
        "sns.histplot(data = size_F, x = \"WIND_SPEED_10M\", ax = axes[2,1])\n",
        "sns.histplot(data = size_G, x = \"WIND_SPEED_10M\", ax = axes[3,0])\n",
        "\n",
        "\n",
        "axes[0,0].title.set_text(\"Size A\")\n",
        "axes[0,0].get_xaxis().set_visible(False)\n",
        "\n",
        "axes[0,1].title.set_text(\"Size B\")\n",
        "axes[0,1].get_xaxis().set_visible(False)\n",
        "\n",
        "axes[1,0].title.set_text(\"Size C\")\n",
        "axes[1,0].get_xaxis().set_visible(False)\n",
        "\n",
        "axes[1,1].title.set_text(\"Size D\")\n",
        "axes[1,1].get_xaxis().set_visible(False)\n",
        "\n",
        "axes[2,0].title.set_text(\"Size E\")\n",
        "axes[2,0].get_xaxis().set_visible(False)\n",
        "\n",
        "axes[2,1].title.set_text(\"Size F\")\n",
        "axes[2,1].get_xaxis().set_visible(False)\n",
        "\n",
        "axes[3,0].title.set_text(\"Size G\")\n",
        "axes[3,0].get_xaxis().set_visible(False)\n",
        "\n",
        "\n",
        "fig.delaxes(axes[3, 1])\n",
        "plt.suptitle(\"Wind Speed 10m Above by Fire Size Class\")"
      ],
      "metadata": {
        "id": "UdlGSNOjOwmv"
      },
      "execution_count": null,
      "outputs": []
    },
    {
      "cell_type": "markdown",
      "source": [
        "#### Wind Speed 100m Above by Fire Size"
      ],
      "metadata": {
        "id": "1D1GV9qNOwr8"
      }
    },
    {
      "cell_type": "code",
      "source": [
        "fig, axes = plt.subplots(ncols = 2, nrows = 4, figsize = (10, 10))\n",
        "\n",
        "\n",
        "sns.histplot(data = size_A, x = \"WIND_SPEED_100M\", ax = axes[0, 0])\n",
        "sns.histplot(data = size_B, x = \"WIND_SPEED_100M\", ax = axes[0,1])\n",
        "sns.histplot(data = size_C, x = \"WIND_SPEED_100M\", ax = axes[1,0])\n",
        "sns.histplot(data = size_D, x = \"WIND_SPEED_100M\", ax = axes[1,1])\n",
        "sns.histplot(data = size_E, x = \"WIND_SPEED_100M\", ax = axes[2,0])\n",
        "sns.histplot(data = size_F, x = \"WIND_SPEED_100M\", ax = axes[2,1])\n",
        "sns.histplot(data = size_G, x = \"WIND_SPEED_100M\", ax = axes[3,0])\n",
        "\n",
        "\n",
        "axes[0,0].title.set_text(\"Size A\")\n",
        "axes[0,0].get_xaxis().set_visible(False)\n",
        "\n",
        "axes[0,1].title.set_text(\"Size B\")\n",
        "axes[0,1].get_xaxis().set_visible(False)\n",
        "\n",
        "axes[1,0].title.set_text(\"Size C\")\n",
        "axes[1,0].get_xaxis().set_visible(False)\n",
        "\n",
        "axes[1,1].title.set_text(\"Size D\")\n",
        "axes[1,1].get_xaxis().set_visible(False)\n",
        "\n",
        "axes[2,0].title.set_text(\"Size E\")\n",
        "axes[2,0].get_xaxis().set_visible(False)\n",
        "\n",
        "axes[2,1].title.set_text(\"Size F\")\n",
        "axes[2,1].get_xaxis().set_visible(False)\n",
        "\n",
        "axes[3,0].title.set_text(\"Size G\")\n",
        "axes[3,0].get_xaxis().set_visible(False)\n",
        "\n",
        "\n",
        "fig.delaxes(axes[3, 1])\n",
        "plt.suptitle(\"Wind Speed 100m Above by Fire Size Class\")"
      ],
      "metadata": {
        "id": "2FzpXazaOwvn"
      },
      "execution_count": null,
      "outputs": []
    },
    {
      "cell_type": "markdown",
      "source": [
        "#### Wind Gusts 10m Above by Fire Size"
      ],
      "metadata": {
        "id": "1y0IlEixOw0i"
      }
    },
    {
      "cell_type": "code",
      "source": [
        "fig, axes = plt.subplots(ncols = 2, nrows = 4, figsize = (10, 10))\n",
        "\n",
        "\n",
        "sns.histplot(data = size_A, x = \"WIND_GUSTS_10M\", ax = axes[0, 0])\n",
        "sns.histplot(data = size_B, x = \"WIND_GUSTS_10M\", ax = axes[0,1])\n",
        "sns.histplot(data = size_C, x = \"WIND_GUSTS_10M\", ax = axes[1,0])\n",
        "sns.histplot(data = size_D, x = \"WIND_GUSTS_10M\", ax = axes[1,1])\n",
        "sns.histplot(data = size_E, x = \"WIND_GUSTS_10M\", ax = axes[2,0])\n",
        "sns.histplot(data = size_F, x = \"WIND_GUSTS_10M\", ax = axes[2,1])\n",
        "sns.histplot(data = size_G, x = \"WIND_GUSTS_10M\", ax = axes[3,0])\n",
        "\n",
        "\n",
        "axes[0,0].title.set_text(\"Size A\")\n",
        "axes[0,0].get_xaxis().set_visible(False)\n",
        "\n",
        "axes[0,1].title.set_text(\"Size B\")\n",
        "axes[0,1].get_xaxis().set_visible(False)\n",
        "\n",
        "axes[1,0].title.set_text(\"Size C\")\n",
        "axes[1,0].get_xaxis().set_visible(False)\n",
        "\n",
        "axes[1,1].title.set_text(\"Size D\")\n",
        "axes[1,1].get_xaxis().set_visible(False)\n",
        "\n",
        "axes[2,0].title.set_text(\"Size E\")\n",
        "axes[2,0].get_xaxis().set_visible(False)\n",
        "\n",
        "axes[2,1].title.set_text(\"Size F\")\n",
        "axes[2,1].get_xaxis().set_visible(False)\n",
        "\n",
        "axes[3,0].title.set_text(\"Size G\")\n",
        "axes[3,0].get_xaxis().set_visible(False)\n",
        "\n",
        "\n",
        "fig.delaxes(axes[3, 1])\n",
        "plt.suptitle(\"Wind Gusts 10m Above by Fire Size Class\")"
      ],
      "metadata": {
        "id": "WJ9uhDakOw4s"
      },
      "execution_count": null,
      "outputs": []
    },
    {
      "cell_type": "markdown",
      "source": [
        "### Geo Graphing"
      ],
      "metadata": {
        "id": "yKLXGIj6O7IA"
      }
    },
    {
      "cell_type": "markdown",
      "source": [
        "Load in Geo Data."
      ],
      "metadata": {
        "id": "g998Bi4iPibC"
      }
    },
    {
      "cell_type": "code",
      "source": [
        "import geopandas as gpd\n",
        "from shapely.geometry import Polygon\n",
        "\n",
        "# wget.download(\"https://www2.census.gov/geo/tiger/GENZ2018/shp/cb_2018_us_state_500k.zip\")\n",
        "\n",
        "path = \"/Users/lmhartmann/Desktop/Capstone/cb_2018_us_state_500k\"\n",
        "gdf = gpd.read_file(path)\n",
        "gdf = gdf.merge(to_work,left_on='STUSPS',right_on='STATE')\n",
        "gdf.head()"
      ],
      "metadata": {
        "id": "P2HOb1kBO6o8"
      },
      "execution_count": null,
      "outputs": []
    },
    {
      "cell_type": "markdown",
      "source": [
        "#### Temperature by State"
      ],
      "metadata": {
        "id": "teCezwURPl9a"
      }
    },
    {
      "cell_type": "code",
      "source": [
        "fig, ax = plt.subplots(figsize = (12, 8))\n",
        "\n",
        "gdf.boundary.plot(edgecolor = \"black\",\n",
        "                  linewidth = 0.7,\n",
        "                  ax = ax)\n",
        "\n",
        "gdf.plot(column = \"TEMPERATURE\",\n",
        "         legend = True,\n",
        "         scheme = 'quantiles',\n",
        "         ax = ax)\n",
        "\n",
        "ax.set_title(\"Temperature by State\")\n",
        "ax.set_axis_off()"
      ],
      "metadata": {
        "id": "DWHfcGXdPo3n"
      },
      "execution_count": null,
      "outputs": []
    },
    {
      "cell_type": "markdown",
      "source": [
        "#### Relative Humidity by State"
      ],
      "metadata": {
        "id": "1gGaPyUOP0Cy"
      }
    },
    {
      "cell_type": "code",
      "source": [
        "fig, ax = plt.subplots(figsize = (12, 8))\n",
        "\n",
        "gdf.boundary.plot(edgecolor = \"black\",\n",
        "                  linewidth = 0.7,\n",
        "                  ax = ax)\n",
        "\n",
        "gdf.plot(column = \"RELATIVE_HUMIDITY\",\n",
        "         legend = True,\n",
        "         scheme = 'quantiles',\n",
        "         ax = ax)\n",
        "\n",
        "ax.set_title(\"Relative Humidity by State\")\n",
        "ax.set_axis_off()"
      ],
      "metadata": {
        "id": "uM6ZgsX0P0JZ"
      },
      "execution_count": null,
      "outputs": []
    },
    {
      "cell_type": "markdown",
      "source": [
        "#### Precipitation by State"
      ],
      "metadata": {
        "id": "xHJeXwefP0Nd"
      }
    },
    {
      "cell_type": "code",
      "source": [
        "fig, ax = plt.subplots(figsize = (12, 8))\n",
        "\n",
        "gdf.boundary.plot(edgecolor = \"black\",\n",
        "                  linewidth = 0.7,\n",
        "                  ax = ax)\n",
        "\n",
        "gdf.plot(column = \"PRECIPITATION\",\n",
        "         legend = True,\n",
        "         scheme = 'quantiles',\n",
        "         ax = ax)\n",
        "\n",
        "ax.set_title(\"Precipitation by State\")\n",
        "ax.set_axis_off()"
      ],
      "metadata": {
        "id": "BTlUaIXgP0Q7"
      },
      "execution_count": null,
      "outputs": []
    },
    {
      "cell_type": "markdown",
      "source": [
        "#### Surface Pressure by State"
      ],
      "metadata": {
        "id": "VGZQ5iMSP0VI"
      }
    },
    {
      "cell_type": "code",
      "source": [
        "fig, ax = plt.subplots(figsize = (12, 8))\n",
        "\n",
        "gdf.boundary.plot(edgecolor = \"black\",\n",
        "                  linewidth = 0.7,\n",
        "                  ax = ax)\n",
        "\n",
        "gdf.plot(column = \"SURFACE_PRESSURE\",\n",
        "         legend = True,\n",
        "         scheme = 'quantiles',\n",
        "         ax = ax)\n",
        "\n",
        "ax.set_title(\"Surface Pressure by State\")\n",
        "ax.set_axis_off()"
      ],
      "metadata": {
        "id": "Gun1XjKqP0ZJ"
      },
      "execution_count": null,
      "outputs": []
    },
    {
      "cell_type": "markdown",
      "source": [
        "#### Cloud Cover by State"
      ],
      "metadata": {
        "id": "xdPIa8SpP0cj"
      }
    },
    {
      "cell_type": "code",
      "source": [
        "fig, ax = plt.subplots(figsize = (12, 8))\n",
        "\n",
        "gdf.boundary.plot(edgecolor = \"black\",\n",
        "                  linewidth = 0.7,\n",
        "                  ax = ax)\n",
        "\n",
        "gdf.plot(column = \"CLOUD_COVER\",\n",
        "         legend = True,\n",
        "         scheme = 'quantiles',\n",
        "         ax = ax)\n",
        "\n",
        "ax.set_title(\"Cloud Cover by State\")\n",
        "ax.set_axis_off()"
      ],
      "metadata": {
        "id": "CZLz002FP-jm"
      },
      "execution_count": null,
      "outputs": []
    },
    {
      "cell_type": "markdown",
      "source": [
        "#### Wind Speed 10m Above by State"
      ],
      "metadata": {
        "id": "pM_yCLXmP-qe"
      }
    },
    {
      "cell_type": "code",
      "source": [
        "fig, ax = plt.subplots(figsize = (12, 8))\n",
        "\n",
        "gdf.boundary.plot(edgecolor = \"black\",\n",
        "                  linewidth = 0.7,\n",
        "                  ax = ax)\n",
        "\n",
        "gdf.plot(column = \"WIND_SPEED_10M\",\n",
        "         legend = True,\n",
        "         scheme = 'quantiles',\n",
        "         ax = ax)\n",
        "\n",
        "ax.set_title(\"Wind Speed 10m Above by State\")\n",
        "ax.set_axis_off()"
      ],
      "metadata": {
        "id": "EiO9lqo7P-t3"
      },
      "execution_count": null,
      "outputs": []
    },
    {
      "cell_type": "markdown",
      "source": [
        "#### Wind Speed 100m Above by State"
      ],
      "metadata": {
        "id": "uok8vnXCP-xT"
      }
    },
    {
      "cell_type": "code",
      "source": [
        "fig, ax = plt.subplots(figsize = (12, 8))\n",
        "\n",
        "gdf.boundary.plot(edgecolor = \"black\",\n",
        "                  linewidth = 0.7,\n",
        "                  ax = ax)\n",
        "\n",
        "gdf.plot(column = \"WIND_SPEED_100M\",\n",
        "         legend = True,\n",
        "         scheme = 'quantiles',\n",
        "         ax = ax)\n",
        "\n",
        "ax.set_title(\"Wind Speed 100m Above by State\")\n",
        "ax.set_axis_off()"
      ],
      "metadata": {
        "id": "PfQSwRfyP-0W"
      },
      "execution_count": null,
      "outputs": []
    },
    {
      "cell_type": "markdown",
      "source": [
        "#### Wind Gusts 10m Above by State"
      ],
      "metadata": {
        "id": "-rDMNZt-P-3U"
      }
    },
    {
      "cell_type": "code",
      "source": [
        "fig, ax = plt.subplots(figsize = (12, 8))\n",
        "\n",
        "gdf.boundary.plot(edgecolor = \"black\",\n",
        "                  linewidth = 0.7,\n",
        "                  ax = ax)\n",
        "\n",
        "gdf.plot(column = \"WIND_GUSTS_10M\",\n",
        "         legend = True,\n",
        "         scheme = 'quantiles',\n",
        "         ax = ax)\n",
        "\n",
        "ax.set_title(\"Wind Gusts 10m Above by State\")\n",
        "ax.set_axis_off()"
      ],
      "metadata": {
        "id": "y7iPbxphQHDt"
      },
      "execution_count": null,
      "outputs": []
    },
    {
      "cell_type": "markdown",
      "source": [
        "# Some Basic Modeling"
      ],
      "metadata": {
        "id": "cblM6xk_QdWy"
      }
    },
    {
      "cell_type": "markdown",
      "source": [
        "## Preprocessing"
      ],
      "metadata": {
        "id": "8--cYcSO8SkW"
      }
    },
    {
      "cell_type": "markdown",
      "source": [
        "Create smaller sample to test with."
      ],
      "metadata": {
        "id": "ygL465py_M0P"
      }
    },
    {
      "cell_type": "code",
      "source": [
        "to_work = data.sample(n = 500000, random_state = 13)\n",
        "\n",
        "# print out to verify\n",
        "to_work"
      ],
      "metadata": {
        "colab": {
          "base_uri": "https://localhost:8080/",
          "height": 617
        },
        "id": "SHvWefpt_KRb",
        "outputId": "7a4d6a59-a380-457a-b515-1143a90a7e8c"
      },
      "execution_count": 25,
      "outputs": [
        {
          "output_type": "execute_result",
          "data": {
            "text/plain": [
              "          LONGITUDE   LATITUDE        DISCOVERY_DATE_x              TIME  \\\n",
              "244965  -122.683333  44.400000  2005/07/22 00:00:00+00  2005-07-14T21:00   \n",
              "1373575 -121.281111  43.888056  2006/07/09 00:00:00+00  2006-07-02T07:00   \n",
              "83053   -106.677500  36.284167  2005/07/16 00:00:00+00  2005-07-12T13:00   \n",
              "627203  -113.735000  45.831944  2005/08/09 00:00:00+00  2005-07-29T11:00   \n",
              "807705  -113.901667  46.785278  2005/08/22 00:00:00+00  2005-08-17T09:00   \n",
              "...             ...        ...                     ...               ...   \n",
              "283188  -103.675556  43.633056  2005/08/27 00:00:00+00  2005-08-22T12:00   \n",
              "60309   -111.384444  35.252778  2005/05/30 00:00:00+00  2005-05-23T21:00   \n",
              "297611  -111.587500  35.304167  2005/07/23 00:00:00+00  2005-07-19T11:00   \n",
              "5406    -105.512222  33.315833  2004/07/20 00:00:00+00  2004-07-06T06:00   \n",
              "914947  -105.713889  33.720556  2005/07/10 00:00:00+00  2005-07-03T19:00   \n",
              "\n",
              "         TEMPERATURE  RELATIVE_HUMIDITY  PRECIPITATION  SURFACE_PRESSURE  \\\n",
              "244965          25.6                 44            0.0             994.1   \n",
              "1373575         15.9                 65            0.0             852.6   \n",
              "83053           14.3                 49            0.0             787.3   \n",
              "627203           6.7                 64            0.0             749.1   \n",
              "807705          12.8                 39            0.0             833.6   \n",
              "...              ...                ...            ...               ...   \n",
              "283188          15.8                 73            0.0             842.8   \n",
              "60309           31.2                  9            0.0             819.3   \n",
              "297611          18.8                 48            0.0             782.9   \n",
              "5406            15.7                 26            0.0             782.8   \n",
              "914947          29.4                 10            0.0             788.1   \n",
              "\n",
              "         CLOUD_COVER  WIND_SPEED_10M  WIND_SPEED_100M  WIND_GUSTS_10M STATE  \\\n",
              "244965             0            16.9             23.4            40.3    OR   \n",
              "1373575            0             8.9             18.8            19.4    OR   \n",
              "83053              0             8.2             18.1            23.4    NM   \n",
              "627203             0             3.3              2.3             9.0    MT   \n",
              "807705            11             6.5              7.4            16.6    MT   \n",
              "...              ...             ...              ...             ...   ...   \n",
              "283188            25             1.3              8.2            12.2    SD   \n",
              "60309             48            27.7             35.9            54.7    AZ   \n",
              "297611            11             7.9             15.8            25.2    AZ   \n",
              "5406               0             7.5             12.0            16.9    NM   \n",
              "914947             1            18.7             25.7            49.0    NM   \n",
              "\n",
              "         FIRE_SIZE FIRE_SIZE_CLASS  \n",
              "244965        0.10               A  \n",
              "1373575       0.10               A  \n",
              "83053         5.60               B  \n",
              "627203        0.10               A  \n",
              "807705        1.50               B  \n",
              "...            ...             ...  \n",
              "283188        1.10               B  \n",
              "60309         0.25               A  \n",
              "297611        0.10               A  \n",
              "5406         10.00               C  \n",
              "914947        1.50               B  \n",
              "\n",
              "[500000 rows x 15 columns]"
            ],
            "text/html": [
              "\n",
              "  <div id=\"df-dd8d7708-07b2-4e42-aea0-bc41e597e5a3\" class=\"colab-df-container\">\n",
              "    <div>\n",
              "<style scoped>\n",
              "    .dataframe tbody tr th:only-of-type {\n",
              "        vertical-align: middle;\n",
              "    }\n",
              "\n",
              "    .dataframe tbody tr th {\n",
              "        vertical-align: top;\n",
              "    }\n",
              "\n",
              "    .dataframe thead th {\n",
              "        text-align: right;\n",
              "    }\n",
              "</style>\n",
              "<table border=\"1\" class=\"dataframe\">\n",
              "  <thead>\n",
              "    <tr style=\"text-align: right;\">\n",
              "      <th></th>\n",
              "      <th>LONGITUDE</th>\n",
              "      <th>LATITUDE</th>\n",
              "      <th>DISCOVERY_DATE_x</th>\n",
              "      <th>TIME</th>\n",
              "      <th>TEMPERATURE</th>\n",
              "      <th>RELATIVE_HUMIDITY</th>\n",
              "      <th>PRECIPITATION</th>\n",
              "      <th>SURFACE_PRESSURE</th>\n",
              "      <th>CLOUD_COVER</th>\n",
              "      <th>WIND_SPEED_10M</th>\n",
              "      <th>WIND_SPEED_100M</th>\n",
              "      <th>WIND_GUSTS_10M</th>\n",
              "      <th>STATE</th>\n",
              "      <th>FIRE_SIZE</th>\n",
              "      <th>FIRE_SIZE_CLASS</th>\n",
              "    </tr>\n",
              "  </thead>\n",
              "  <tbody>\n",
              "    <tr>\n",
              "      <th>244965</th>\n",
              "      <td>-122.683333</td>\n",
              "      <td>44.400000</td>\n",
              "      <td>2005/07/22 00:00:00+00</td>\n",
              "      <td>2005-07-14T21:00</td>\n",
              "      <td>25.6</td>\n",
              "      <td>44</td>\n",
              "      <td>0.0</td>\n",
              "      <td>994.1</td>\n",
              "      <td>0</td>\n",
              "      <td>16.9</td>\n",
              "      <td>23.4</td>\n",
              "      <td>40.3</td>\n",
              "      <td>OR</td>\n",
              "      <td>0.10</td>\n",
              "      <td>A</td>\n",
              "    </tr>\n",
              "    <tr>\n",
              "      <th>1373575</th>\n",
              "      <td>-121.281111</td>\n",
              "      <td>43.888056</td>\n",
              "      <td>2006/07/09 00:00:00+00</td>\n",
              "      <td>2006-07-02T07:00</td>\n",
              "      <td>15.9</td>\n",
              "      <td>65</td>\n",
              "      <td>0.0</td>\n",
              "      <td>852.6</td>\n",
              "      <td>0</td>\n",
              "      <td>8.9</td>\n",
              "      <td>18.8</td>\n",
              "      <td>19.4</td>\n",
              "      <td>OR</td>\n",
              "      <td>0.10</td>\n",
              "      <td>A</td>\n",
              "    </tr>\n",
              "    <tr>\n",
              "      <th>83053</th>\n",
              "      <td>-106.677500</td>\n",
              "      <td>36.284167</td>\n",
              "      <td>2005/07/16 00:00:00+00</td>\n",
              "      <td>2005-07-12T13:00</td>\n",
              "      <td>14.3</td>\n",
              "      <td>49</td>\n",
              "      <td>0.0</td>\n",
              "      <td>787.3</td>\n",
              "      <td>0</td>\n",
              "      <td>8.2</td>\n",
              "      <td>18.1</td>\n",
              "      <td>23.4</td>\n",
              "      <td>NM</td>\n",
              "      <td>5.60</td>\n",
              "      <td>B</td>\n",
              "    </tr>\n",
              "    <tr>\n",
              "      <th>627203</th>\n",
              "      <td>-113.735000</td>\n",
              "      <td>45.831944</td>\n",
              "      <td>2005/08/09 00:00:00+00</td>\n",
              "      <td>2005-07-29T11:00</td>\n",
              "      <td>6.7</td>\n",
              "      <td>64</td>\n",
              "      <td>0.0</td>\n",
              "      <td>749.1</td>\n",
              "      <td>0</td>\n",
              "      <td>3.3</td>\n",
              "      <td>2.3</td>\n",
              "      <td>9.0</td>\n",
              "      <td>MT</td>\n",
              "      <td>0.10</td>\n",
              "      <td>A</td>\n",
              "    </tr>\n",
              "    <tr>\n",
              "      <th>807705</th>\n",
              "      <td>-113.901667</td>\n",
              "      <td>46.785278</td>\n",
              "      <td>2005/08/22 00:00:00+00</td>\n",
              "      <td>2005-08-17T09:00</td>\n",
              "      <td>12.8</td>\n",
              "      <td>39</td>\n",
              "      <td>0.0</td>\n",
              "      <td>833.6</td>\n",
              "      <td>11</td>\n",
              "      <td>6.5</td>\n",
              "      <td>7.4</td>\n",
              "      <td>16.6</td>\n",
              "      <td>MT</td>\n",
              "      <td>1.50</td>\n",
              "      <td>B</td>\n",
              "    </tr>\n",
              "    <tr>\n",
              "      <th>...</th>\n",
              "      <td>...</td>\n",
              "      <td>...</td>\n",
              "      <td>...</td>\n",
              "      <td>...</td>\n",
              "      <td>...</td>\n",
              "      <td>...</td>\n",
              "      <td>...</td>\n",
              "      <td>...</td>\n",
              "      <td>...</td>\n",
              "      <td>...</td>\n",
              "      <td>...</td>\n",
              "      <td>...</td>\n",
              "      <td>...</td>\n",
              "      <td>...</td>\n",
              "      <td>...</td>\n",
              "    </tr>\n",
              "    <tr>\n",
              "      <th>283188</th>\n",
              "      <td>-103.675556</td>\n",
              "      <td>43.633056</td>\n",
              "      <td>2005/08/27 00:00:00+00</td>\n",
              "      <td>2005-08-22T12:00</td>\n",
              "      <td>15.8</td>\n",
              "      <td>73</td>\n",
              "      <td>0.0</td>\n",
              "      <td>842.8</td>\n",
              "      <td>25</td>\n",
              "      <td>1.3</td>\n",
              "      <td>8.2</td>\n",
              "      <td>12.2</td>\n",
              "      <td>SD</td>\n",
              "      <td>1.10</td>\n",
              "      <td>B</td>\n",
              "    </tr>\n",
              "    <tr>\n",
              "      <th>60309</th>\n",
              "      <td>-111.384444</td>\n",
              "      <td>35.252778</td>\n",
              "      <td>2005/05/30 00:00:00+00</td>\n",
              "      <td>2005-05-23T21:00</td>\n",
              "      <td>31.2</td>\n",
              "      <td>9</td>\n",
              "      <td>0.0</td>\n",
              "      <td>819.3</td>\n",
              "      <td>48</td>\n",
              "      <td>27.7</td>\n",
              "      <td>35.9</td>\n",
              "      <td>54.7</td>\n",
              "      <td>AZ</td>\n",
              "      <td>0.25</td>\n",
              "      <td>A</td>\n",
              "    </tr>\n",
              "    <tr>\n",
              "      <th>297611</th>\n",
              "      <td>-111.587500</td>\n",
              "      <td>35.304167</td>\n",
              "      <td>2005/07/23 00:00:00+00</td>\n",
              "      <td>2005-07-19T11:00</td>\n",
              "      <td>18.8</td>\n",
              "      <td>48</td>\n",
              "      <td>0.0</td>\n",
              "      <td>782.9</td>\n",
              "      <td>11</td>\n",
              "      <td>7.9</td>\n",
              "      <td>15.8</td>\n",
              "      <td>25.2</td>\n",
              "      <td>AZ</td>\n",
              "      <td>0.10</td>\n",
              "      <td>A</td>\n",
              "    </tr>\n",
              "    <tr>\n",
              "      <th>5406</th>\n",
              "      <td>-105.512222</td>\n",
              "      <td>33.315833</td>\n",
              "      <td>2004/07/20 00:00:00+00</td>\n",
              "      <td>2004-07-06T06:00</td>\n",
              "      <td>15.7</td>\n",
              "      <td>26</td>\n",
              "      <td>0.0</td>\n",
              "      <td>782.8</td>\n",
              "      <td>0</td>\n",
              "      <td>7.5</td>\n",
              "      <td>12.0</td>\n",
              "      <td>16.9</td>\n",
              "      <td>NM</td>\n",
              "      <td>10.00</td>\n",
              "      <td>C</td>\n",
              "    </tr>\n",
              "    <tr>\n",
              "      <th>914947</th>\n",
              "      <td>-105.713889</td>\n",
              "      <td>33.720556</td>\n",
              "      <td>2005/07/10 00:00:00+00</td>\n",
              "      <td>2005-07-03T19:00</td>\n",
              "      <td>29.4</td>\n",
              "      <td>10</td>\n",
              "      <td>0.0</td>\n",
              "      <td>788.1</td>\n",
              "      <td>1</td>\n",
              "      <td>18.7</td>\n",
              "      <td>25.7</td>\n",
              "      <td>49.0</td>\n",
              "      <td>NM</td>\n",
              "      <td>1.50</td>\n",
              "      <td>B</td>\n",
              "    </tr>\n",
              "  </tbody>\n",
              "</table>\n",
              "<p>500000 rows × 15 columns</p>\n",
              "</div>\n",
              "    <div class=\"colab-df-buttons\">\n",
              "\n",
              "  <div class=\"colab-df-container\">\n",
              "    <button class=\"colab-df-convert\" onclick=\"convertToInteractive('df-dd8d7708-07b2-4e42-aea0-bc41e597e5a3')\"\n",
              "            title=\"Convert this dataframe to an interactive table.\"\n",
              "            style=\"display:none;\">\n",
              "\n",
              "  <svg xmlns=\"http://www.w3.org/2000/svg\" height=\"24px\" viewBox=\"0 -960 960 960\">\n",
              "    <path d=\"M120-120v-720h720v720H120Zm60-500h600v-160H180v160Zm220 220h160v-160H400v160Zm0 220h160v-160H400v160ZM180-400h160v-160H180v160Zm440 0h160v-160H620v160ZM180-180h160v-160H180v160Zm440 0h160v-160H620v160Z\"/>\n",
              "  </svg>\n",
              "    </button>\n",
              "\n",
              "  <style>\n",
              "    .colab-df-container {\n",
              "      display:flex;\n",
              "      gap: 12px;\n",
              "    }\n",
              "\n",
              "    .colab-df-convert {\n",
              "      background-color: #E8F0FE;\n",
              "      border: none;\n",
              "      border-radius: 50%;\n",
              "      cursor: pointer;\n",
              "      display: none;\n",
              "      fill: #1967D2;\n",
              "      height: 32px;\n",
              "      padding: 0 0 0 0;\n",
              "      width: 32px;\n",
              "    }\n",
              "\n",
              "    .colab-df-convert:hover {\n",
              "      background-color: #E2EBFA;\n",
              "      box-shadow: 0px 1px 2px rgba(60, 64, 67, 0.3), 0px 1px 3px 1px rgba(60, 64, 67, 0.15);\n",
              "      fill: #174EA6;\n",
              "    }\n",
              "\n",
              "    .colab-df-buttons div {\n",
              "      margin-bottom: 4px;\n",
              "    }\n",
              "\n",
              "    [theme=dark] .colab-df-convert {\n",
              "      background-color: #3B4455;\n",
              "      fill: #D2E3FC;\n",
              "    }\n",
              "\n",
              "    [theme=dark] .colab-df-convert:hover {\n",
              "      background-color: #434B5C;\n",
              "      box-shadow: 0px 1px 3px 1px rgba(0, 0, 0, 0.15);\n",
              "      filter: drop-shadow(0px 1px 2px rgba(0, 0, 0, 0.3));\n",
              "      fill: #FFFFFF;\n",
              "    }\n",
              "  </style>\n",
              "\n",
              "    <script>\n",
              "      const buttonEl =\n",
              "        document.querySelector('#df-dd8d7708-07b2-4e42-aea0-bc41e597e5a3 button.colab-df-convert');\n",
              "      buttonEl.style.display =\n",
              "        google.colab.kernel.accessAllowed ? 'block' : 'none';\n",
              "\n",
              "      async function convertToInteractive(key) {\n",
              "        const element = document.querySelector('#df-dd8d7708-07b2-4e42-aea0-bc41e597e5a3');\n",
              "        const dataTable =\n",
              "          await google.colab.kernel.invokeFunction('convertToInteractive',\n",
              "                                                    [key], {});\n",
              "        if (!dataTable) return;\n",
              "\n",
              "        const docLinkHtml = 'Like what you see? Visit the ' +\n",
              "          '<a target=\"_blank\" href=https://colab.research.google.com/notebooks/data_table.ipynb>data table notebook</a>'\n",
              "          + ' to learn more about interactive tables.';\n",
              "        element.innerHTML = '';\n",
              "        dataTable['output_type'] = 'display_data';\n",
              "        await google.colab.output.renderOutput(dataTable, element);\n",
              "        const docLink = document.createElement('div');\n",
              "        docLink.innerHTML = docLinkHtml;\n",
              "        element.appendChild(docLink);\n",
              "      }\n",
              "    </script>\n",
              "  </div>\n",
              "\n",
              "\n",
              "<div id=\"df-af713d6e-5d6f-47e9-9490-cd88435512f9\">\n",
              "  <button class=\"colab-df-quickchart\" onclick=\"quickchart('df-af713d6e-5d6f-47e9-9490-cd88435512f9')\"\n",
              "            title=\"Suggest charts\"\n",
              "            style=\"display:none;\">\n",
              "\n",
              "<svg xmlns=\"http://www.w3.org/2000/svg\" height=\"24px\"viewBox=\"0 0 24 24\"\n",
              "     width=\"24px\">\n",
              "    <g>\n",
              "        <path d=\"M19 3H5c-1.1 0-2 .9-2 2v14c0 1.1.9 2 2 2h14c1.1 0 2-.9 2-2V5c0-1.1-.9-2-2-2zM9 17H7v-7h2v7zm4 0h-2V7h2v10zm4 0h-2v-4h2v4z\"/>\n",
              "    </g>\n",
              "</svg>\n",
              "  </button>\n",
              "\n",
              "<style>\n",
              "  .colab-df-quickchart {\n",
              "      --bg-color: #E8F0FE;\n",
              "      --fill-color: #1967D2;\n",
              "      --hover-bg-color: #E2EBFA;\n",
              "      --hover-fill-color: #174EA6;\n",
              "      --disabled-fill-color: #AAA;\n",
              "      --disabled-bg-color: #DDD;\n",
              "  }\n",
              "\n",
              "  [theme=dark] .colab-df-quickchart {\n",
              "      --bg-color: #3B4455;\n",
              "      --fill-color: #D2E3FC;\n",
              "      --hover-bg-color: #434B5C;\n",
              "      --hover-fill-color: #FFFFFF;\n",
              "      --disabled-bg-color: #3B4455;\n",
              "      --disabled-fill-color: #666;\n",
              "  }\n",
              "\n",
              "  .colab-df-quickchart {\n",
              "    background-color: var(--bg-color);\n",
              "    border: none;\n",
              "    border-radius: 50%;\n",
              "    cursor: pointer;\n",
              "    display: none;\n",
              "    fill: var(--fill-color);\n",
              "    height: 32px;\n",
              "    padding: 0;\n",
              "    width: 32px;\n",
              "  }\n",
              "\n",
              "  .colab-df-quickchart:hover {\n",
              "    background-color: var(--hover-bg-color);\n",
              "    box-shadow: 0 1px 2px rgba(60, 64, 67, 0.3), 0 1px 3px 1px rgba(60, 64, 67, 0.15);\n",
              "    fill: var(--button-hover-fill-color);\n",
              "  }\n",
              "\n",
              "  .colab-df-quickchart-complete:disabled,\n",
              "  .colab-df-quickchart-complete:disabled:hover {\n",
              "    background-color: var(--disabled-bg-color);\n",
              "    fill: var(--disabled-fill-color);\n",
              "    box-shadow: none;\n",
              "  }\n",
              "\n",
              "  .colab-df-spinner {\n",
              "    border: 2px solid var(--fill-color);\n",
              "    border-color: transparent;\n",
              "    border-bottom-color: var(--fill-color);\n",
              "    animation:\n",
              "      spin 1s steps(1) infinite;\n",
              "  }\n",
              "\n",
              "  @keyframes spin {\n",
              "    0% {\n",
              "      border-color: transparent;\n",
              "      border-bottom-color: var(--fill-color);\n",
              "      border-left-color: var(--fill-color);\n",
              "    }\n",
              "    20% {\n",
              "      border-color: transparent;\n",
              "      border-left-color: var(--fill-color);\n",
              "      border-top-color: var(--fill-color);\n",
              "    }\n",
              "    30% {\n",
              "      border-color: transparent;\n",
              "      border-left-color: var(--fill-color);\n",
              "      border-top-color: var(--fill-color);\n",
              "      border-right-color: var(--fill-color);\n",
              "    }\n",
              "    40% {\n",
              "      border-color: transparent;\n",
              "      border-right-color: var(--fill-color);\n",
              "      border-top-color: var(--fill-color);\n",
              "    }\n",
              "    60% {\n",
              "      border-color: transparent;\n",
              "      border-right-color: var(--fill-color);\n",
              "    }\n",
              "    80% {\n",
              "      border-color: transparent;\n",
              "      border-right-color: var(--fill-color);\n",
              "      border-bottom-color: var(--fill-color);\n",
              "    }\n",
              "    90% {\n",
              "      border-color: transparent;\n",
              "      border-bottom-color: var(--fill-color);\n",
              "    }\n",
              "  }\n",
              "</style>\n",
              "\n",
              "  <script>\n",
              "    async function quickchart(key) {\n",
              "      const quickchartButtonEl =\n",
              "        document.querySelector('#' + key + ' button');\n",
              "      quickchartButtonEl.disabled = true;  // To prevent multiple clicks.\n",
              "      quickchartButtonEl.classList.add('colab-df-spinner');\n",
              "      try {\n",
              "        const charts = await google.colab.kernel.invokeFunction(\n",
              "            'suggestCharts', [key], {});\n",
              "      } catch (error) {\n",
              "        console.error('Error during call to suggestCharts:', error);\n",
              "      }\n",
              "      quickchartButtonEl.classList.remove('colab-df-spinner');\n",
              "      quickchartButtonEl.classList.add('colab-df-quickchart-complete');\n",
              "    }\n",
              "    (() => {\n",
              "      let quickchartButtonEl =\n",
              "        document.querySelector('#df-af713d6e-5d6f-47e9-9490-cd88435512f9 button');\n",
              "      quickchartButtonEl.style.display =\n",
              "        google.colab.kernel.accessAllowed ? 'block' : 'none';\n",
              "    })();\n",
              "  </script>\n",
              "</div>\n",
              "\n",
              "  <div id=\"id_12efc8b4-0624-4114-bb4b-e21683cff05f\">\n",
              "    <style>\n",
              "      .colab-df-generate {\n",
              "        background-color: #E8F0FE;\n",
              "        border: none;\n",
              "        border-radius: 50%;\n",
              "        cursor: pointer;\n",
              "        display: none;\n",
              "        fill: #1967D2;\n",
              "        height: 32px;\n",
              "        padding: 0 0 0 0;\n",
              "        width: 32px;\n",
              "      }\n",
              "\n",
              "      .colab-df-generate:hover {\n",
              "        background-color: #E2EBFA;\n",
              "        box-shadow: 0px 1px 2px rgba(60, 64, 67, 0.3), 0px 1px 3px 1px rgba(60, 64, 67, 0.15);\n",
              "        fill: #174EA6;\n",
              "      }\n",
              "\n",
              "      [theme=dark] .colab-df-generate {\n",
              "        background-color: #3B4455;\n",
              "        fill: #D2E3FC;\n",
              "      }\n",
              "\n",
              "      [theme=dark] .colab-df-generate:hover {\n",
              "        background-color: #434B5C;\n",
              "        box-shadow: 0px 1px 3px 1px rgba(0, 0, 0, 0.15);\n",
              "        filter: drop-shadow(0px 1px 2px rgba(0, 0, 0, 0.3));\n",
              "        fill: #FFFFFF;\n",
              "      }\n",
              "    </style>\n",
              "    <button class=\"colab-df-generate\" onclick=\"generateWithVariable('to_work')\"\n",
              "            title=\"Generate code using this dataframe.\"\n",
              "            style=\"display:none;\">\n",
              "\n",
              "  <svg xmlns=\"http://www.w3.org/2000/svg\" height=\"24px\"viewBox=\"0 0 24 24\"\n",
              "       width=\"24px\">\n",
              "    <path d=\"M7,19H8.4L18.45,9,17,7.55,7,17.6ZM5,21V16.75L18.45,3.32a2,2,0,0,1,2.83,0l1.4,1.43a1.91,1.91,0,0,1,.58,1.4,1.91,1.91,0,0,1-.58,1.4L9.25,21ZM18.45,9,17,7.55Zm-12,3A5.31,5.31,0,0,0,4.9,8.1,5.31,5.31,0,0,0,1,6.5,5.31,5.31,0,0,0,4.9,4.9,5.31,5.31,0,0,0,6.5,1,5.31,5.31,0,0,0,8.1,4.9,5.31,5.31,0,0,0,12,6.5,5.46,5.46,0,0,0,6.5,12Z\"/>\n",
              "  </svg>\n",
              "    </button>\n",
              "    <script>\n",
              "      (() => {\n",
              "      const buttonEl =\n",
              "        document.querySelector('#id_12efc8b4-0624-4114-bb4b-e21683cff05f button.colab-df-generate');\n",
              "      buttonEl.style.display =\n",
              "        google.colab.kernel.accessAllowed ? 'block' : 'none';\n",
              "\n",
              "      buttonEl.onclick = () => {\n",
              "        google.colab.notebook.generateWithVariable('to_work');\n",
              "      }\n",
              "      })();\n",
              "    </script>\n",
              "  </div>\n",
              "\n",
              "    </div>\n",
              "  </div>\n"
            ],
            "application/vnd.google.colaboratory.intrinsic+json": {
              "type": "dataframe",
              "variable_name": "to_work"
            }
          },
          "metadata": {},
          "execution_count": 25
        }
      ]
    },
    {
      "cell_type": "code",
      "source": [
        "to_work.columns"
      ],
      "metadata": {
        "colab": {
          "base_uri": "https://localhost:8080/"
        },
        "id": "utzsgbvZ_vzN",
        "outputId": "72a14b09-e00b-4384-b94b-adf84aba5653"
      },
      "execution_count": 26,
      "outputs": [
        {
          "output_type": "execute_result",
          "data": {
            "text/plain": [
              "Index(['LONGITUDE', 'LATITUDE', 'DISCOVERY_DATE_x', 'TIME', 'TEMPERATURE',\n",
              "       'RELATIVE_HUMIDITY', 'PRECIPITATION', 'SURFACE_PRESSURE', 'CLOUD_COVER',\n",
              "       'WIND_SPEED_10M', 'WIND_SPEED_100M', 'WIND_GUSTS_10M', 'STATE',\n",
              "       'FIRE_SIZE', 'FIRE_SIZE_CLASS'],\n",
              "      dtype='object')"
            ]
          },
          "metadata": {},
          "execution_count": 26
        }
      ]
    },
    {
      "cell_type": "code",
      "source": [
        "to_keep = [\"TEMPERATURE\", \"RELATIVE_HUMIDITY\",\n",
        "           \"PRECIPITATION\", \"SURFACE_PRESSURE\",\n",
        "           \"CLOUD_COVER\", \"WIND_SPEED_10M\",\n",
        "           \"WIND_SPEED_100M\", \"WIND_GUSTS_10M\"]\n",
        "target = [\"FIRE_SIZE_CLASS\"]\n",
        "\n",
        "# perform split\n",
        "x = to_work[to_keep].copy()\n",
        "y = to_work[target].copy()\n",
        "\n",
        "X_train, X_test, y_train, y_test = train_test_split(x, y,\n",
        "                                                    test_size = 0.3,\n",
        "                                                    random_state = 13)\n",
        "\n",
        "# check shapes\n",
        "X_train.shape, X_test.shape, y_train.shape, y_test.shape"
      ],
      "metadata": {
        "colab": {
          "base_uri": "https://localhost:8080/"
        },
        "id": "r8APe-0O8R-3",
        "outputId": "877d87cb-c43d-46e1-8a69-a3b37abe2af8"
      },
      "execution_count": 28,
      "outputs": [
        {
          "output_type": "execute_result",
          "data": {
            "text/plain": [
              "((350000, 8), (150000, 8), (350000, 1), (150000, 1))"
            ]
          },
          "metadata": {},
          "execution_count": 28
        }
      ]
    },
    {
      "cell_type": "code",
      "source": [
        "# standardize\n",
        "scaler = StandardScaler()\n",
        "\n",
        "X_train_standard = scaler.fit_transform(X_train)\n",
        "X_train_standard = pd.DataFrame(X_train_standard,\n",
        "                                index = X_train.index,\n",
        "                                columns = X_train.columns)\n",
        "\n",
        "X_test_standard = scaler.transform(X_test)\n",
        "X_test_standard = pd.DataFrame(X_test_standard,\n",
        "                               index = X_test.index,\n",
        "                               columns = X_test.columns)"
      ],
      "metadata": {
        "id": "hHHaksHhQf6J"
      },
      "execution_count": 30,
      "outputs": []
    },
    {
      "cell_type": "markdown",
      "source": [
        "## Decision Tree Classifier"
      ],
      "metadata": {
        "id": "ho_cRLytA-c7"
      }
    },
    {
      "cell_type": "code",
      "source": [
        "dtc = DecisionTreeClassifier(random_state = 13)\n",
        "dtc.fit(X_train_standard, y_train)\n",
        "\n",
        "y_pred_dtc = dtc.predict(X_test_standard)\n",
        "\n",
        "# basic accuracy score\n",
        "dtc_acc = accuracy_score(y_test, y_pred_dtc)\n",
        "\n",
        "print(\"Basic Accuracy Decision Tree Classifier: \", dtc_acc)"
      ],
      "metadata": {
        "colab": {
          "base_uri": "https://localhost:8080/"
        },
        "id": "JHX_fjAVA-hG",
        "outputId": "a2b80d4a-a7a7-4de9-ccbe-0f6eab60acff"
      },
      "execution_count": 31,
      "outputs": [
        {
          "output_type": "stream",
          "name": "stdout",
          "text": [
            "Basic Accuracy Decision Tree Classifier:  0.5714733333333334\n"
          ]
        }
      ]
    },
    {
      "cell_type": "markdown",
      "source": [
        "## Random Forest Classifier"
      ],
      "metadata": {
        "id": "7PtSTeNyBA3z"
      }
    },
    {
      "cell_type": "code",
      "source": [
        "rfc = RandomForestClassifier(random_state = 13)\n",
        "rfc.fit(X_train_standard, y_train)\n",
        "\n",
        "y_pred_rfc = rfc.predict(X_test_standard)\n",
        "\n",
        "# basic accuracy score\n",
        "rfc_acc = accuracy_score(y_test, y_pred_rfc)\n",
        "\n",
        "print(\"Basic Accuracy Random Forest Classifier: \", rfc_acc)"
      ],
      "metadata": {
        "colab": {
          "base_uri": "https://localhost:8080/"
        },
        "id": "0fC_OOpOBA9i",
        "outputId": "e57f4991-fe08-4dc7-abc8-1b87fe13a4f1"
      },
      "execution_count": 32,
      "outputs": [
        {
          "output_type": "stream",
          "name": "stderr",
          "text": [
            "<ipython-input-32-017928b70b14>:2: DataConversionWarning: A column-vector y was passed when a 1d array was expected. Please change the shape of y to (n_samples,), for example using ravel().\n",
            "  rfc.fit(X_train_standard, y_train)\n"
          ]
        },
        {
          "output_type": "stream",
          "name": "stdout",
          "text": [
            "Basic Accuracy Random Forest Classifier:  0.6955\n"
          ]
        }
      ]
    },
    {
      "cell_type": "markdown",
      "source": [
        "## K Nearest Neighbors"
      ],
      "metadata": {
        "id": "rgBMRhEKBBDI"
      }
    },
    {
      "cell_type": "code",
      "source": [
        "knc = KNeighborsClassifier(n_neighbors = 3)\n",
        "knc.fit(X_train, y_train)\n",
        "\n",
        "y_pred_knc = knc.predict(X_test)\n",
        "\n",
        "# basic accuracy score\n",
        "knc_acc = accuracy_score(y_test, y_pred_knc)\n",
        "\n",
        "print(\"Basic Accuracy K Neighbors Classifier: \", knc_acc)"
      ],
      "metadata": {
        "colab": {
          "base_uri": "https://localhost:8080/"
        },
        "id": "tvvhkzAeBBHA",
        "outputId": "6fa9e46d-ea3e-4f57-bc03-305be3e04cea"
      },
      "execution_count": 33,
      "outputs": [
        {
          "output_type": "stream",
          "name": "stderr",
          "text": [
            "/usr/local/lib/python3.10/dist-packages/sklearn/neighbors/_classification.py:215: DataConversionWarning: A column-vector y was passed when a 1d array was expected. Please change the shape of y to (n_samples,), for example using ravel().\n",
            "  return self._fit(X, y)\n"
          ]
        },
        {
          "output_type": "stream",
          "name": "stdout",
          "text": [
            "Basic Accuracy K Neighbors Classifier:  0.65506\n"
          ]
        }
      ]
    }
  ]
}